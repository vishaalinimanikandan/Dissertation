{
 "cells": [
  {
   "cell_type": "markdown",
   "id": "aad545d1",
   "metadata": {},
   "source": [
    "### GPT-4o Robustness Analysis: Comprehensive Extraction Pipeline\n"
   ]
  },
  {
   "cell_type": "code",
   "execution_count": 1,
   "id": "b721a829",
   "metadata": {},
   "outputs": [
    {
     "name": "stdout",
     "output_type": "stream",
     "text": [
      "================================================================================\n",
      " GPT-4O EXTRACTION PIPELINE\n",
      " Systematic Chart Data Extraction for Robustness Analysis\n",
      "================================================================================\n"
     ]
    }
   ],
   "source": [
    "import os\n",
    "import json\n",
    "import base64\n",
    "import pandas as pd\n",
    "import numpy as np\n",
    "from datetime import datetime\n",
    "import time\n",
    "import logging\n",
    "from pathlib import Path\n",
    "import openai\n",
    "from dotenv import load_dotenv\n",
    "import random\n",
    "from PIL import Image\n",
    "import traceback\n",
    "\n",
    "# Set random seed for reproducibility\n",
    "random.seed(42)\n",
    "\n",
    "print(\"=\" * 80)\n",
    "print(\" GPT-4O EXTRACTION PIPELINE\")\n",
    "print(\" Systematic Chart Data Extraction for Robustness Analysis\")\n",
    "print(\"=\" * 80)\n",
    "\n",
    "# Setup logging\n",
    "logger = logging.getLogger('research')\n"
   ]
  },
  {
   "cell_type": "markdown",
   "id": "e19e6658",
   "metadata": {},
   "source": [
    "### SECTION 1: EXTRACTION CONFIGURATION"
   ]
  },
  {
   "cell_type": "code",
   "execution_count": 5,
   "id": "6bc8520b",
   "metadata": {},
   "outputs": [
    {
     "name": "stdout",
     "output_type": "stream",
     "text": [
      "\n",
      " SECTION 1: EXTRACTION CONFIGURATION\n",
      " Loaded perturbation summary\n",
      " Loaded research configuration\n",
      "   Max Possible Extractions: 3166\n"
     ]
    }
   ],
   "source": [
    "print(\"\\n SECTION 1: EXTRACTION CONFIGURATION\")\n",
    "\n",
    "# Load environment and API setup\n",
    "load_dotenv()\n",
    "OPENAI_API_KEY = os.getenv('OPENAI_API_KEY')\n",
    "\n",
    "if not OPENAI_API_KEY or OPENAI_API_KEY == \"your-openai-api-key-here\":\n",
    "    print(\" OpenAI API key not configured!\")\n",
    "    print(\" Please add your API key to .env file\")\n",
    "    print(\" Create .env file with: OPENAI_API_KEY=your-actual-key\")\n",
    "    exit(1)\n",
    "\n",
    "# Initialize OpenAI client\n",
    "client = openai.OpenAI(api_key=OPENAI_API_KEY)\n",
    "\n",
    "# Load previous phase summaries\n",
    "try:\n",
    "    with open('data/analysis_cache/perturbation_summary.json', 'r') as f:\n",
    "        perturbation_summary = json.load(f)\n",
    "    print(\" Loaded perturbation summary\")\n",
    "except FileNotFoundError:\n",
    "    print(\" Perturbation summary not found - using defaults\")\n",
    "    perturbation_summary = {\n",
    "        'total_perturbations_available': 800,\n",
    "        'budget_planning': {'estimated_total_cost': 36.00}\n",
    "    }\n",
    "\n",
    "try:\n",
    "    with open('research_config.json', 'r') as f:\n",
    "        research_config = json.load(f)\n",
    "    print(\" Loaded research configuration\")\n",
    "except FileNotFoundError:\n",
    "    print(\" Research configuration not found!\")\n",
    "    exit(1)\n",
    "\n",
    "# Extraction configuration\n",
    "EXTRACTION_CONFIG = {\n",
    "    \"model_settings\": {\n",
    "        \"model\": \"gpt-4o\",\n",
    "        \"max_tokens\": 2000,\n",
    "        \"temperature\": 0.1,\n",
    "        \"timeout\": 30,\n",
    "        \"max_retries\": 3,\n",
    "        \"retry_delay\": 2\n",
    "    },\n",
    "    \"budget_management\": {\n",
    "        \"total_budget\": 100.0,\n",
    "        \"cost_per_extraction\": 0.03,\n",
    "        \"safety_buffer\": 5.0,\n",
    "        \"usable_budget\": 95.0\n",
    "    },\n",
    "    \"extraction_strategy\": {\n",
    "        \"phase_1_originals\": 200,\n",
    "        \"phase_2_priority_perturbations\": 1200,\n",
    "        \"phase_3_intensity_analysis\": 0,\n",
    "        \"phase_4_deep_analysis\": 0\n",
    "    },\n",
    "    \"quality_controls\": {\n",
    "        \"min_data_points\": 2,\n",
    "        \"max_extraction_time\": 45,\n",
    "        \"validate_json\": True,\n",
    "        \"save_failed_attempts\": True\n",
    "    }\n",
    "}\n",
    "\n",
    "# print(f\" Budget Management:\")\n",
    "# print(f\"   Total Budget: ${EXTRACTION_CONFIG['budget_management']['total_budget']:.2f}\")\n",
    "# print(f\"   Usable Budget: ${EXTRACTION_CONFIG['budget_management']['usable_budget']:.2f}\")\n",
    "# print(f\"   Cost per Extraction: ${EXTRACTION_CONFIG['budget_management']['cost_per_extraction']:.2f}\")\n",
    "\n",
    "max_extractions = int(EXTRACTION_CONFIG['budget_management']['usable_budget'] / \n",
    "                     EXTRACTION_CONFIG['budget_management']['cost_per_extraction'])\n",
    "print(f\"   Max Possible Extractions: {max_extractions}\")\n"
   ]
  },
  {
   "cell_type": "markdown",
   "id": "9aa79b84",
   "metadata": {},
   "source": [
    "### SECTION 2: PROFESSIONAL EXTRACTION ENGINE"
   ]
  },
  {
   "cell_type": "code",
   "execution_count": 8,
   "id": "00272e28",
   "metadata": {},
   "outputs": [
    {
     "name": "stdout",
     "output_type": "stream",
     "text": [
      "\n",
      " SECTION 2: PROFESSIONAL EXTRACTION ENGINE\n"
     ]
    }
   ],
   "source": [
    "print(\"\\n SECTION 2: PROFESSIONAL EXTRACTION ENGINE\")\n",
    "\n",
    "class GPT4VisionExtractor:\n",
    "    \"\"\"Professional GPT-4o Vision extraction system with comprehensive features\"\"\"\n",
    "    \n",
    "    def __init__(self, client, config):\n",
    "        self.client = client\n",
    "        self.config = config\n",
    "        \n",
    "        # Performance tracking\n",
    "        self.extraction_stats = {\n",
    "            'total_attempts': 0,\n",
    "            'successful_extractions': 0,\n",
    "            'failed_extractions': 0,\n",
    "            'total_cost': 0.0,\n",
    "            'avg_response_time': 0.0,\n",
    "            'response_times': []\n",
    "        }\n",
    "        \n",
    "        # Error tracking\n",
    "        self.error_log = []\n",
    "        \n",
    "        # Professional extraction prompt\n",
    "        self.extraction_prompt = \"\"\"\n",
    "You are a professional data analyst. Your task is to extract numerical values and associated labels from this chart image with maximum precision and accuracy.\n",
    "\n",
    "CRITICAL REQUIREMENTS:\n",
    "1. Extract ALL visible data points with exact numerical values accurately\n",
    "2. Use the EXACT category/label names shown in the chart\n",
    "3. Identify the chart type accurately\n",
    "4. Report your confidence level honestly\n",
    "5. Note any extraction difficulties\n",
    "\n",
    "Return ONLY a valid JSON object in this EXACT format:\n",
    "{\n",
    "  \"chart_title\": \"Exact title from the chart\",\n",
    "  \"chart_type\": \"bar/pie/line/scatter/area/stacked_bar/grouped_bar\",\n",
    "  \"data\": [\n",
    "    {\"category\": \"Category_1\", \"value\": numeric_value},\n",
    "    {\"category\": \"Category_2\", \"value\": numeric_value}\n",
    "  ],\n",
    "  \"extraction_confidence\": \"high/medium/low\",\n",
    "  \"extraction_notes\": \"Any issues, ambiguities, or observations about the chart\",\n",
    "  \"data_completeness\": \"complete/partial/incomplete\"\n",
    "}\n",
    "\n",
    "IMPORTANT: \n",
    "- For pie charts, ensure percentages sum to approximately 100%\n",
    "- For numeric values, use appropriate precision (1-2 decimal places)\n",
    "- If text is unclear, report \"low\" confidence and note the issue\n",
    "- Extract ALL visible data series if multiple exist\n",
    "\"\"\"\n",
    "    \n",
    "    def extract_data(self, image_path, chart_metadata=None):\n",
    "        \"\"\"Extract data from a single chart with comprehensive error handling\"\"\"\n",
    "        \n",
    "        extraction_id = f\"ext_{int(time.time())}_{random.randint(1000, 9999)}\"\n",
    "        start_time = time.time()\n",
    "        \n",
    "        try:\n",
    "            # Validate image\n",
    "            if not Path(image_path).exists():\n",
    "                raise FileNotFoundError(f\"Image not found: {image_path}\")\n",
    "            \n",
    "            # Encode image\n",
    "            base64_image = self._encode_image(image_path)\n",
    "            \n",
    "            # Prepare API request\n",
    "            messages = [\n",
    "                {\n",
    "                    \"role\": \"user\",\n",
    "                    \"content\": [\n",
    "                        {\"type\": \"text\", \"text\": self.extraction_prompt},\n",
    "                        {\n",
    "                            \"type\": \"image_url\",\n",
    "                            \"image_url\": {\n",
    "                                \"url\": f\"data:image/png;base64,{base64_image}\",\n",
    "                                \"detail\": \"high\"\n",
    "                            }\n",
    "                        }\n",
    "                    ]\n",
    "                }\n",
    "            ]\n",
    "            \n",
    "            # Execute extraction with retries\n",
    "            for attempt in range(self.config['model_settings']['max_retries']):\n",
    "                try:\n",
    "                    self.extraction_stats['total_attempts'] += 1\n",
    "                    \n",
    "                    response = self.client.chat.completions.create(\n",
    "                        model=self.config['model_settings']['model'],\n",
    "                        messages=messages,\n",
    "                        max_tokens=self.config['model_settings']['max_tokens'],\n",
    "                        temperature=self.config['model_settings']['temperature'],\n",
    "                        timeout=self.config['model_settings']['timeout']\n",
    "                    )\n",
    "                    \n",
    "                    # Parse response\n",
    "                    content = response.choices[0].message.content\n",
    "                    extracted_data = self._parse_json_response(content)\n",
    "                    \n",
    "                    if extracted_data:\n",
    "                        # Add metadata\n",
    "                        extracted_data['_extraction_metadata'] = {\n",
    "                            'extraction_id': extraction_id,\n",
    "                            'image_path': str(image_path),\n",
    "                            'extraction_timestamp': datetime.now().isoformat(),\n",
    "                            'model': self.config['model_settings']['model'],\n",
    "                            'attempt_number': attempt + 1,\n",
    "                            'response_time': time.time() - start_time,\n",
    "                            'chart_metadata': chart_metadata\n",
    "                        }\n",
    "                        \n",
    "                        # Validate extraction\n",
    "                        validation_result = self._validate_extraction(extracted_data)\n",
    "                        extracted_data['_validation'] = validation_result\n",
    "                        \n",
    "                        # Update stats\n",
    "                        response_time = time.time() - start_time\n",
    "                        self.extraction_stats['successful_extractions'] += 1\n",
    "                        self.extraction_stats['total_cost'] += self.config['budget_management']['cost_per_extraction']\n",
    "                        self.extraction_stats['response_times'].append(response_time)\n",
    "                        self.extraction_stats['avg_response_time'] = np.mean(self.extraction_stats['response_times'])\n",
    "                        \n",
    "                        logger.info(f\"Successful extraction: {image_path} (attempt {attempt + 1})\")\n",
    "                        return extracted_data\n",
    "                    \n",
    "                except Exception as api_error:\n",
    "                    logger.warning(f\"API attempt {attempt + 1} failed for {image_path}: {api_error}\")\n",
    "                    if attempt < self.config['model_settings']['max_retries'] - 1:\n",
    "                        time.sleep(self.config['model_settings']['retry_delay'] * (attempt + 1))\n",
    "                    else:\n",
    "                        raise api_error\n",
    "            \n",
    "            # If we get here, all retries failed\n",
    "            raise Exception(\"All retry attempts exhausted\")\n",
    "            \n",
    "        except Exception as e:\n",
    "            # Log failure\n",
    "            self.extraction_stats['failed_extractions'] += 1\n",
    "            error_entry = {\n",
    "                'extraction_id': extraction_id,\n",
    "                'image_path': str(image_path),\n",
    "                'error_timestamp': datetime.now().isoformat(),\n",
    "                'error_type': type(e).__name__,\n",
    "                'error_message': str(e),\n",
    "                'response_time': time.time() - start_time\n",
    "            }\n",
    "            self.error_log.append(error_entry)\n",
    "                # Save to CSV if enabled\n",
    "            if self.config['quality_controls'].get(\"log_error_reasons\", False):\n",
    "                import csv\n",
    "                log_csv = Path(\"data/extractions/extraction_errors.csv\")\n",
    "                write_header = not log_csv.exists()\n",
    "\n",
    "                with log_csv.open(\"a\", newline='', encoding=\"utf-8\") as csvfile:\n",
    "                    writer = csv.DictWriter(csvfile, fieldnames=error_entry.keys())\n",
    "                    if write_header:\n",
    "                        writer.writeheader()\n",
    "                    writer.writerow(error_entry)\n",
    "\n",
    "            logger.error(f\"Extraction failed for {image_path}: {e}\")\n",
    "            \n",
    "            # Save failed attempt if configured\n",
    "            if self.config['quality_controls']['save_failed_attempts']:\n",
    "                failed_path = f\"data/extractions/failed_{extraction_id}.json\"\n",
    "                with open(failed_path, 'w') as f:\n",
    "                    json.dump(error_entry, f, indent=2)\n",
    "            \n",
    "            return None\n",
    "    \n",
    "    def _encode_image(self, image_path):\n",
    "        \"\"\"Encode image to base64 with validation\"\"\"\n",
    "        try:\n",
    "            # Validate image first\n",
    "            with Image.open(image_path) as img:\n",
    "                # Ensure RGB mode\n",
    "                if img.mode != 'RGB':\n",
    "                    img = img.convert('RGB')\n",
    "                \n",
    "                # Check reasonable size\n",
    "                if img.size[0] * img.size[1] > 10000000:  # 10MP limit\n",
    "                    # Resize if too large\n",
    "                    img.thumbnail((3000, 3000), Image.Resampling.LANCZOS)\n",
    "            \n",
    "            # Encode to base64\n",
    "            with open(image_path, \"rb\") as image_file:\n",
    "                return base64.b64encode(image_file.read()).decode('utf-8')\n",
    "                \n",
    "        except Exception as e:\n",
    "            raise Exception(f\"Image encoding failed: {e}\")\n",
    "    \n",
    "    def _parse_json_response(self, content):\n",
    "        \"\"\"Parse JSON from GPT-4o response with multiple strategies\"\"\"\n",
    "        \n",
    "        if not content:\n",
    "            return None\n",
    "        \n",
    "        # Strategy 1: Direct JSON parsing\n",
    "        try:\n",
    "            return json.loads(content.strip())\n",
    "        except json.JSONDecodeError:\n",
    "            pass\n",
    "        \n",
    "        # Strategy 2: Extract JSON block\n",
    "        try:\n",
    "            json_start = content.find('{')\n",
    "            json_end = content.rfind('}') + 1\n",
    "            if json_start != -1 and json_end > json_start:\n",
    "                json_str = content[json_start:json_end]\n",
    "                return json.loads(json_str)\n",
    "        except json.JSONDecodeError:\n",
    "            pass\n",
    "        \n",
    "        # Strategy 3: Look for ```json blocks\n",
    "        try:\n",
    "            if '```json' in content:\n",
    "                start = content.find('```json') + 7\n",
    "                end = content.find('```', start)\n",
    "                if end != -1:\n",
    "                    json_str = content[start:end].strip()\n",
    "                    return json.loads(json_str)\n",
    "        except json.JSONDecodeError:\n",
    "            pass\n",
    "        \n",
    "        # Strategy 4: Look for any ``` blocks\n",
    "        try:\n",
    "            if '```' in content:\n",
    "                start = content.find('```') + 3\n",
    "                end = content.find('```', start)\n",
    "                if end != -1:\n",
    "                    json_str = content[start:end].strip()\n",
    "                    return json.loads(json_str)\n",
    "        except json.JSONDecodeError:\n",
    "            pass\n",
    "        \n",
    "        logger.warning(f\"Could not parse JSON from response: {content[:200]}...\")\n",
    "        return None\n",
    "    \n",
    "    def _validate_extraction(self, extracted_data):\n",
    "        \"\"\"Validate extracted data quality\"\"\"\n",
    "        \n",
    "        validation = {\n",
    "            'is_valid': True,\n",
    "            'warnings': [],\n",
    "            'errors': []\n",
    "        }\n",
    "        \n",
    "        # Check required fields\n",
    "        required_fields = ['chart_title', 'chart_type', 'data']\n",
    "        for field in required_fields:\n",
    "            if field not in extracted_data:\n",
    "                validation['errors'].append(f\"Missing required field: {field}\")\n",
    "                validation['is_valid'] = False\n",
    "        \n",
    "        # Validate data structure\n",
    "        if 'data' in extracted_data:\n",
    "            data_points = extracted_data['data']\n",
    "            \n",
    "            if not isinstance(data_points, list):\n",
    "                validation['errors'].append(\"Data field must be a list\")\n",
    "                validation['is_valid'] = False\n",
    "            elif len(data_points) < self.config['quality_controls']['min_data_points']:\n",
    "                validation['warnings'].append(f\"Only {len(data_points)} data points extracted\")\n",
    "            \n",
    "            # Validate individual data points\n",
    "            for i, point in enumerate(data_points):\n",
    "                if not isinstance(point, dict):\n",
    "                    validation['errors'].append(f\"Data point {i} is not a dictionary\")\n",
    "                    continue\n",
    "                \n",
    "                if 'category' not in point:\n",
    "                    validation['errors'].append(f\"Data point {i} missing category\")\n",
    "                if 'value' not in point:\n",
    "                    validation['errors'].append(f\"Data point {i} missing value\")\n",
    "                elif not isinstance(point['value'], (int, float)):\n",
    "                    try:\n",
    "                        float(point['value'])\n",
    "                    except (ValueError, TypeError):\n",
    "                        validation['errors'].append(f\"Data point {i} has invalid value: {point['value']}\")\n",
    "        \n",
    "        # Chart-specific validations\n",
    "        if 'chart_type' in extracted_data and 'data' in extracted_data:\n",
    "            chart_type = extracted_data['chart_type']\n",
    "            data_points = extracted_data['data']\n",
    "            \n",
    "            if chart_type == 'pie':\n",
    "                # Pie chart values should sum to approximately 100%\n",
    "                total_value = sum(point.get('value', 0) for point in data_points \n",
    "                                if isinstance(point.get('value'), (int, float)))\n",
    "                if not (85 <= total_value <= 115):\n",
    "                    validation['warnings'].append(f\"Pie chart values sum to {total_value:.1f}%, expected ~100%\")\n",
    "        \n",
    "        return validation\n",
    "    \n",
    "    def get_extraction_statistics(self):\n",
    "        \"\"\"Get comprehensive extraction statistics\"\"\"\n",
    "        \n",
    "        total_attempts = self.extraction_stats['total_attempts']\n",
    "        successful = self.extraction_stats['successful_extractions']\n",
    "        failed = self.extraction_stats['failed_extractions']\n",
    "        \n",
    "        stats = {\n",
    "            'total_attempts': total_attempts,\n",
    "            'successful_extractions': successful,\n",
    "            'failed_extractions': failed,\n",
    "            'success_rate': (successful / max(1, total_attempts)) * 100,\n",
    "            'total_cost': self.extraction_stats['total_cost'],\n",
    "            'avg_response_time': self.extraction_stats['avg_response_time'],\n",
    "            'remaining_budget': (self.config['budget_management']['usable_budget'] - \n",
    "                               self.extraction_stats['total_cost']),\n",
    "            'estimated_remaining_extractions': int((self.config['budget_management']['usable_budget'] - \n",
    "                                                  self.extraction_stats['total_cost']) / \n",
    "                                                 self.config['budget_management']['cost_per_extraction'])\n",
    "        }\n",
    "        \n",
    "        return stats\n"
   ]
  },
  {
   "cell_type": "markdown",
   "id": "8436f8d5",
   "metadata": {},
   "source": [
    "### SECTION 3: STRATEGIC EXTRACTION EXECUTION"
   ]
  },
  {
   "cell_type": "code",
   "execution_count": 9,
   "id": "d74325bb",
   "metadata": {},
   "outputs": [
    {
     "name": "stdout",
     "output_type": "stream",
     "text": [
      "\n",
      " SECTION 3: STRATEGIC EXTRACTION EXECUTION\n",
      " Starting strategic extraction pipeline...\n",
      " Loaded 200 chart configurations\n",
      "\n",
      " STARTING STRATEGIC EXTRACTION\n",
      " Budget: $95.00\n",
      " Target: ~3166 extractions\n",
      "\n",
      " PHASE 1: ORIGINAL CHARTS EXTRACTION\n",
      "Processing 200 original charts...\n",
      "Extracting 1/200: chart_001_complex_bar\n",
      "    Success (Cost: $0.00)\n",
      "Extracting 2/200: chart_002_medium_bar\n",
      "    Success (Cost: $0.03)\n",
      "Extracting 3/200: chart_003_medium_bar\n",
      "    Success (Cost: $0.06)\n",
      "Extracting 4/200: chart_004_complex_pie\n",
      "    Success (Cost: $0.09)\n",
      "Extracting 5/200: chart_005_complex_bar\n",
      "    Success (Cost: $0.12)\n",
      "Extracting 6/200: chart_006_medium_bar\n",
      "    Success (Cost: $0.15)\n",
      "Extracting 7/200: chart_007_medium_line\n",
      "    Success (Cost: $0.18)\n",
      "Extracting 8/200: chart_008_advanced_pie\n",
      "    Success (Cost: $0.21)\n",
      "Extracting 9/200: chart_009_medium_bar\n",
      "    Success (Cost: $0.24)\n",
      "Extracting 10/200: chart_010_complex_bar\n",
      "    Success (Cost: $0.27)\n",
      "    Progress: 10/10 ($0.30 spent)\n",
      "Extracting 11/200: chart_011_advanced_scatter\n",
      "    Success (Cost: $0.30)\n",
      "Extracting 12/200: chart_012_complex_line\n",
      "    Success (Cost: $0.33)\n",
      "Extracting 13/200: chart_013_complex_pie\n",
      "    Success (Cost: $0.36)\n",
      "Extracting 14/200: chart_014_complex_bar\n",
      "    Success (Cost: $0.39)\n",
      "Extracting 15/200: chart_015_advanced_pie\n",
      "    Success (Cost: $0.42)\n",
      "Extracting 16/200: chart_016_medium_scatter\n",
      "    Success (Cost: $0.45)\n",
      "Extracting 17/200: chart_017_advanced_line\n",
      "    Success (Cost: $0.48)\n",
      "Extracting 18/200: chart_018_advanced_bar\n",
      "    Success (Cost: $0.51)\n",
      "Extracting 19/200: chart_019_complex_bar\n",
      "    Success (Cost: $0.54)\n",
      "Extracting 20/200: chart_020_complex_line\n",
      "    Success (Cost: $0.57)\n",
      "    Progress: 20/20 ($0.60 spent)\n",
      "Extracting 21/200: chart_021_medium_area\n",
      "    Success (Cost: $0.60)\n",
      "Extracting 22/200: chart_022_complex_scatter\n",
      "    Success (Cost: $0.63)\n",
      "Extracting 23/200: chart_023_complex_line\n",
      "    Success (Cost: $0.66)\n",
      "Extracting 24/200: chart_024_advanced_scatter\n",
      "    Success (Cost: $0.69)\n",
      "Extracting 25/200: chart_025_medium_scatter\n",
      "    Success (Cost: $0.72)\n",
      "Extracting 26/200: chart_026_medium_bar\n",
      "    Success (Cost: $0.75)\n",
      "Extracting 27/200: chart_027_complex_bar\n",
      "    Success (Cost: $0.78)\n",
      "Extracting 28/200: chart_028_medium_scatter\n",
      "    Success (Cost: $0.81)\n",
      "Extracting 29/200: chart_029_complex_line\n",
      "    Success (Cost: $0.84)\n",
      "Extracting 30/200: chart_030_medium_bar\n",
      "    Success (Cost: $0.87)\n",
      "    Progress: 30/30 ($0.90 spent)\n",
      "Extracting 31/200: chart_031_complex_scatter\n",
      "    Success (Cost: $0.90)\n",
      "Extracting 32/200: chart_032_complex_area\n",
      "    Success (Cost: $0.93)\n",
      "Extracting 33/200: chart_033_advanced_area\n",
      "    Success (Cost: $0.96)\n",
      "Extracting 34/200: chart_034_medium_pie\n",
      "    Success (Cost: $0.99)\n",
      "Extracting 35/200: chart_035_medium_bar\n",
      "    Success (Cost: $1.02)\n",
      "Extracting 36/200: chart_036_complex_bar\n",
      "    Success (Cost: $1.05)\n",
      "Extracting 37/200: chart_037_advanced_scatter\n",
      "    Success (Cost: $1.08)\n",
      "Extracting 38/200: chart_038_medium_line\n",
      "    Success (Cost: $1.11)\n",
      "Extracting 39/200: chart_039_medium_line\n",
      "    Success (Cost: $1.14)\n",
      "Extracting 40/200: chart_040_medium_line\n",
      "    Success (Cost: $1.17)\n",
      "    Progress: 40/40 ($1.20 spent)\n",
      "Extracting 41/200: chart_041_advanced_bar\n",
      "    Success (Cost: $1.20)\n",
      "Extracting 42/200: chart_042_complex_scatter\n",
      "    Success (Cost: $1.23)\n",
      "Extracting 43/200: chart_043_medium_line\n",
      "    Success (Cost: $1.26)\n",
      "Extracting 44/200: chart_044_complex_scatter\n",
      "    Success (Cost: $1.29)\n",
      "Extracting 45/200: chart_045_medium_area\n",
      "    Success (Cost: $1.32)\n",
      "Extracting 46/200: chart_046_medium_line\n",
      "    Success (Cost: $1.35)\n",
      "Extracting 47/200: chart_047_medium_bar\n",
      "    Success (Cost: $1.38)\n",
      "Extracting 48/200: chart_048_medium_pie\n",
      "    Success (Cost: $1.41)\n",
      "Extracting 49/200: chart_049_medium_bar\n",
      "    Success (Cost: $1.44)\n",
      "Extracting 50/200: chart_050_complex_bar\n",
      "    Success (Cost: $1.47)\n",
      "    Progress: 50/50 ($1.50 spent)\n",
      "Extracting 51/200: chart_051_medium_line\n",
      "    Success (Cost: $1.50)\n",
      "Extracting 52/200: chart_052_complex_bar\n",
      "    Success (Cost: $1.53)\n",
      "Extracting 53/200: chart_053_complex_bar\n",
      "    Success (Cost: $1.56)\n",
      "Extracting 54/200: chart_054_advanced_bar\n",
      "    Success (Cost: $1.59)\n",
      "Extracting 55/200: chart_055_medium_pie\n",
      "    Success (Cost: $1.62)\n",
      "Extracting 56/200: chart_056_advanced_area\n",
      "    Success (Cost: $1.65)\n",
      "Extracting 57/200: chart_057_advanced_area\n"
     ]
    },
    {
     "name": "stderr",
     "output_type": "stream",
     "text": [
      "API attempt 1 failed for data\\raw_charts\\chart_057_advanced_area.png: Request timed out.\n"
     ]
    },
    {
     "name": "stdout",
     "output_type": "stream",
     "text": [
      "    Success (Cost: $1.68)\n",
      "Extracting 58/200: chart_058_complex_bar\n",
      "    Success (Cost: $1.71)\n",
      "Extracting 59/200: chart_059_medium_bar\n",
      "    Success (Cost: $1.74)\n",
      "Extracting 60/200: chart_060_complex_line\n",
      "    Success (Cost: $1.77)\n",
      "    Progress: 60/61 ($1.80 spent)\n",
      "Extracting 61/200: chart_061_medium_bar\n",
      "    Success (Cost: $1.80)\n",
      "Extracting 62/200: chart_062_medium_bar\n",
      "    Success (Cost: $1.83)\n",
      "Extracting 63/200: chart_063_complex_bar\n",
      "    Success (Cost: $1.86)\n",
      "Extracting 64/200: chart_064_advanced_bar\n",
      "    Success (Cost: $1.89)\n",
      "Extracting 65/200: chart_065_advanced_bar\n",
      "    Success (Cost: $1.92)\n",
      "Extracting 66/200: chart_066_complex_bar\n",
      "    Success (Cost: $1.95)\n",
      "Extracting 67/200: chart_067_advanced_line\n",
      "    Success (Cost: $1.98)\n",
      "Extracting 68/200: chart_068_medium_line\n",
      "    Success (Cost: $2.01)\n",
      "Extracting 69/200: chart_069_complex_pie\n",
      "    Success (Cost: $2.04)\n",
      "Extracting 70/200: chart_070_advanced_pie\n",
      "    Success (Cost: $2.07)\n",
      "    Progress: 70/71 ($2.10 spent)\n",
      "Extracting 71/200: chart_071_advanced_bar\n",
      "    Success (Cost: $2.10)\n",
      "Extracting 72/200: chart_072_advanced_scatter\n",
      "    Success (Cost: $2.13)\n",
      "Extracting 73/200: chart_073_medium_scatter\n",
      "    Success (Cost: $2.16)\n",
      "Extracting 74/200: chart_074_advanced_line\n",
      "    Success (Cost: $2.19)\n",
      "Extracting 75/200: chart_075_medium_bar\n",
      "    Success (Cost: $2.22)\n",
      "Extracting 76/200: chart_076_advanced_bar\n",
      "    Success (Cost: $2.25)\n",
      "Extracting 77/200: chart_077_advanced_line\n",
      "    Success (Cost: $2.28)\n",
      "Extracting 78/200: chart_078_medium_area\n",
      "    Success (Cost: $2.31)\n",
      "Extracting 79/200: chart_079_complex_bar\n",
      "    Success (Cost: $2.34)\n",
      "Extracting 80/200: chart_080_medium_line\n",
      "    Success (Cost: $2.37)\n",
      "    Progress: 80/81 ($2.40 spent)\n",
      "Extracting 81/200: chart_081_medium_area\n",
      "    Success (Cost: $2.40)\n",
      "Extracting 82/200: chart_082_complex_area\n",
      "    Success (Cost: $2.43)\n",
      "Extracting 83/200: chart_083_complex_bar\n",
      "    Success (Cost: $2.46)\n",
      "Extracting 84/200: chart_084_complex_bar\n",
      "    Success (Cost: $2.49)\n",
      "Extracting 85/200: chart_085_medium_pie\n",
      "    Success (Cost: $2.52)\n",
      "Extracting 86/200: chart_086_complex_scatter\n",
      "    Success (Cost: $2.55)\n",
      "Extracting 87/200: chart_087_complex_line\n",
      "    Success (Cost: $2.58)\n",
      "Extracting 88/200: chart_088_complex_bar\n",
      "    Success (Cost: $2.61)\n",
      "Extracting 89/200: chart_089_medium_pie\n",
      "    Success (Cost: $2.64)\n",
      "Extracting 90/200: chart_090_advanced_scatter\n",
      "    Success (Cost: $2.67)\n",
      "    Progress: 90/91 ($2.70 spent)\n",
      "Extracting 91/200: chart_091_medium_bar\n",
      "    Success (Cost: $2.70)\n",
      "Extracting 92/200: chart_092_complex_scatter\n",
      "    Success (Cost: $2.73)\n",
      "Extracting 93/200: chart_093_complex_bar\n",
      "    Success (Cost: $2.76)\n",
      "Extracting 94/200: chart_094_medium_scatter\n",
      "    Success (Cost: $2.79)\n",
      "Extracting 95/200: chart_095_complex_area\n",
      "    Success (Cost: $2.82)\n",
      "Extracting 96/200: chart_096_advanced_pie\n",
      "    Success (Cost: $2.85)\n",
      "Extracting 97/200: chart_097_advanced_scatter\n",
      "    Success (Cost: $2.88)\n",
      "Extracting 98/200: chart_098_complex_area\n",
      "    Success (Cost: $2.91)\n",
      "Extracting 99/200: chart_099_complex_scatter\n",
      "    Success (Cost: $2.94)\n",
      "Extracting 100/200: chart_100_complex_bar\n",
      "    Success (Cost: $2.97)\n",
      "    Progress: 100/101 ($3.00 spent)\n",
      "Extracting 101/200: chart_101_medium_bar\n",
      "    Success (Cost: $3.00)\n",
      "Extracting 102/200: chart_102_medium_line\n",
      "    Success (Cost: $3.03)\n",
      "Extracting 103/200: chart_103_complex_bar\n",
      "    Success (Cost: $3.06)\n",
      "Extracting 104/200: chart_104_medium_line\n",
      "    Success (Cost: $3.09)\n",
      "Extracting 105/200: chart_105_complex_area\n",
      "    Success (Cost: $3.12)\n",
      "Extracting 106/200: chart_106_complex_pie\n",
      "    Success (Cost: $3.15)\n",
      "Extracting 107/200: chart_107_medium_line\n",
      "    Success (Cost: $3.18)\n",
      "Extracting 108/200: chart_108_complex_scatter\n",
      "    Success (Cost: $3.21)\n",
      "Extracting 109/200: chart_109_advanced_line\n",
      "    Success (Cost: $3.24)\n",
      "Extracting 110/200: chart_110_complex_bar\n",
      "    Success (Cost: $3.27)\n",
      "    Progress: 110/111 ($3.30 spent)\n",
      "Extracting 111/200: chart_111_medium_bar\n",
      "    Success (Cost: $3.30)\n",
      "Extracting 112/200: chart_112_medium_scatter\n",
      "    Success (Cost: $3.33)\n",
      "Extracting 113/200: chart_113_medium_bar\n",
      "    Success (Cost: $3.36)\n",
      "Extracting 114/200: chart_114_advanced_bar\n"
     ]
    },
    {
     "name": "stderr",
     "output_type": "stream",
     "text": [
      "API attempt 1 failed for data\\raw_charts\\chart_114_advanced_bar.png: Request timed out.\n",
      "API attempt 2 failed for data\\raw_charts\\chart_114_advanced_bar.png: Request timed out.\n",
      "API attempt 3 failed for data\\raw_charts\\chart_114_advanced_bar.png: Request timed out.\n",
      "Extraction failed for data\\raw_charts\\chart_114_advanced_bar.png: Request timed out.\n"
     ]
    },
    {
     "name": "stdout",
     "output_type": "stream",
     "text": [
      "    Failed\n",
      "Extracting 115/200: chart_115_complex_area\n",
      "    Success (Cost: $3.39)\n",
      "Extracting 116/200: chart_116_medium_line\n",
      "    Success (Cost: $3.42)\n",
      "Extracting 117/200: chart_117_complex_bar\n",
      "    Success (Cost: $3.45)\n",
      "Extracting 118/200: chart_118_complex_bar\n",
      "    Success (Cost: $3.48)\n",
      "Extracting 119/200: chart_119_advanced_line\n",
      "    Success (Cost: $3.51)\n",
      "Extracting 120/200: chart_120_medium_line\n",
      "    Success (Cost: $3.54)\n",
      "    Progress: 119/123 ($3.57 spent)\n",
      "Extracting 121/200: chart_121_advanced_pie\n",
      "    Success (Cost: $3.57)\n",
      "Extracting 122/200: chart_122_medium_line\n",
      "    Success (Cost: $3.60)\n",
      "Extracting 123/200: chart_123_medium_line\n",
      "    Success (Cost: $3.63)\n",
      "Extracting 124/200: chart_124_advanced_pie\n",
      "    Success (Cost: $3.66)\n",
      "Extracting 125/200: chart_125_complex_pie\n",
      "    Success (Cost: $3.69)\n",
      "Extracting 126/200: chart_126_complex_scatter\n",
      "    Success (Cost: $3.72)\n",
      "Extracting 127/200: chart_127_advanced_scatter\n",
      "    Success (Cost: $3.75)\n",
      "Extracting 128/200: chart_128_medium_line\n",
      "    Success (Cost: $3.78)\n",
      "Extracting 129/200: chart_129_medium_scatter\n",
      "    Success (Cost: $3.81)\n",
      "Extracting 130/200: chart_130_medium_bar\n",
      "    Success (Cost: $3.84)\n",
      "    Progress: 129/133 ($3.87 spent)\n",
      "Extracting 131/200: chart_131_complex_line\n",
      "    Success (Cost: $3.87)\n",
      "Extracting 132/200: chart_132_complex_line\n",
      "    Success (Cost: $3.90)\n",
      "Extracting 133/200: chart_133_complex_bar\n",
      "    Success (Cost: $3.93)\n",
      "Extracting 134/200: chart_134_complex_bar\n",
      "    Success (Cost: $3.96)\n",
      "Extracting 135/200: chart_135_complex_bar\n"
     ]
    },
    {
     "name": "stderr",
     "output_type": "stream",
     "text": [
      "API attempt 1 failed for data\\raw_charts\\chart_135_complex_bar.png: Request timed out.\n"
     ]
    },
    {
     "name": "stdout",
     "output_type": "stream",
     "text": [
      "    Success (Cost: $3.99)\n",
      "Extracting 136/200: chart_136_complex_bar\n",
      "    Success (Cost: $4.02)\n",
      "Extracting 137/200: chart_137_complex_bar\n",
      "    Success (Cost: $4.05)\n",
      "Extracting 138/200: chart_138_medium_line\n",
      "    Success (Cost: $4.08)\n",
      "Extracting 139/200: chart_139_advanced_scatter\n",
      "    Success (Cost: $4.11)\n",
      "Extracting 140/200: chart_140_medium_bar\n",
      "    Success (Cost: $4.14)\n",
      "    Progress: 139/144 ($4.17 spent)\n",
      "Extracting 141/200: chart_141_medium_bar\n",
      "    Success (Cost: $4.17)\n",
      "Extracting 142/200: chart_142_medium_bar\n",
      "    Success (Cost: $4.20)\n",
      "Extracting 143/200: chart_143_complex_bar\n",
      "    Success (Cost: $4.23)\n",
      "Extracting 144/200: chart_144_medium_bar\n",
      "    Success (Cost: $4.26)\n",
      "Extracting 145/200: chart_145_medium_scatter\n",
      "    Success (Cost: $4.29)\n",
      "Extracting 146/200: chart_146_medium_scatter\n",
      "    Success (Cost: $4.32)\n",
      "Extracting 147/200: chart_147_complex_line\n",
      "    Success (Cost: $4.35)\n",
      "Extracting 148/200: chart_148_medium_pie\n",
      "    Success (Cost: $4.38)\n",
      "Extracting 149/200: chart_149_complex_bar\n",
      "    Success (Cost: $4.41)\n",
      "Extracting 150/200: chart_150_medium_bar\n",
      "    Success (Cost: $4.44)\n",
      "    Progress: 149/154 ($4.47 spent)\n",
      "Extracting 151/200: chart_151_complex_line\n",
      "    Success (Cost: $4.47)\n",
      "Extracting 152/200: chart_152_complex_pie\n",
      "    Success (Cost: $4.50)\n",
      "Extracting 153/200: chart_153_advanced_scatter\n",
      "    Success (Cost: $4.53)\n",
      "Extracting 154/200: chart_154_complex_line\n",
      "    Success (Cost: $4.56)\n",
      "Extracting 155/200: chart_155_medium_bar\n",
      "    Success (Cost: $4.59)\n",
      "Extracting 156/200: chart_156_complex_line\n"
     ]
    },
    {
     "name": "stderr",
     "output_type": "stream",
     "text": [
      "Could not parse JSON from response: I'm unable to extract data from images directly. However, I can guide you on how to manually extract the data from the chart. Here's a general approach:\n",
      "\n",
      "1. **Identify the Chart Type**: This is a line...\n"
     ]
    },
    {
     "name": "stdout",
     "output_type": "stream",
     "text": [
      "    Success (Cost: $4.62)\n",
      "Extracting 157/200: chart_157_complex_line\n",
      "    Success (Cost: $4.65)\n",
      "Extracting 158/200: chart_158_advanced_pie\n",
      "    Success (Cost: $4.68)\n",
      "Extracting 159/200: chart_159_medium_area\n",
      "    Success (Cost: $4.71)\n",
      "Extracting 160/200: chart_160_advanced_pie\n",
      "    Success (Cost: $4.74)\n",
      "    Progress: 159/165 ($4.77 spent)\n",
      "Extracting 161/200: chart_161_complex_bar\n"
     ]
    },
    {
     "name": "stderr",
     "output_type": "stream",
     "text": [
      "API attempt 1 failed for data\\raw_charts\\chart_161_complex_bar.png: Request timed out.\n",
      "API attempt 2 failed for data\\raw_charts\\chart_161_complex_bar.png: Request timed out.\n",
      "API attempt 3 failed for data\\raw_charts\\chart_161_complex_bar.png: Request timed out.\n",
      "Extraction failed for data\\raw_charts\\chart_161_complex_bar.png: Request timed out.\n"
     ]
    },
    {
     "name": "stdout",
     "output_type": "stream",
     "text": [
      "    Failed\n",
      "Extracting 162/200: chart_162_medium_line\n",
      "    Success (Cost: $4.77)\n",
      "Extracting 163/200: chart_163_medium_bar\n",
      "    Success (Cost: $4.80)\n",
      "Extracting 164/200: chart_164_complex_line\n",
      "    Success (Cost: $4.83)\n",
      "Extracting 165/200: chart_165_complex_bar\n"
     ]
    },
    {
     "name": "stderr",
     "output_type": "stream",
     "text": [
      "API attempt 1 failed for data\\raw_charts\\chart_165_complex_bar.png: Request timed out.\n"
     ]
    },
    {
     "name": "stdout",
     "output_type": "stream",
     "text": [
      "    Success (Cost: $4.86)\n",
      "Extracting 166/200: chart_166_advanced_scatter\n",
      "    Success (Cost: $4.89)\n",
      "Extracting 167/200: chart_167_complex_bar\n"
     ]
    },
    {
     "name": "stderr",
     "output_type": "stream",
     "text": [
      "API attempt 1 failed for data\\raw_charts\\chart_167_complex_bar.png: Request timed out.\n",
      "API attempt 2 failed for data\\raw_charts\\chart_167_complex_bar.png: Request timed out.\n"
     ]
    },
    {
     "name": "stdout",
     "output_type": "stream",
     "text": [
      "    Success (Cost: $4.92)\n",
      "Extracting 168/200: chart_168_complex_scatter\n",
      "    Success (Cost: $4.95)\n",
      "Extracting 169/200: chart_169_advanced_line\n",
      "    Success (Cost: $4.98)\n",
      "Extracting 170/200: chart_170_advanced_pie\n",
      "    Success (Cost: $5.01)\n",
      "    Progress: 168/180 ($5.04 spent)\n",
      "Extracting 171/200: chart_171_medium_bar\n",
      "    Success (Cost: $5.04)\n",
      "Extracting 172/200: chart_172_advanced_area\n",
      "    Success (Cost: $5.07)\n",
      "Extracting 173/200: chart_173_advanced_line\n",
      "    Success (Cost: $5.10)\n",
      "Extracting 174/200: chart_174_medium_scatter\n",
      "    Success (Cost: $5.13)\n",
      "Extracting 175/200: chart_175_complex_line\n",
      "    Success (Cost: $5.16)\n",
      "Extracting 176/200: chart_176_advanced_bar\n",
      "    Success (Cost: $5.19)\n",
      "Extracting 177/200: chart_177_medium_bar\n",
      "    Success (Cost: $5.22)\n",
      "Extracting 178/200: chart_178_advanced_line\n",
      "    Success (Cost: $5.25)\n",
      "Extracting 179/200: chart_179_complex_line\n",
      "    Success (Cost: $5.28)\n",
      "Extracting 180/200: chart_180_advanced_bar\n",
      "    Success (Cost: $5.31)\n",
      "    Progress: 178/190 ($5.34 spent)\n",
      "Extracting 181/200: chart_181_medium_pie\n",
      "    Success (Cost: $5.34)\n",
      "Extracting 182/200: chart_182_complex_bar\n"
     ]
    },
    {
     "name": "stderr",
     "output_type": "stream",
     "text": [
      "API attempt 1 failed for data\\raw_charts\\chart_182_complex_bar.png: Request timed out.\n",
      "API attempt 2 failed for data\\raw_charts\\chart_182_complex_bar.png: Request timed out.\n"
     ]
    },
    {
     "name": "stdout",
     "output_type": "stream",
     "text": [
      "    Success (Cost: $5.37)\n",
      "Extracting 183/200: chart_183_advanced_scatter\n",
      "    Success (Cost: $5.40)\n",
      "Extracting 184/200: chart_184_advanced_bar\n",
      "    Success (Cost: $5.43)\n",
      "Extracting 185/200: chart_185_advanced_bar\n",
      "    Success (Cost: $5.46)\n",
      "Extracting 186/200: chart_186_complex_pie\n",
      "    Success (Cost: $5.49)\n",
      "Extracting 187/200: chart_187_advanced_pie\n",
      "    Success (Cost: $5.52)\n",
      "Extracting 188/200: chart_188_complex_bar\n",
      "    Success (Cost: $5.55)\n",
      "Extracting 189/200: chart_189_complex_bar\n",
      "    Success (Cost: $5.58)\n",
      "Extracting 190/200: chart_190_complex_area\n",
      "    Success (Cost: $5.61)\n",
      "    Progress: 188/202 ($5.64 spent)\n",
      "Extracting 191/200: chart_191_medium_line\n",
      "    Success (Cost: $5.64)\n",
      "Extracting 192/200: chart_192_complex_scatter\n",
      "    Success (Cost: $5.67)\n",
      "Extracting 193/200: chart_193_complex_line\n",
      "    Success (Cost: $5.70)\n",
      "Extracting 194/200: chart_194_medium_pie\n",
      "    Success (Cost: $5.73)\n",
      "Extracting 195/200: chart_195_advanced_line\n",
      "    Success (Cost: $5.76)\n",
      "Extracting 196/200: chart_196_medium_line\n",
      "    Success (Cost: $5.79)\n",
      "Extracting 197/200: chart_197_complex_line\n",
      "    Success (Cost: $5.82)\n",
      "Extracting 198/200: chart_198_medium_line\n",
      "    Success (Cost: $5.85)\n",
      "Extracting 199/200: chart_199_medium_line\n",
      "    Success (Cost: $5.88)\n",
      "Extracting 200/200: chart_200_advanced_pie\n",
      "    Success (Cost: $5.91)\n",
      "    Progress: 198/212 ($5.94 spent)\n",
      " PHASE 1 COMPLETE: 198 extractions, $5.94 spent\n",
      "\n",
      " PHASE 2: PRIORITY PERTURBATIONS\n",
      "Processing 1000 priority perturbations...\n",
      "Extracting perturbation 1/1000: chart_040_medium_line_brightness_shift_medium.png\n",
      "    Success\n",
      "Extracting perturbation 2/1000: chart_087_complex_line_rotation_medium.png\n",
      "    Success\n",
      "Extracting perturbation 3/1000: chart_085_medium_pie_brightness_shift_medium.png\n",
      "    Success\n",
      "Extracting perturbation 4/1000: chart_133_complex_bar_gaussian_blur_medium.png\n",
      "    Success\n",
      "Extracting perturbation 5/1000: chart_164_complex_line_gaussian_blur_medium.png\n",
      "    Success\n",
      "Extracting perturbation 6/1000: chart_171_medium_bar_gaussian_blur_medium.png\n",
      "    Success\n",
      "Extracting perturbation 7/1000: chart_123_medium_line_random_blocks_medium.png\n"
     ]
    },
    {
     "name": "stderr",
     "output_type": "stream",
     "text": [
      "Could not parse JSON from response: I'm unable to extract data from the image directly. However, I can help guide you on how to manually extract the data using tools or software that can read and interpret chart images. If you have any ...\n"
     ]
    },
    {
     "name": "stdout",
     "output_type": "stream",
     "text": [
      "    Success\n",
      "Extracting perturbation 8/1000: chart_061_medium_bar_random_blocks_medium.png\n",
      "    Success\n",
      "Extracting perturbation 9/1000: chart_099_complex_scatter_legend_corruption_medium.png\n",
      "    Success\n",
      "Extracting perturbation 10/1000: chart_191_medium_line_random_blocks_medium.png\n"
     ]
    },
    {
     "name": "stderr",
     "output_type": "stream",
     "text": [
      "Could not parse JSON from response: I'm unable to extract data from the image directly. However, I can guide you on how to manually extract the data using tools like OCR software or by visually inspecting the chart. If you have any ques...\n"
     ]
    },
    {
     "name": "stdout",
     "output_type": "stream",
     "text": [
      "    Success\n",
      "Extracting perturbation 11/1000: chart_004_complex_pie_brightness_shift_medium.png\n",
      "    Success\n",
      "Extracting perturbation 12/1000: chart_173_advanced_line_legend_corruption_medium.png\n",
      "    Success\n",
      "Extracting perturbation 13/1000: chart_143_complex_bar_legend_corruption_medium.png\n",
      "    Success\n",
      "Extracting perturbation 14/1000: chart_164_complex_line_legend_corruption_medium.png\n",
      "    Success\n",
      "Extracting perturbation 15/1000: chart_066_complex_bar_brightness_shift_medium.png\n",
      "    Success\n",
      "Extracting perturbation 16/1000: chart_039_medium_line_legend_corruption_medium.png\n",
      "    Success\n",
      "Extracting perturbation 17/1000: chart_186_complex_pie_rotation_medium.png\n",
      "    Success\n",
      "Extracting perturbation 18/1000: chart_124_advanced_pie_random_blocks_medium.png\n",
      "    Success\n",
      "Extracting perturbation 19/1000: chart_192_complex_scatter_gaussian_blur_medium.png\n",
      "    Success\n",
      "Extracting perturbation 20/1000: chart_166_advanced_scatter_rotation_medium.png\n",
      "    Success\n",
      "Extracting perturbation 21/1000: chart_191_medium_line_rotation_medium.png\n",
      "    Success\n",
      "Extracting perturbation 22/1000: chart_181_medium_pie_rotation_medium.png\n",
      "    Success\n",
      "Extracting perturbation 23/1000: chart_180_advanced_bar_gaussian_blur_medium.png\n"
     ]
    },
    {
     "name": "stderr",
     "output_type": "stream",
     "text": [
      "API attempt 1 failed for data\\perturbations\\chart_180_advanced_bar_gaussian_blur_medium.png: Request timed out.\n"
     ]
    },
    {
     "name": "stdout",
     "output_type": "stream",
     "text": [
      "    Success\n",
      "Extracting perturbation 24/1000: chart_109_advanced_line_legend_corruption_medium.png\n",
      "    Success\n",
      "Extracting perturbation 25/1000: chart_127_advanced_scatter_random_blocks_medium.png\n",
      "    Success\n",
      "    Progress: 223 total extractions, $6.69 spent, $88.31 remaining\n",
      "Extracting perturbation 26/1000: chart_120_medium_line_brightness_shift_medium.png\n",
      "    Success\n",
      "Extracting perturbation 27/1000: chart_101_medium_bar_rotation_medium.png\n",
      "    Success\n",
      "Extracting perturbation 28/1000: chart_118_complex_bar_random_blocks_medium.png\n",
      "    Success\n",
      "Extracting perturbation 29/1000: chart_153_advanced_scatter_random_blocks_medium.png\n",
      "    Success\n",
      "Extracting perturbation 30/1000: chart_001_complex_bar_rotation_medium.png\n",
      "    Success\n",
      "Extracting perturbation 31/1000: chart_071_advanced_bar_brightness_shift_medium.png\n",
      "    Success\n",
      "Extracting perturbation 32/1000: chart_084_complex_bar_rotation_medium.png\n",
      "    Success\n",
      "Extracting perturbation 33/1000: chart_008_advanced_pie_brightness_shift_medium.png\n",
      "    Success\n",
      "Extracting perturbation 34/1000: chart_188_complex_bar_random_blocks_medium.png\n",
      "    Success\n",
      "Extracting perturbation 35/1000: chart_126_complex_scatter_random_blocks_medium.png\n",
      "    Success\n",
      "Extracting perturbation 36/1000: chart_001_complex_bar_legend_corruption_medium.png\n",
      "    Success\n",
      "Extracting perturbation 37/1000: chart_121_advanced_pie_random_blocks_medium.png\n",
      "    Success\n",
      "Extracting perturbation 38/1000: chart_197_complex_line_legend_corruption_medium.png\n",
      "    Success\n",
      "Extracting perturbation 39/1000: chart_117_complex_bar_gaussian_blur_medium.png\n",
      "    Success\n",
      "Extracting perturbation 40/1000: chart_066_complex_bar_random_blocks_medium.png\n",
      "    Success\n",
      "Extracting perturbation 41/1000: chart_021_medium_area_random_blocks_medium.png\n",
      "    Success\n",
      "Extracting perturbation 42/1000: chart_014_complex_bar_gaussian_blur_medium.png\n"
     ]
    },
    {
     "name": "stderr",
     "output_type": "stream",
     "text": [
      "API attempt 1 failed for data\\perturbations\\chart_014_complex_bar_gaussian_blur_medium.png: Request timed out.\n"
     ]
    },
    {
     "name": "stdout",
     "output_type": "stream",
     "text": [
      "    Success\n",
      "Extracting perturbation 43/1000: chart_057_advanced_area_brightness_shift_medium.png\n",
      "    Success\n",
      "Extracting perturbation 44/1000: chart_101_medium_bar_random_blocks_medium.png\n",
      "    Success\n",
      "Extracting perturbation 45/1000: chart_092_complex_scatter_random_blocks_medium.png\n",
      "    Success\n",
      "Extracting perturbation 46/1000: chart_067_advanced_line_gaussian_blur_medium.png\n",
      "    Success\n",
      "Extracting perturbation 47/1000: chart_142_medium_bar_random_blocks_medium.png\n",
      "    Success\n",
      "Extracting perturbation 48/1000: chart_036_complex_bar_rotation_medium.png\n",
      "    Success\n",
      "Extracting perturbation 49/1000: chart_022_complex_scatter_legend_corruption_medium.png\n",
      "    Success\n",
      "Extracting perturbation 50/1000: chart_075_medium_bar_rotation_medium.png\n",
      "    Success\n",
      "    Progress: 248 total extractions, $7.44 spent, $87.56 remaining\n",
      "Extracting perturbation 51/1000: chart_163_medium_bar_legend_corruption_medium.png\n",
      "    Success\n",
      "Extracting perturbation 52/1000: chart_092_complex_scatter_legend_corruption_medium.png\n",
      "    Success\n",
      "Extracting perturbation 53/1000: chart_027_complex_bar_gaussian_blur_medium.png\n",
      "    Success\n",
      "Extracting perturbation 54/1000: chart_038_medium_line_rotation_medium.png\n",
      "    Success\n",
      "Extracting perturbation 55/1000: chart_108_complex_scatter_random_blocks_medium.png\n",
      "    Success\n",
      "Extracting perturbation 56/1000: chart_106_complex_pie_rotation_medium.png\n",
      "    Success\n",
      "Extracting perturbation 57/1000: chart_036_complex_bar_brightness_shift_medium.png\n",
      "    Success\n",
      "Extracting perturbation 58/1000: chart_179_complex_line_gaussian_blur_medium.png\n",
      "    Success\n",
      "Extracting perturbation 59/1000: chart_076_advanced_bar_gaussian_blur_medium.png\n",
      "    Success\n",
      "Extracting perturbation 60/1000: chart_054_advanced_bar_rotation_medium.png\n",
      "    Success\n",
      "Extracting perturbation 61/1000: chart_047_medium_bar_gaussian_blur_medium.png\n",
      "    Success\n",
      "Extracting perturbation 62/1000: chart_036_complex_bar_legend_corruption_medium.png\n",
      "    Success\n",
      "Extracting perturbation 63/1000: chart_134_complex_bar_random_blocks_medium.png\n"
     ]
    },
    {
     "name": "stderr",
     "output_type": "stream",
     "text": [
      "Could not parse JSON from response: I'm unable to process the image directly. However, you can use an OCR tool to extract text and numerical data from the image. Once you have the data, you can format it into a JSON object as specified....\n"
     ]
    },
    {
     "name": "stdout",
     "output_type": "stream",
     "text": [
      "    Success\n",
      "Extracting perturbation 64/1000: chart_166_advanced_scatter_brightness_shift_medium.png\n",
      "    Success\n",
      "Extracting perturbation 65/1000: chart_148_medium_pie_brightness_shift_medium.png\n",
      "    Success\n",
      "Extracting perturbation 66/1000: chart_050_complex_bar_gaussian_blur_medium.png\n",
      "    Success\n",
      "Extracting perturbation 67/1000: chart_160_advanced_pie_brightness_shift_medium.png\n",
      "    Success\n",
      "Extracting perturbation 68/1000: chart_010_complex_bar_rotation_medium.png\n",
      "    Success\n",
      "Extracting perturbation 69/1000: chart_117_complex_bar_rotation_medium.png\n",
      "    Success\n",
      "Extracting perturbation 70/1000: chart_039_medium_line_brightness_shift_medium.png\n",
      "    Success\n",
      "Extracting perturbation 71/1000: chart_116_medium_line_brightness_shift_medium.png\n",
      "    Success\n",
      "Extracting perturbation 72/1000: chart_150_medium_bar_legend_corruption_medium.png\n",
      "    Success\n",
      "Extracting perturbation 73/1000: chart_011_advanced_scatter_rotation_medium.png\n",
      "    Success\n",
      "Extracting perturbation 74/1000: chart_081_medium_area_legend_corruption_medium.png\n",
      "    Success\n",
      "Extracting perturbation 75/1000: chart_009_medium_bar_rotation_medium.png\n",
      "    Success\n",
      "    Progress: 273 total extractions, $8.19 spent, $86.81 remaining\n",
      "Extracting perturbation 76/1000: chart_188_complex_bar_gaussian_blur_medium.png\n",
      "    Success\n",
      "Extracting perturbation 77/1000: chart_167_complex_bar_gaussian_blur_medium.png\n"
     ]
    },
    {
     "name": "stderr",
     "output_type": "stream",
     "text": [
      "API attempt 1 failed for data\\perturbations\\chart_167_complex_bar_gaussian_blur_medium.png: Request timed out.\n"
     ]
    },
    {
     "name": "stdout",
     "output_type": "stream",
     "text": [
      "    Success\n",
      "Extracting perturbation 78/1000: chart_049_medium_bar_gaussian_blur_medium.png\n",
      "    Success\n",
      "Extracting perturbation 79/1000: chart_096_advanced_pie_rotation_medium.png\n",
      "    Success\n",
      "Extracting perturbation 80/1000: chart_080_medium_line_gaussian_blur_medium.png\n",
      "    Success\n",
      "Extracting perturbation 81/1000: chart_144_medium_bar_legend_corruption_medium.png\n",
      "    Success\n",
      "Extracting perturbation 82/1000: chart_168_complex_scatter_random_blocks_medium.png\n",
      "    Success\n",
      "Extracting perturbation 83/1000: chart_191_medium_line_legend_corruption_medium.png\n",
      "    Success\n",
      "Extracting perturbation 84/1000: chart_121_advanced_pie_gaussian_blur_medium.png\n",
      "    Success\n",
      "Extracting perturbation 85/1000: chart_118_complex_bar_gaussian_blur_medium.png\n",
      "    Success\n",
      "Extracting perturbation 86/1000: chart_117_complex_bar_brightness_shift_medium.png\n",
      "    Success\n",
      "Extracting perturbation 87/1000: chart_199_medium_line_brightness_shift_medium.png\n",
      "    Success\n",
      "Extracting perturbation 88/1000: chart_090_advanced_scatter_legend_corruption_medium.png\n",
      "    Success\n",
      "Extracting perturbation 89/1000: chart_056_advanced_area_brightness_shift_medium.png\n",
      "    Success\n",
      "Extracting perturbation 90/1000: chart_181_medium_pie_gaussian_blur_medium.png\n",
      "    Success\n",
      "Extracting perturbation 91/1000: chart_109_advanced_line_brightness_shift_medium.png\n",
      "    Success\n",
      "Extracting perturbation 92/1000: chart_193_complex_line_random_blocks_medium.png\n",
      "    Success\n",
      "Extracting perturbation 93/1000: chart_021_medium_area_brightness_shift_medium.png\n",
      "    Success\n",
      "Extracting perturbation 94/1000: chart_165_complex_bar_legend_corruption_medium.png\n",
      "    Success\n",
      "Extracting perturbation 95/1000: chart_090_advanced_scatter_rotation_medium.png\n",
      "    Success\n",
      "Extracting perturbation 96/1000: chart_016_medium_scatter_random_blocks_medium.png\n",
      "    Success\n",
      "Extracting perturbation 97/1000: chart_147_complex_line_legend_corruption_medium.png\n",
      "    Success\n",
      "Extracting perturbation 98/1000: chart_005_complex_bar_legend_corruption_medium.png\n",
      "    Success\n",
      "Extracting perturbation 99/1000: chart_130_medium_bar_gaussian_blur_medium.png\n",
      "    Success\n",
      "Extracting perturbation 100/1000: chart_045_medium_area_brightness_shift_medium.png\n",
      "    Success\n",
      "    Progress: 298 total extractions, $8.94 spent, $86.06 remaining\n",
      "Extracting perturbation 101/1000: chart_149_complex_bar_rotation_medium.png\n",
      "    Success\n",
      "Extracting perturbation 102/1000: chart_038_medium_line_legend_corruption_medium.png\n",
      "    Success\n",
      "Extracting perturbation 103/1000: chart_157_complex_line_gaussian_blur_medium.png\n",
      "    Success\n",
      "Extracting perturbation 104/1000: chart_095_complex_area_random_blocks_medium.png\n",
      "    Success\n",
      "Extracting perturbation 105/1000: chart_048_medium_pie_brightness_shift_medium.png\n",
      "    Success\n",
      "Extracting perturbation 106/1000: chart_074_advanced_line_brightness_shift_medium.png\n",
      "    Success\n",
      "Extracting perturbation 107/1000: chart_063_complex_bar_random_blocks_medium.png\n",
      "    Success\n",
      "Extracting perturbation 108/1000: chart_168_complex_scatter_legend_corruption_medium.png\n",
      "    Success\n",
      "Extracting perturbation 109/1000: chart_058_complex_bar_gaussian_blur_medium.png\n",
      "    Success\n",
      "Extracting perturbation 110/1000: chart_154_complex_line_gaussian_blur_medium.png\n",
      "    Success\n",
      "Extracting perturbation 111/1000: chart_047_medium_bar_rotation_medium.png\n",
      "    Success\n",
      "Extracting perturbation 112/1000: chart_144_medium_bar_rotation_medium.png\n",
      "    Success\n",
      "Extracting perturbation 113/1000: chart_060_complex_line_rotation_medium.png\n",
      "    Success\n",
      "Extracting perturbation 114/1000: chart_098_complex_area_brightness_shift_medium.png\n",
      "    Success\n",
      "Extracting perturbation 115/1000: chart_123_medium_line_legend_corruption_medium.png\n",
      "    Success\n",
      "Extracting perturbation 116/1000: chart_170_advanced_pie_random_blocks_medium.png\n",
      "    Success\n",
      "Extracting perturbation 117/1000: chart_134_complex_bar_gaussian_blur_medium.png\n",
      "    Success\n",
      "Extracting perturbation 118/1000: chart_005_complex_bar_gaussian_blur_medium.png\n",
      "    Success\n",
      "Extracting perturbation 119/1000: chart_012_complex_line_gaussian_blur_medium.png\n",
      "    Success\n",
      "Extracting perturbation 120/1000: chart_178_advanced_line_rotation_medium.png\n",
      "    Success\n",
      "Extracting perturbation 121/1000: chart_162_medium_line_legend_corruption_medium.png\n",
      "    Success\n",
      "Extracting perturbation 122/1000: chart_019_complex_bar_brightness_shift_medium.png\n",
      "    Success\n",
      "Extracting perturbation 123/1000: chart_043_medium_line_legend_corruption_medium.png\n",
      "    Success\n",
      "Extracting perturbation 124/1000: chart_129_medium_scatter_legend_corruption_medium.png\n",
      "    Success\n",
      "Extracting perturbation 125/1000: chart_107_medium_line_gaussian_blur_medium.png\n",
      "    Success\n",
      "    Progress: 323 total extractions, $9.69 spent, $85.31 remaining\n",
      "Extracting perturbation 126/1000: chart_196_medium_line_legend_corruption_medium.png\n",
      "    Success\n",
      "Extracting perturbation 127/1000: chart_012_complex_line_brightness_shift_medium.png\n",
      "    Success\n",
      "Extracting perturbation 128/1000: chart_045_medium_area_legend_corruption_medium.png\n",
      "    Success\n",
      "Extracting perturbation 129/1000: chart_091_medium_bar_gaussian_blur_medium.png\n",
      "    Success\n",
      "Extracting perturbation 130/1000: chart_122_medium_line_legend_corruption_medium.png\n",
      "    Success\n",
      "Extracting perturbation 131/1000: chart_154_complex_line_brightness_shift_medium.png\n",
      "    Success\n",
      "Extracting perturbation 132/1000: chart_086_complex_scatter_random_blocks_medium.png\n",
      "    Success\n",
      "Extracting perturbation 133/1000: chart_136_complex_bar_gaussian_blur_medium.png\n",
      "    Success\n",
      "Extracting perturbation 134/1000: chart_192_complex_scatter_brightness_shift_medium.png\n",
      "    Success\n",
      "Extracting perturbation 135/1000: chart_194_medium_pie_gaussian_blur_medium.png\n",
      "    Success\n",
      "Extracting perturbation 136/1000: chart_100_complex_bar_random_blocks_medium.png\n"
     ]
    },
    {
     "name": "stderr",
     "output_type": "stream",
     "text": [
      "Could not parse JSON from response: I'm unable to process the image directly. Please provide the data or details from the chart, and I can help you format it into the required JSON structure....\n"
     ]
    },
    {
     "name": "stdout",
     "output_type": "stream",
     "text": [
      "    Success\n",
      "Extracting perturbation 137/1000: chart_073_medium_scatter_gaussian_blur_medium.png\n",
      "    Success\n",
      "Extracting perturbation 138/1000: chart_058_complex_bar_rotation_medium.png\n",
      "    Success\n",
      "Extracting perturbation 139/1000: chart_134_complex_bar_legend_corruption_medium.png\n",
      "    Success\n",
      "Extracting perturbation 140/1000: chart_144_medium_bar_brightness_shift_medium.png\n",
      "    Success\n",
      "Extracting perturbation 141/1000: chart_014_complex_bar_legend_corruption_medium.png\n",
      "    Success\n",
      "Extracting perturbation 142/1000: chart_085_medium_pie_random_blocks_medium.png\n",
      "    Success\n",
      "Extracting perturbation 143/1000: chart_171_medium_bar_legend_corruption_medium.png\n",
      "    Success\n",
      "Extracting perturbation 144/1000: chart_043_medium_line_rotation_medium.png\n",
      "    Success\n",
      "Extracting perturbation 145/1000: chart_129_medium_scatter_random_blocks_medium.png\n",
      "    Success\n",
      "Extracting perturbation 146/1000: chart_074_advanced_line_legend_corruption_medium.png\n",
      "    Success\n",
      "Extracting perturbation 147/1000: chart_048_medium_pie_random_blocks_medium.png\n",
      "    Success\n",
      "Extracting perturbation 148/1000: chart_131_complex_line_gaussian_blur_medium.png\n",
      "    Success\n",
      "Extracting perturbation 149/1000: chart_194_medium_pie_random_blocks_medium.png\n",
      "    Success\n",
      "Extracting perturbation 150/1000: chart_040_medium_line_random_blocks_medium.png\n",
      "    Success\n",
      "    Progress: 348 total extractions, $10.44 spent, $84.56 remaining\n",
      "Extracting perturbation 151/1000: chart_152_complex_pie_brightness_shift_medium.png\n",
      "    Success\n",
      "Extracting perturbation 152/1000: chart_141_medium_bar_gaussian_blur_medium.png\n",
      "    Success\n",
      "Extracting perturbation 153/1000: chart_063_complex_bar_rotation_medium.png\n",
      "    Success\n",
      "Extracting perturbation 154/1000: chart_151_complex_line_gaussian_blur_medium.png\n",
      "    Success\n",
      "Extracting perturbation 155/1000: chart_077_advanced_line_legend_corruption_medium.png\n",
      "    Success\n",
      "Extracting perturbation 156/1000: chart_007_medium_line_legend_corruption_medium.png\n",
      "    Success\n",
      "Extracting perturbation 157/1000: chart_176_advanced_bar_rotation_medium.png\n",
      "    Success\n",
      "Extracting perturbation 158/1000: chart_026_medium_bar_gaussian_blur_medium.png\n",
      "    Success\n",
      "Extracting perturbation 159/1000: chart_056_advanced_area_legend_corruption_medium.png\n",
      "    Success\n",
      "Extracting perturbation 160/1000: chart_190_complex_area_gaussian_blur_medium.png\n",
      "    Success\n",
      "Extracting perturbation 161/1000: chart_097_advanced_scatter_random_blocks_medium.png\n",
      "    Success\n",
      "Extracting perturbation 162/1000: chart_025_medium_scatter_gaussian_blur_medium.png\n",
      "    Success\n",
      "Extracting perturbation 163/1000: chart_017_advanced_line_gaussian_blur_medium.png\n",
      "    Success\n",
      "Extracting perturbation 164/1000: chart_003_medium_bar_gaussian_blur_medium.png\n",
      "    Success\n",
      "Extracting perturbation 165/1000: chart_172_advanced_area_brightness_shift_medium.png\n",
      "    Success\n",
      "Extracting perturbation 166/1000: chart_053_complex_bar_gaussian_blur_medium.png\n",
      "    Success\n",
      "Extracting perturbation 167/1000: chart_041_advanced_bar_brightness_shift_medium.png\n",
      "    Success\n",
      "Extracting perturbation 168/1000: chart_030_medium_bar_gaussian_blur_medium.png\n",
      "    Success\n",
      "Extracting perturbation 169/1000: chart_070_advanced_pie_random_blocks_medium.png\n",
      "    Success\n",
      "Extracting perturbation 170/1000: chart_145_medium_scatter_gaussian_blur_medium.png\n",
      "    Success\n",
      "Extracting perturbation 171/1000: chart_083_complex_bar_gaussian_blur_medium.png\n",
      "    Success\n",
      "Extracting perturbation 172/1000: chart_109_advanced_line_rotation_medium.png\n",
      "    Success\n",
      "Extracting perturbation 173/1000: chart_163_medium_bar_random_blocks_medium.png\n",
      "    Success\n",
      "Extracting perturbation 174/1000: chart_093_complex_bar_legend_corruption_medium.png\n",
      "    Success\n",
      "Extracting perturbation 175/1000: chart_041_advanced_bar_legend_corruption_medium.png\n",
      "    Success\n",
      "    Progress: 373 total extractions, $11.19 spent, $83.81 remaining\n",
      "Extracting perturbation 176/1000: chart_198_medium_line_random_blocks_medium.png\n",
      "    Success\n",
      "Extracting perturbation 177/1000: chart_121_advanced_pie_legend_corruption_medium.png\n",
      "    Success\n",
      "Extracting perturbation 178/1000: chart_156_complex_line_random_blocks_medium.png\n",
      "    Success\n",
      "Extracting perturbation 179/1000: chart_143_complex_bar_rotation_medium.png\n",
      "    Success\n",
      "Extracting perturbation 180/1000: chart_176_advanced_bar_random_blocks_medium.png\n",
      "    Success\n",
      "Extracting perturbation 181/1000: chart_138_medium_line_rotation_medium.png\n",
      "    Success\n",
      "Extracting perturbation 182/1000: chart_026_medium_bar_brightness_shift_medium.png\n",
      "    Success\n",
      "Extracting perturbation 183/1000: chart_055_medium_pie_legend_corruption_medium.png\n",
      "    Success\n",
      "Extracting perturbation 184/1000: chart_030_medium_bar_random_blocks_medium.png\n"
     ]
    },
    {
     "name": "stderr",
     "output_type": "stream",
     "text": [
      "Could not parse JSON from response: I'm unable to extract data from the image directly. However, I can guide you on how to manually extract the data using image processing tools or software that can read text and numbers from images. If...\n",
      "Could not parse JSON from response: I'm unable to extract data from the image due to obfuscation. If you can provide a clearer image or describe the data, I'd be happy to help!...\n"
     ]
    },
    {
     "name": "stdout",
     "output_type": "stream",
     "text": [
      "    Success\n",
      "Extracting perturbation 185/1000: chart_152_complex_pie_gaussian_blur_medium.png\n",
      "    Success\n",
      "Extracting perturbation 186/1000: chart_110_complex_bar_legend_corruption_medium.png\n",
      "    Success\n",
      "Extracting perturbation 187/1000: chart_038_medium_line_brightness_shift_medium.png\n",
      "    Success\n",
      "Extracting perturbation 188/1000: chart_072_advanced_scatter_gaussian_blur_medium.png\n",
      "    Success\n",
      "Extracting perturbation 189/1000: chart_052_complex_bar_rotation_medium.png\n",
      "    Success\n",
      "Extracting perturbation 190/1000: chart_154_complex_line_random_blocks_medium.png\n",
      "    Success\n",
      "Extracting perturbation 191/1000: chart_053_complex_bar_random_blocks_medium.png\n",
      "    Success\n",
      "Extracting perturbation 192/1000: chart_018_advanced_bar_legend_corruption_medium.png\n",
      "    Success\n",
      "Extracting perturbation 193/1000: chart_093_complex_bar_random_blocks_medium.png\n",
      "    Success\n",
      "Extracting perturbation 194/1000: chart_107_medium_line_rotation_medium.png\n",
      "    Success\n",
      "Extracting perturbation 195/1000: chart_004_complex_pie_legend_corruption_medium.png\n",
      "    Success\n",
      "Extracting perturbation 196/1000: chart_007_medium_line_rotation_medium.png\n",
      "    Success\n",
      "Extracting perturbation 197/1000: chart_039_medium_line_gaussian_blur_medium.png\n",
      "    Success\n",
      "Extracting perturbation 198/1000: chart_091_medium_bar_rotation_medium.png\n",
      "    Success\n",
      "Extracting perturbation 199/1000: chart_031_complex_scatter_random_blocks_medium.png\n",
      "    Success\n",
      "Extracting perturbation 200/1000: chart_010_complex_bar_random_blocks_medium.png\n",
      "    Success\n",
      "    Progress: 398 total extractions, $11.94 spent, $83.06 remaining\n",
      "Extracting perturbation 201/1000: chart_159_medium_area_rotation_medium.png\n",
      "    Success\n",
      "Extracting perturbation 202/1000: chart_077_advanced_line_random_blocks_medium.png\n",
      "    Success\n",
      "Extracting perturbation 203/1000: chart_061_medium_bar_brightness_shift_medium.png\n",
      "    Success\n",
      "Extracting perturbation 204/1000: chart_127_advanced_scatter_gaussian_blur_medium.png\n",
      "    Success\n",
      "Extracting perturbation 205/1000: chart_013_complex_pie_legend_corruption_medium.png\n",
      "    Success\n",
      "Extracting perturbation 206/1000: chart_025_medium_scatter_brightness_shift_medium.png\n",
      "    Success\n",
      "Extracting perturbation 207/1000: chart_167_complex_bar_rotation_medium.png\n",
      "    Success\n",
      "Extracting perturbation 208/1000: chart_071_advanced_bar_legend_corruption_medium.png\n",
      "    Success\n",
      "Extracting perturbation 209/1000: chart_200_advanced_pie_random_blocks_medium.png\n",
      "    Success\n",
      "Extracting perturbation 210/1000: chart_188_complex_bar_rotation_medium.png\n"
     ]
    },
    {
     "name": "stderr",
     "output_type": "stream",
     "text": [
      "API attempt 1 failed for data\\perturbations\\chart_188_complex_bar_rotation_medium.png: Request timed out.\n"
     ]
    },
    {
     "name": "stdout",
     "output_type": "stream",
     "text": [
      "    Success\n",
      "Extracting perturbation 211/1000: chart_125_complex_pie_legend_corruption_medium.png\n",
      "    Success\n",
      "Extracting perturbation 212/1000: chart_140_medium_bar_gaussian_blur_medium.png\n",
      "    Success\n",
      "Extracting perturbation 213/1000: chart_169_advanced_line_brightness_shift_medium.png\n",
      "    Success\n",
      "Extracting perturbation 214/1000: chart_120_medium_line_rotation_medium.png\n",
      "    Success\n",
      "Extracting perturbation 215/1000: chart_159_medium_area_legend_corruption_medium.png\n",
      "    Success\n",
      "Extracting perturbation 216/1000: chart_086_complex_scatter_gaussian_blur_medium.png\n",
      "    Success\n",
      "Extracting perturbation 217/1000: chart_126_complex_scatter_rotation_medium.png\n",
      "    Success\n",
      "Extracting perturbation 218/1000: chart_173_advanced_line_rotation_medium.png\n",
      "    Success\n",
      "Extracting perturbation 219/1000: chart_067_advanced_line_random_blocks_medium.png\n",
      "    Success\n",
      "Extracting perturbation 220/1000: chart_121_advanced_pie_rotation_medium.png\n",
      "    Success\n",
      "Extracting perturbation 221/1000: chart_147_complex_line_brightness_shift_medium.png\n",
      "    Success\n",
      "Extracting perturbation 222/1000: chart_012_complex_line_legend_corruption_medium.png\n",
      "    Success\n",
      "Extracting perturbation 223/1000: chart_105_complex_area_brightness_shift_medium.png\n",
      "    Success\n",
      "Extracting perturbation 224/1000: chart_187_advanced_pie_gaussian_blur_medium.png\n",
      "    Success\n",
      "Extracting perturbation 225/1000: chart_075_medium_bar_gaussian_blur_medium.png\n",
      "    Success\n",
      "    Progress: 423 total extractions, $12.69 spent, $82.31 remaining\n",
      "Extracting perturbation 226/1000: chart_179_complex_line_legend_corruption_medium.png\n",
      "    Success\n",
      "Extracting perturbation 227/1000: chart_086_complex_scatter_legend_corruption_medium.png\n",
      "    Success\n",
      "Extracting perturbation 228/1000: chart_130_medium_bar_legend_corruption_medium.png\n",
      "    Success\n",
      "Extracting perturbation 229/1000: chart_173_advanced_line_gaussian_blur_medium.png\n",
      "    Success\n",
      "Extracting perturbation 230/1000: chart_132_complex_line_brightness_shift_medium.png\n",
      "    Success\n",
      "Extracting perturbation 231/1000: chart_177_medium_bar_gaussian_blur_medium.png\n",
      "    Success\n",
      "Extracting perturbation 232/1000: chart_177_medium_bar_random_blocks_medium.png\n",
      "    Success\n",
      "Extracting perturbation 233/1000: chart_186_complex_pie_gaussian_blur_medium.png\n",
      "    Success\n",
      "Extracting perturbation 234/1000: chart_123_medium_line_gaussian_blur_medium.png\n",
      "    Success\n",
      "Extracting perturbation 235/1000: chart_199_medium_line_rotation_medium.png\n",
      "    Success\n",
      "Extracting perturbation 236/1000: chart_184_advanced_bar_gaussian_blur_medium.png\n",
      "    Success\n",
      "Extracting perturbation 237/1000: chart_103_complex_bar_legend_corruption_medium.png\n",
      "    Success\n",
      "Extracting perturbation 238/1000: chart_193_complex_line_gaussian_blur_medium.png\n",
      "    Success\n",
      "Extracting perturbation 239/1000: chart_139_advanced_scatter_brightness_shift_medium.png\n",
      "    Success\n",
      "Extracting perturbation 240/1000: chart_023_complex_line_legend_corruption_medium.png\n",
      "    Success\n",
      "Extracting perturbation 241/1000: chart_015_advanced_pie_random_blocks_medium.png\n",
      "    Success\n",
      "Extracting perturbation 242/1000: chart_102_medium_line_rotation_medium.png\n",
      "    Success\n",
      "Extracting perturbation 243/1000: chart_078_medium_area_gaussian_blur_medium.png\n",
      "    Success\n",
      "Extracting perturbation 244/1000: chart_142_medium_bar_gaussian_blur_medium.png\n",
      "    Success\n",
      "Extracting perturbation 245/1000: chart_014_complex_bar_random_blocks_medium.png\n",
      "    Success\n",
      "Extracting perturbation 246/1000: chart_123_medium_line_rotation_medium.png\n",
      "    Success\n",
      "Extracting perturbation 247/1000: chart_059_medium_bar_rotation_medium.png\n",
      "    Success\n",
      "Extracting perturbation 248/1000: chart_165_complex_bar_brightness_shift_medium.png\n",
      "    Success\n",
      "Extracting perturbation 249/1000: chart_093_complex_bar_rotation_medium.png\n",
      "    Success\n",
      "Extracting perturbation 250/1000: chart_033_advanced_area_brightness_shift_medium.png\n",
      "    Success\n",
      "    Progress: 448 total extractions, $13.44 spent, $81.56 remaining\n",
      "Extracting perturbation 251/1000: chart_173_advanced_line_random_blocks_medium.png\n",
      "    Success\n",
      "Extracting perturbation 252/1000: chart_039_medium_line_random_blocks_medium.png\n",
      "    Success\n",
      "Extracting perturbation 253/1000: chart_184_advanced_bar_brightness_shift_medium.png\n",
      "    Success\n",
      "Extracting perturbation 254/1000: chart_110_complex_bar_brightness_shift_medium.png\n",
      "    Success\n",
      "Extracting perturbation 255/1000: chart_099_complex_scatter_rotation_medium.png\n",
      "    Success\n",
      "Extracting perturbation 256/1000: chart_020_complex_line_gaussian_blur_medium.png\n",
      "    Success\n",
      "Extracting perturbation 257/1000: chart_196_medium_line_rotation_medium.png\n",
      "    Success\n",
      "Extracting perturbation 258/1000: chart_140_medium_bar_legend_corruption_medium.png\n",
      "    Success\n",
      "Extracting perturbation 259/1000: chart_128_medium_line_legend_corruption_medium.png\n",
      "    Success\n",
      "Extracting perturbation 260/1000: chart_195_advanced_line_random_blocks_medium.png\n",
      "    Success\n",
      "Extracting perturbation 261/1000: chart_097_advanced_scatter_brightness_shift_medium.png\n",
      "    Success\n",
      "Extracting perturbation 262/1000: chart_012_complex_line_rotation_medium.png\n",
      "    Success\n",
      "Extracting perturbation 263/1000: chart_060_complex_line_gaussian_blur_medium.png\n",
      "    Success\n",
      "Extracting perturbation 264/1000: chart_127_advanced_scatter_legend_corruption_medium.png\n",
      "    Success\n",
      "Extracting perturbation 265/1000: chart_108_complex_scatter_gaussian_blur_medium.png\n",
      "    Success\n",
      "Extracting perturbation 266/1000: chart_156_complex_line_legend_corruption_medium.png\n",
      "    Success\n",
      "Extracting perturbation 267/1000: chart_157_complex_line_rotation_medium.png\n",
      "    Success\n",
      "Extracting perturbation 268/1000: chart_004_complex_pie_random_blocks_medium.png\n",
      "    Success\n",
      "Extracting perturbation 269/1000: chart_081_medium_area_gaussian_blur_medium.png\n",
      "    Success\n",
      "Extracting perturbation 270/1000: chart_146_medium_scatter_rotation_medium.png\n",
      "    Success\n",
      "Extracting perturbation 271/1000: chart_101_medium_bar_legend_corruption_medium.png\n",
      "    Success\n",
      "Extracting perturbation 272/1000: chart_043_medium_line_brightness_shift_medium.png\n",
      "    Success\n",
      "Extracting perturbation 273/1000: chart_034_medium_pie_random_blocks_medium.png\n",
      "    Success\n",
      "Extracting perturbation 274/1000: chart_129_medium_scatter_brightness_shift_medium.png\n",
      "    Success\n",
      "Extracting perturbation 275/1000: chart_115_complex_area_gaussian_blur_medium.png\n",
      "    Success\n",
      "    Progress: 473 total extractions, $14.19 spent, $80.81 remaining\n",
      "Extracting perturbation 276/1000: chart_033_advanced_area_rotation_medium.png\n",
      "    Success\n",
      "Extracting perturbation 277/1000: chart_035_medium_bar_brightness_shift_medium.png\n",
      "    Success\n",
      "Extracting perturbation 278/1000: chart_092_complex_scatter_rotation_medium.png\n",
      "    Success\n",
      "Extracting perturbation 279/1000: chart_148_medium_pie_rotation_medium.png\n",
      "    Success\n",
      "Extracting perturbation 280/1000: chart_058_complex_bar_legend_corruption_medium.png\n",
      "    Success\n",
      "Extracting perturbation 281/1000: chart_080_medium_line_legend_corruption_medium.png\n",
      "    Success\n",
      "Extracting perturbation 282/1000: chart_103_complex_bar_brightness_shift_medium.png\n",
      "    Success\n",
      "Extracting perturbation 283/1000: chart_112_medium_scatter_legend_corruption_medium.png\n",
      "    Success\n",
      "Extracting perturbation 284/1000: chart_019_complex_bar_legend_corruption_medium.png\n",
      "    Success\n",
      "Extracting perturbation 285/1000: chart_029_complex_line_legend_corruption_medium.png\n",
      "    Success\n",
      "Extracting perturbation 286/1000: chart_150_medium_bar_rotation_medium.png\n",
      "    Success\n",
      "Extracting perturbation 287/1000: chart_132_complex_line_legend_corruption_medium.png\n"
     ]
    },
    {
     "name": "stderr",
     "output_type": "stream",
     "text": [
      "Could not parse JSON from response: I'm unable to extract data from images directly. However, I can guide you on how to manually extract the data from the chart:\n",
      "\n",
      "1. **Chart Title**: \"Risk Return Analysis - (Financial Analysis)\"\n",
      "2. **Ch...\n"
     ]
    },
    {
     "name": "stdout",
     "output_type": "stream",
     "text": [
      "    Success\n",
      "Extracting perturbation 288/1000: chart_163_medium_bar_brightness_shift_medium.png\n",
      "    Success\n",
      "Extracting perturbation 289/1000: chart_018_advanced_bar_rotation_medium.png\n",
      "    Success\n",
      "Extracting perturbation 290/1000: chart_060_complex_line_random_blocks_medium.png\n",
      "    Success\n",
      "Extracting perturbation 291/1000: chart_185_advanced_bar_legend_corruption_medium.png\n",
      "    Success\n",
      "Extracting perturbation 292/1000: chart_003_medium_bar_brightness_shift_medium.png\n",
      "    Success\n",
      "Extracting perturbation 293/1000: chart_187_advanced_pie_legend_corruption_medium.png\n",
      "    Success\n",
      "Extracting perturbation 294/1000: chart_010_complex_bar_gaussian_blur_medium.png\n",
      "    Success\n",
      "Extracting perturbation 295/1000: chart_003_medium_bar_random_blocks_medium.png\n"
     ]
    },
    {
     "name": "stderr",
     "output_type": "stream",
     "text": [
      "Could not parse JSON from response: I'm unable to extract data from the image directly. However, I can guide you on how to manually extract the data using tools like OCR software or by visually inspecting the chart. If you have any ques...\n"
     ]
    },
    {
     "name": "stdout",
     "output_type": "stream",
     "text": [
      "    Success\n",
      "Extracting perturbation 296/1000: chart_150_medium_bar_random_blocks_medium.png\n",
      "    Success\n",
      "Extracting perturbation 297/1000: chart_178_advanced_line_gaussian_blur_medium.png\n",
      "    Success\n",
      "Extracting perturbation 298/1000: chart_045_medium_area_gaussian_blur_medium.png\n",
      "    Success\n",
      "Extracting perturbation 299/1000: chart_113_medium_bar_random_blocks_medium.png\n",
      "    Success\n",
      "Extracting perturbation 300/1000: chart_070_advanced_pie_legend_corruption_medium.png\n",
      "    Success\n",
      "    Progress: 498 total extractions, $14.94 spent, $80.06 remaining\n",
      "Extracting perturbation 301/1000: chart_188_complex_bar_brightness_shift_medium.png\n",
      "    Success\n",
      "Extracting perturbation 302/1000: chart_198_medium_line_rotation_medium.png\n",
      "    Success\n",
      "Extracting perturbation 303/1000: chart_161_complex_bar_random_blocks_medium.png\n",
      "    Success\n",
      "Extracting perturbation 304/1000: chart_052_complex_bar_gaussian_blur_medium.png\n",
      "    Success\n",
      "Extracting perturbation 305/1000: chart_028_medium_scatter_rotation_medium.png\n",
      "    Success\n",
      "Extracting perturbation 306/1000: chart_042_complex_scatter_gaussian_blur_medium.png\n",
      "    Success\n",
      "Extracting perturbation 307/1000: chart_076_advanced_bar_brightness_shift_medium.png\n",
      "    Success\n",
      "Extracting perturbation 308/1000: chart_048_medium_pie_rotation_medium.png\n",
      "    Success\n",
      "Extracting perturbation 309/1000: chart_187_advanced_pie_rotation_medium.png\n",
      "    Success\n",
      "Extracting perturbation 310/1000: chart_198_medium_line_legend_corruption_medium.png\n",
      "    Success\n",
      "Extracting perturbation 311/1000: chart_067_advanced_line_legend_corruption_medium.png\n",
      "    Success\n",
      "Extracting perturbation 312/1000: chart_081_medium_area_rotation_medium.png\n",
      "    Success\n",
      "Extracting perturbation 313/1000: chart_068_medium_line_legend_corruption_medium.png\n",
      "    Success\n",
      "Extracting perturbation 314/1000: chart_032_complex_area_legend_corruption_medium.png\n",
      "    Success\n",
      "Extracting perturbation 315/1000: chart_017_advanced_line_rotation_medium.png\n",
      "    Success\n",
      "Extracting perturbation 316/1000: chart_108_complex_scatter_legend_corruption_medium.png\n",
      "    Success\n",
      "Extracting perturbation 317/1000: chart_156_complex_line_gaussian_blur_medium.png\n",
      "    Success\n",
      "Extracting perturbation 318/1000: chart_015_advanced_pie_legend_corruption_medium.png\n",
      "    Success\n",
      "Extracting perturbation 319/1000: chart_135_complex_bar_legend_corruption_medium.png\n",
      "    Success\n",
      "Extracting perturbation 320/1000: chart_111_medium_bar_rotation_medium.png\n",
      "    Success\n",
      "Extracting perturbation 321/1000: chart_173_advanced_line_brightness_shift_medium.png\n",
      "    Success\n",
      "Extracting perturbation 322/1000: chart_149_complex_bar_brightness_shift_medium.png\n",
      "    Success\n",
      "Extracting perturbation 323/1000: chart_078_medium_area_legend_corruption_medium.png\n",
      "    Success\n",
      "Extracting perturbation 324/1000: chart_200_advanced_pie_gaussian_blur_medium.png\n",
      "    Success\n",
      "Extracting perturbation 325/1000: chart_021_medium_area_gaussian_blur_medium.png\n",
      "    Success\n",
      "    Progress: 523 total extractions, $15.69 spent, $79.31 remaining\n",
      "Extracting perturbation 326/1000: chart_124_advanced_pie_gaussian_blur_medium.png\n",
      "    Success\n",
      "Extracting perturbation 327/1000: chart_133_complex_bar_random_blocks_medium.png\n",
      "    Success\n",
      "Extracting perturbation 328/1000: chart_155_medium_bar_random_blocks_medium.png\n",
      "    Success\n",
      "Extracting perturbation 329/1000: chart_024_advanced_scatter_rotation_medium.png\n",
      "    Success\n",
      "Extracting perturbation 330/1000: chart_182_complex_bar_brightness_shift_medium.png\n",
      "    Success\n",
      "Extracting perturbation 331/1000: chart_131_complex_line_random_blocks_medium.png\n",
      "    Success\n",
      "Extracting perturbation 332/1000: chart_186_complex_pie_random_blocks_medium.png\n",
      "    Success\n",
      "Extracting perturbation 333/1000: chart_030_medium_bar_legend_corruption_medium.png\n",
      "    Success\n",
      "Extracting perturbation 334/1000: chart_089_medium_pie_legend_corruption_medium.png\n",
      "    Success\n",
      "Extracting perturbation 335/1000: chart_004_complex_pie_gaussian_blur_medium.png\n",
      "    Success\n",
      "Extracting perturbation 336/1000: chart_199_medium_line_legend_corruption_medium.png\n",
      "    Success\n",
      "Extracting perturbation 337/1000: chart_080_medium_line_brightness_shift_medium.png\n",
      "    Success\n",
      "Extracting perturbation 338/1000: chart_061_medium_bar_rotation_medium.png\n",
      "    Success\n",
      "Extracting perturbation 339/1000: chart_073_medium_scatter_random_blocks_medium.png\n",
      "    Success\n",
      "Extracting perturbation 340/1000: chart_196_medium_line_brightness_shift_medium.png\n",
      "    Success\n",
      "Extracting perturbation 341/1000: chart_155_medium_bar_rotation_medium.png\n",
      "    Success\n",
      "Extracting perturbation 342/1000: chart_070_advanced_pie_gaussian_blur_medium.png\n",
      "    Success\n",
      "Extracting perturbation 343/1000: chart_008_advanced_pie_random_blocks_medium.png\n",
      "    Success\n",
      "Extracting perturbation 344/1000: chart_057_advanced_area_legend_corruption_medium.png\n",
      "    Success\n",
      "Extracting perturbation 345/1000: chart_103_complex_bar_rotation_medium.png\n",
      "    Success\n",
      "Extracting perturbation 346/1000: chart_199_medium_line_random_blocks_medium.png\n",
      "    Success\n",
      "Extracting perturbation 347/1000: chart_017_advanced_line_brightness_shift_medium.png\n",
      "    Success\n",
      "Extracting perturbation 348/1000: chart_158_advanced_pie_legend_corruption_medium.png\n",
      "    Success\n",
      "Extracting perturbation 349/1000: chart_148_medium_pie_random_blocks_medium.png\n",
      "    Success\n",
      "Extracting perturbation 350/1000: chart_190_complex_area_random_blocks_medium.png\n",
      "    Success\n",
      "    Progress: 548 total extractions, $16.44 spent, $78.56 remaining\n",
      "Extracting perturbation 351/1000: chart_122_medium_line_brightness_shift_medium.png\n",
      "    Success\n",
      "Extracting perturbation 352/1000: chart_065_advanced_bar_brightness_shift_medium.png\n",
      "    Success\n",
      "Extracting perturbation 353/1000: chart_185_advanced_bar_rotation_medium.png\n",
      "    Success\n",
      "Extracting perturbation 354/1000: chart_011_advanced_scatter_brightness_shift_medium.png\n",
      "    Success\n",
      "Extracting perturbation 355/1000: chart_102_medium_line_legend_corruption_medium.png\n",
      "    Success\n",
      "Extracting perturbation 356/1000: chart_007_medium_line_brightness_shift_medium.png\n",
      "    Success\n",
      "Extracting perturbation 357/1000: chart_142_medium_bar_brightness_shift_medium.png\n",
      "    Success\n",
      "Extracting perturbation 358/1000: chart_102_medium_line_random_blocks_medium.png\n",
      "    Success\n",
      "Extracting perturbation 359/1000: chart_179_complex_line_brightness_shift_medium.png\n",
      "    Success\n",
      "Extracting perturbation 360/1000: chart_143_complex_bar_brightness_shift_medium.png\n",
      "    Success\n",
      "Extracting perturbation 361/1000: chart_134_complex_bar_brightness_shift_medium.png\n"
     ]
    },
    {
     "name": "stderr",
     "output_type": "stream",
     "text": [
      "API attempt 1 failed for data\\perturbations\\chart_134_complex_bar_brightness_shift_medium.png: Request timed out.\n"
     ]
    },
    {
     "name": "stdout",
     "output_type": "stream",
     "text": [
      "    Success\n",
      "Extracting perturbation 362/1000: chart_176_advanced_bar_brightness_shift_medium.png\n",
      "    Success\n",
      "Extracting perturbation 363/1000: chart_046_medium_line_gaussian_blur_medium.png\n",
      "    Success\n",
      "Extracting perturbation 364/1000: chart_141_medium_bar_rotation_medium.png\n",
      "    Success\n",
      "Extracting perturbation 365/1000: chart_102_medium_line_brightness_shift_medium.png\n",
      "    Success\n",
      "Extracting perturbation 366/1000: chart_160_advanced_pie_gaussian_blur_medium.png\n",
      "    Success\n",
      "Extracting perturbation 367/1000: chart_024_advanced_scatter_brightness_shift_medium.png\n",
      "    Success\n",
      "Extracting perturbation 368/1000: chart_151_complex_line_random_blocks_medium.png\n",
      "    Success\n",
      "Extracting perturbation 369/1000: chart_169_advanced_line_legend_corruption_medium.png\n",
      "    Success\n",
      "Extracting perturbation 370/1000: chart_063_complex_bar_brightness_shift_medium.png\n",
      "    Success\n",
      "Extracting perturbation 371/1000: chart_043_medium_line_random_blocks_medium.png\n",
      "    Success\n",
      "Extracting perturbation 372/1000: chart_103_complex_bar_random_blocks_medium.png\n",
      "    Success\n",
      "Extracting perturbation 373/1000: chart_013_complex_pie_brightness_shift_medium.png\n",
      "    Success\n",
      "Extracting perturbation 374/1000: chart_152_complex_pie_legend_corruption_medium.png\n",
      "    Success\n",
      "Extracting perturbation 375/1000: chart_097_advanced_scatter_legend_corruption_medium.png\n",
      "    Success\n",
      "    Progress: 573 total extractions, $17.19 spent, $77.81 remaining\n",
      "Extracting perturbation 376/1000: chart_032_complex_area_brightness_shift_medium.png\n",
      "    Success\n",
      "Extracting perturbation 377/1000: chart_183_advanced_scatter_random_blocks_medium.png\n",
      "    Success\n",
      "Extracting perturbation 378/1000: chart_016_medium_scatter_gaussian_blur_medium.png\n",
      "    Success\n",
      "Extracting perturbation 379/1000: chart_146_medium_scatter_gaussian_blur_medium.png\n",
      "    Success\n",
      "Extracting perturbation 380/1000: chart_082_complex_area_legend_corruption_medium.png\n",
      "    Success\n",
      "Extracting perturbation 381/1000: chart_182_complex_bar_rotation_medium.png\n"
     ]
    },
    {
     "name": "stderr",
     "output_type": "stream",
     "text": [
      "API attempt 1 failed for data\\perturbations\\chart_182_complex_bar_rotation_medium.png: Request timed out.\n",
      "API attempt 2 failed for data\\perturbations\\chart_182_complex_bar_rotation_medium.png: Request timed out.\n",
      "API attempt 3 failed for data\\perturbations\\chart_182_complex_bar_rotation_medium.png: Request timed out.\n",
      "Extraction failed for data\\perturbations\\chart_182_complex_bar_rotation_medium.png: Request timed out.\n"
     ]
    },
    {
     "name": "stdout",
     "output_type": "stream",
     "text": [
      "    Failed\n",
      "Extracting perturbation 382/1000: chart_065_advanced_bar_legend_corruption_medium.png\n",
      "    Success\n",
      "Extracting perturbation 383/1000: chart_060_complex_line_brightness_shift_medium.png\n",
      "    Success\n",
      "Extracting perturbation 384/1000: chart_008_advanced_pie_legend_corruption_medium.png\n",
      "    Success\n",
      "Extracting perturbation 385/1000: chart_081_medium_area_brightness_shift_medium.png\n",
      "    Success\n",
      "Extracting perturbation 386/1000: chart_042_complex_scatter_brightness_shift_medium.png\n",
      "    Success\n",
      "Extracting perturbation 387/1000: chart_007_medium_line_random_blocks_medium.png\n",
      "    Success\n",
      "Extracting perturbation 388/1000: chart_012_complex_line_random_blocks_medium.png\n",
      "    Success\n",
      "Extracting perturbation 389/1000: chart_133_complex_bar_legend_corruption_medium.png\n",
      "    Success\n",
      "Extracting perturbation 390/1000: chart_113_medium_bar_brightness_shift_medium.png\n",
      "    Success\n",
      "Extracting perturbation 391/1000: chart_110_complex_bar_random_blocks_medium.png\n",
      "    Success\n",
      "Extracting perturbation 392/1000: chart_087_complex_line_legend_corruption_medium.png\n",
      "    Success\n",
      "Extracting perturbation 393/1000: chart_099_complex_scatter_random_blocks_medium.png\n",
      "    Success\n",
      "Extracting perturbation 394/1000: chart_159_medium_area_brightness_shift_medium.png\n",
      "    Success\n",
      "Extracting perturbation 395/1000: chart_050_complex_bar_brightness_shift_medium.png\n",
      "    Success\n",
      "Extracting perturbation 396/1000: chart_130_medium_bar_brightness_shift_medium.png\n",
      "    Success\n",
      "Extracting perturbation 397/1000: chart_030_medium_bar_brightness_shift_medium.png\n",
      "    Success\n",
      "Extracting perturbation 398/1000: chart_147_complex_line_gaussian_blur_medium.png\n"
     ]
    },
    {
     "name": "stderr",
     "output_type": "stream",
     "text": [
      "Could not parse JSON from response: I'm unable to extract numerical values from images. However, I can help you analyze the chart visually or provide guidance on how to extract data using tools like OCR software or data visualization li...\n"
     ]
    },
    {
     "name": "stdout",
     "output_type": "stream",
     "text": [
      "    Success\n",
      "Extracting perturbation 399/1000: chart_124_advanced_pie_legend_corruption_medium.png\n",
      "    Success\n",
      "Extracting perturbation 400/1000: chart_185_advanced_bar_random_blocks_medium.png\n",
      "    Success\n",
      "    Progress: 597 total extractions, $17.91 spent, $77.09 remaining\n",
      "Extracting perturbation 401/1000: chart_106_complex_pie_brightness_shift_medium.png\n",
      "    Success\n",
      "Extracting perturbation 402/1000: chart_078_medium_area_brightness_shift_medium.png\n",
      "    Success\n",
      "Extracting perturbation 403/1000: chart_066_complex_bar_gaussian_blur_medium.png\n",
      "    Success\n",
      "Extracting perturbation 404/1000: chart_083_complex_bar_brightness_shift_medium.png\n"
     ]
    },
    {
     "name": "stderr",
     "output_type": "stream",
     "text": [
      "API attempt 1 failed for data\\perturbations\\chart_083_complex_bar_brightness_shift_medium.png: Request timed out.\n"
     ]
    },
    {
     "name": "stdout",
     "output_type": "stream",
     "text": [
      "    Success\n",
      "Extracting perturbation 405/1000: chart_190_complex_area_legend_corruption_medium.png\n",
      "    Success\n",
      "Extracting perturbation 406/1000: chart_030_medium_bar_rotation_medium.png\n",
      "    Success\n",
      "Extracting perturbation 407/1000: chart_092_complex_scatter_brightness_shift_medium.png\n",
      "    Success\n",
      "Extracting perturbation 408/1000: chart_146_medium_scatter_random_blocks_medium.png\n",
      "    Success\n",
      "Extracting perturbation 409/1000: chart_005_complex_bar_random_blocks_medium.png\n",
      "    Success\n",
      "Extracting perturbation 410/1000: chart_029_complex_line_brightness_shift_medium.png\n",
      "    Success\n",
      "Extracting perturbation 411/1000: chart_013_complex_pie_rotation_medium.png\n",
      "    Success\n",
      "Extracting perturbation 412/1000: chart_167_complex_bar_legend_corruption_medium.png\n",
      "    Success\n",
      "Extracting perturbation 413/1000: chart_175_complex_line_legend_corruption_medium.png\n",
      "    Success\n",
      "Extracting perturbation 414/1000: chart_002_medium_bar_legend_corruption_medium.png\n",
      "    Success\n",
      "Extracting perturbation 415/1000: chart_184_advanced_bar_legend_corruption_medium.png\n",
      "    Success\n",
      "Extracting perturbation 416/1000: chart_019_complex_bar_gaussian_blur_medium.png\n",
      "    Success\n",
      "Extracting perturbation 417/1000: chart_037_advanced_scatter_rotation_medium.png\n",
      "    Success\n",
      "Extracting perturbation 418/1000: chart_024_advanced_scatter_gaussian_blur_medium.png\n",
      "    Success\n",
      "Extracting perturbation 419/1000: chart_180_advanced_bar_brightness_shift_medium.png\n",
      "    Success\n",
      "Extracting perturbation 420/1000: chart_020_complex_line_rotation_medium.png\n",
      "    Success\n",
      "Extracting perturbation 421/1000: chart_118_complex_bar_legend_corruption_medium.png\n",
      "    Success\n",
      "Extracting perturbation 422/1000: chart_029_complex_line_rotation_medium.png\n",
      "    Success\n",
      "Extracting perturbation 423/1000: chart_099_complex_scatter_brightness_shift_medium.png\n",
      "    Success\n",
      "Extracting perturbation 424/1000: chart_178_advanced_line_legend_corruption_medium.png\n",
      "    Success\n",
      "Extracting perturbation 425/1000: chart_183_advanced_scatter_legend_corruption_medium.png\n",
      "    Success\n",
      "    Progress: 622 total extractions, $18.66 spent, $76.34 remaining\n",
      "Extracting perturbation 426/1000: chart_061_medium_bar_gaussian_blur_medium.png\n",
      "    Success\n",
      "Extracting perturbation 427/1000: chart_106_complex_pie_gaussian_blur_medium.png\n",
      "    Success\n",
      "Extracting perturbation 428/1000: chart_098_complex_area_legend_corruption_medium.png\n",
      "    Success\n",
      "Extracting perturbation 429/1000: chart_050_complex_bar_legend_corruption_medium.png\n",
      "    Success\n",
      "Extracting perturbation 430/1000: chart_175_complex_line_gaussian_blur_medium.png\n",
      "    Success\n",
      "Extracting perturbation 431/1000: chart_161_complex_bar_brightness_shift_medium.png\n",
      "    Success\n",
      "Extracting perturbation 432/1000: chart_088_complex_bar_rotation_medium.png\n",
      "    Success\n",
      "Extracting perturbation 433/1000: chart_180_advanced_bar_random_blocks_medium.png\n",
      "    Success\n",
      "Extracting perturbation 434/1000: chart_095_complex_area_rotation_medium.png\n",
      "    Success\n",
      "Extracting perturbation 435/1000: chart_079_complex_bar_brightness_shift_medium.png\n",
      "    Success\n",
      "Extracting perturbation 436/1000: chart_181_medium_pie_random_blocks_medium.png\n",
      "    Success\n",
      "Extracting perturbation 437/1000: chart_077_advanced_line_brightness_shift_medium.png\n",
      "    Success\n",
      "Extracting perturbation 438/1000: chart_153_advanced_scatter_rotation_medium.png\n",
      "    Success\n",
      "Extracting perturbation 439/1000: chart_189_complex_bar_brightness_shift_medium.png\n",
      "    Success\n",
      "Extracting perturbation 440/1000: chart_020_complex_line_random_blocks_medium.png\n",
      "    Success\n",
      "Extracting perturbation 441/1000: chart_074_advanced_line_rotation_medium.png\n",
      "    Success\n",
      "Extracting perturbation 442/1000: chart_013_complex_pie_gaussian_blur_medium.png\n",
      "    Success\n",
      "Extracting perturbation 443/1000: chart_157_complex_line_legend_corruption_medium.png\n",
      "    Success\n",
      "Extracting perturbation 444/1000: chart_026_medium_bar_random_blocks_medium.png\n"
     ]
    },
    {
     "name": "stderr",
     "output_type": "stream",
     "text": [
      "Could not parse JSON from response: I'm unable to extract data from the image directly. However, I can guide you on how to manually extract the data using tools like OCR software or by analyzing the chart visually. If you have any quest...\n"
     ]
    },
    {
     "name": "stdout",
     "output_type": "stream",
     "text": [
      "    Success\n",
      "Extracting perturbation 445/1000: chart_132_complex_line_random_blocks_medium.png\n",
      "    Success\n",
      "Extracting perturbation 446/1000: chart_157_complex_line_brightness_shift_medium.png\n"
     ]
    },
    {
     "name": "stderr",
     "output_type": "stream",
     "text": [
      "Could not parse JSON from response: I'm unable to extract data from images directly. However, I can guide you on how to manually extract the data from the chart. Here's a general approach:\n",
      "\n",
      "1. **Identify the Chart Type**: This is a line...\n",
      "Could not parse JSON from response: I'm unable to extract data from images directly. However, I can guide you on how to manually extract the data from the chart. Here's a general approach:\n",
      "\n",
      "1. **Identify the Chart Type**: This is a line...\n"
     ]
    },
    {
     "name": "stdout",
     "output_type": "stream",
     "text": [
      "    Success\n",
      "Extracting perturbation 447/1000: chart_047_medium_bar_legend_corruption_medium.png\n",
      "    Success\n",
      "Extracting perturbation 448/1000: chart_098_complex_area_rotation_medium.png\n",
      "    Success\n",
      "Extracting perturbation 449/1000: chart_105_complex_area_legend_corruption_medium.png\n",
      "    Success\n",
      "Extracting perturbation 450/1000: chart_121_advanced_pie_brightness_shift_medium.png\n",
      "    Success\n",
      "    Progress: 647 total extractions, $19.41 spent, $75.59 remaining\n",
      "Extracting perturbation 451/1000: chart_180_advanced_bar_legend_corruption_medium.png\n",
      "    Success\n",
      "Extracting perturbation 452/1000: chart_077_advanced_line_gaussian_blur_medium.png\n",
      "    Success\n",
      "Extracting perturbation 453/1000: chart_044_complex_scatter_legend_corruption_medium.png\n",
      "    Success\n",
      "Extracting perturbation 454/1000: chart_036_complex_bar_gaussian_blur_medium.png\n",
      "    Success\n",
      "Extracting perturbation 455/1000: chart_159_medium_area_random_blocks_medium.png\n",
      "    Success\n",
      "Extracting perturbation 456/1000: chart_131_complex_line_rotation_medium.png\n",
      "    Success\n",
      "Extracting perturbation 457/1000: chart_170_advanced_pie_legend_corruption_medium.png\n",
      "    Success\n",
      "Extracting perturbation 458/1000: chart_038_medium_line_random_blocks_medium.png\n",
      "    Success\n",
      "Extracting perturbation 459/1000: chart_060_complex_line_legend_corruption_medium.png\n",
      "    Success\n",
      "Extracting perturbation 460/1000: chart_160_advanced_pie_rotation_medium.png\n",
      "    Success\n",
      "Extracting perturbation 461/1000: chart_105_complex_area_rotation_medium.png\n",
      "    Success\n",
      "Extracting perturbation 462/1000: chart_144_medium_bar_gaussian_blur_medium.png\n",
      "    Success\n",
      "Extracting perturbation 463/1000: chart_071_advanced_bar_rotation_medium.png\n",
      "    Success\n",
      "Extracting perturbation 464/1000: chart_042_complex_scatter_legend_corruption_medium.png\n",
      "    Success\n",
      "Extracting perturbation 465/1000: chart_023_complex_line_random_blocks_medium.png\n",
      "    Success\n",
      "Extracting perturbation 466/1000: chart_141_medium_bar_legend_corruption_medium.png\n",
      "    Success\n",
      "Extracting perturbation 467/1000: chart_141_medium_bar_brightness_shift_medium.png\n",
      "    Success\n",
      "Extracting perturbation 468/1000: chart_187_advanced_pie_brightness_shift_medium.png\n",
      "    Success\n",
      "Extracting perturbation 469/1000: chart_194_medium_pie_rotation_medium.png\n",
      "    Success\n",
      "Extracting perturbation 470/1000: chart_114_advanced_bar_rotation_medium.png\n",
      "    Success\n",
      "Extracting perturbation 471/1000: chart_104_medium_line_brightness_shift_medium.png\n",
      "    Success\n",
      "Extracting perturbation 472/1000: chart_073_medium_scatter_rotation_medium.png\n",
      "    Success\n",
      "Extracting perturbation 473/1000: chart_133_complex_bar_rotation_medium.png\n",
      "    Success\n",
      "Extracting perturbation 474/1000: chart_049_medium_bar_random_blocks_medium.png\n"
     ]
    },
    {
     "name": "stderr",
     "output_type": "stream",
     "text": [
      "Could not parse JSON from response: I'm unable to extract data from images directly. However, I can guide you on how to manually extract the data:\n",
      "\n",
      "1. **Chart Title**: Look at the top of the chart for the title.\n",
      "2. **Chart Type**: Ident...\n"
     ]
    },
    {
     "name": "stdout",
     "output_type": "stream",
     "text": [
      "    Success\n",
      "Extracting perturbation 475/1000: chart_158_advanced_pie_random_blocks_medium.png\n"
     ]
    },
    {
     "name": "stderr",
     "output_type": "stream",
     "text": [
      "Could not parse JSON from response: I'm unable to process the image directly. However, if you can provide the text or data from the chart, I can help format it into the required JSON structure....\n"
     ]
    },
    {
     "name": "stdout",
     "output_type": "stream",
     "text": [
      "    Success\n",
      "    Progress: 672 total extractions, $20.16 spent, $74.84 remaining\n",
      "Extracting perturbation 476/1000: chart_177_medium_bar_brightness_shift_medium.png\n",
      "    Success\n",
      "Extracting perturbation 477/1000: chart_116_medium_line_rotation_medium.png\n",
      "    Success\n",
      "Extracting perturbation 478/1000: chart_132_complex_line_rotation_medium.png\n",
      "    Success\n",
      "Extracting perturbation 479/1000: chart_140_medium_bar_rotation_medium.png\n",
      "    Success\n",
      "Extracting perturbation 480/1000: chart_182_complex_bar_random_blocks_medium.png\n",
      "    Success\n",
      "Extracting perturbation 481/1000: chart_074_advanced_line_random_blocks_medium.png\n",
      "    Success\n",
      "Extracting perturbation 482/1000: chart_108_complex_scatter_rotation_medium.png\n",
      "    Success\n",
      "Extracting perturbation 483/1000: chart_009_medium_bar_random_blocks_medium.png\n",
      "    Success\n",
      "Extracting perturbation 484/1000: chart_020_complex_line_legend_corruption_medium.png\n",
      "    Success\n",
      "Extracting perturbation 485/1000: chart_053_complex_bar_rotation_medium.png\n",
      "    Success\n",
      "Extracting perturbation 486/1000: chart_137_complex_bar_rotation_medium.png\n",
      "    Success\n",
      "Extracting perturbation 487/1000: chart_197_complex_line_brightness_shift_medium.png\n",
      "    Success\n",
      "Extracting perturbation 488/1000: chart_128_medium_line_rotation_medium.png\n",
      "    Success\n",
      "Extracting perturbation 489/1000: chart_099_complex_scatter_gaussian_blur_medium.png\n",
      "    Success\n",
      "Extracting perturbation 490/1000: chart_162_medium_line_brightness_shift_medium.png\n",
      "    Success\n",
      "Extracting perturbation 491/1000: chart_124_advanced_pie_brightness_shift_medium.png\n",
      "    Success\n",
      "Extracting perturbation 492/1000: chart_143_complex_bar_gaussian_blur_medium.png\n",
      "    Success\n",
      "Extracting perturbation 493/1000: chart_029_complex_line_random_blocks_medium.png\n",
      "    Success\n",
      "Extracting perturbation 494/1000: chart_035_medium_bar_rotation_medium.png\n",
      "    Success\n",
      "Extracting perturbation 495/1000: chart_027_complex_bar_legend_corruption_medium.png\n",
      "    Success\n",
      "Extracting perturbation 496/1000: chart_163_medium_bar_gaussian_blur_medium.png\n",
      "    Success\n",
      "Extracting perturbation 497/1000: chart_169_advanced_line_random_blocks_medium.png\n",
      "    Success\n",
      "Extracting perturbation 498/1000: chart_106_complex_pie_random_blocks_medium.png\n",
      "    Success\n",
      "Extracting perturbation 499/1000: chart_103_complex_bar_gaussian_blur_medium.png\n",
      "    Success\n",
      "Extracting perturbation 500/1000: chart_019_complex_bar_random_blocks_medium.png\n",
      "    Success\n",
      "    Progress: 697 total extractions, $20.91 spent, $74.09 remaining\n",
      "Extracting perturbation 501/1000: chart_170_advanced_pie_gaussian_blur_medium.png\n",
      "    Success\n",
      "Extracting perturbation 502/1000: chart_167_complex_bar_random_blocks_medium.png\n",
      "    Success\n",
      "Extracting perturbation 503/1000: chart_174_medium_scatter_rotation_medium.png\n",
      "    Success\n",
      "Extracting perturbation 504/1000: chart_003_medium_bar_rotation_medium.png\n",
      "    Success\n",
      "Extracting perturbation 505/1000: chart_035_medium_bar_legend_corruption_medium.png\n",
      "    Success\n",
      "Extracting perturbation 506/1000: chart_156_complex_line_rotation_medium.png\n",
      "    Success\n",
      "Extracting perturbation 507/1000: chart_069_complex_pie_legend_corruption_medium.png\n",
      "    Success\n",
      "Extracting perturbation 508/1000: chart_164_complex_line_random_blocks_medium.png\n",
      "    Success\n",
      "Extracting perturbation 509/1000: chart_189_complex_bar_gaussian_blur_medium.png\n",
      "    Success\n",
      "Extracting perturbation 510/1000: chart_048_medium_pie_legend_corruption_medium.png\n",
      "    Success\n",
      "Extracting perturbation 511/1000: chart_197_complex_line_gaussian_blur_medium.png\n",
      "    Success\n",
      "Extracting perturbation 512/1000: chart_194_medium_pie_legend_corruption_medium.png\n",
      "    Success\n",
      "Extracting perturbation 513/1000: chart_093_complex_bar_gaussian_blur_medium.png\n",
      "    Success\n",
      "Extracting perturbation 514/1000: chart_166_advanced_scatter_random_blocks_medium.png\n",
      "    Success\n",
      "Extracting perturbation 515/1000: chart_018_advanced_bar_random_blocks_medium.png\n",
      "    Success\n",
      "Extracting perturbation 516/1000: chart_051_medium_line_gaussian_blur_medium.png\n",
      "    Success\n",
      "Extracting perturbation 517/1000: chart_067_advanced_line_brightness_shift_medium.png\n",
      "    Success\n",
      "Extracting perturbation 518/1000: chart_055_medium_pie_rotation_medium.png\n",
      "    Success\n",
      "Extracting perturbation 519/1000: chart_122_medium_line_gaussian_blur_medium.png\n",
      "    Success\n",
      "Extracting perturbation 520/1000: chart_188_complex_bar_legend_corruption_medium.png\n",
      "    Success\n",
      "Extracting perturbation 521/1000: chart_100_complex_bar_brightness_shift_medium.png\n",
      "    Success\n",
      "Extracting perturbation 522/1000: chart_056_advanced_area_gaussian_blur_medium.png\n",
      "    Success\n",
      "Extracting perturbation 523/1000: chart_149_complex_bar_legend_corruption_medium.png\n",
      "    Success\n",
      "Extracting perturbation 524/1000: chart_090_advanced_scatter_brightness_shift_medium.png\n",
      "    Success\n",
      "Extracting perturbation 525/1000: chart_113_medium_bar_legend_corruption_medium.png\n",
      "    Success\n",
      "    Progress: 722 total extractions, $21.66 spent, $73.34 remaining\n",
      "Extracting perturbation 526/1000: chart_095_complex_area_brightness_shift_medium.png\n",
      "    Success\n",
      "Extracting perturbation 527/1000: chart_075_medium_bar_brightness_shift_medium.png\n",
      "    Success\n",
      "Extracting perturbation 528/1000: chart_089_medium_pie_random_blocks_medium.png\n",
      "    Success\n",
      "Extracting perturbation 529/1000: chart_022_complex_scatter_random_blocks_medium.png\n",
      "    Success\n",
      "Extracting perturbation 530/1000: chart_101_medium_bar_gaussian_blur_medium.png\n",
      "    Success\n",
      "Extracting perturbation 531/1000: chart_125_complex_pie_rotation_medium.png\n",
      "    Success\n",
      "Extracting perturbation 532/1000: chart_003_medium_bar_legend_corruption_medium.png\n",
      "    Success\n",
      "Extracting perturbation 533/1000: chart_070_advanced_pie_rotation_medium.png\n",
      "    Success\n",
      "Extracting perturbation 534/1000: chart_191_medium_line_brightness_shift_medium.png\n",
      "    Success\n",
      "Extracting perturbation 535/1000: chart_114_advanced_bar_random_blocks_medium.png\n",
      "    Success\n",
      "Extracting perturbation 536/1000: chart_076_advanced_bar_rotation_medium.png\n",
      "    Success\n",
      "Extracting perturbation 537/1000: chart_119_advanced_line_gaussian_blur_medium.png\n",
      "    Success\n",
      "Extracting perturbation 538/1000: chart_072_advanced_scatter_brightness_shift_medium.png\n",
      "    Success\n",
      "Extracting perturbation 539/1000: chart_174_medium_scatter_brightness_shift_medium.png\n",
      "    Success\n",
      "Extracting perturbation 540/1000: chart_025_medium_scatter_random_blocks_medium.png\n",
      "    Success\n",
      "Extracting perturbation 541/1000: chart_155_medium_bar_brightness_shift_medium.png\n",
      "    Success\n",
      "Extracting perturbation 542/1000: chart_021_medium_area_rotation_medium.png\n",
      "    Success\n",
      "Extracting perturbation 543/1000: chart_050_complex_bar_random_blocks_medium.png\n"
     ]
    },
    {
     "name": "stderr",
     "output_type": "stream",
     "text": [
      "Could not parse JSON from response: I'm unable to extract data from the image directly. However, I can guide you on how to manually extract the data using the following steps:\n",
      "\n",
      "1. **Identify the Chart Type**: Determine if it's a bar, pi...\n"
     ]
    },
    {
     "name": "stdout",
     "output_type": "stream",
     "text": [
      "    Success\n",
      "Extracting perturbation 544/1000: chart_176_advanced_bar_legend_corruption_medium.png\n",
      "    Success\n",
      "Extracting perturbation 545/1000: chart_155_medium_bar_gaussian_blur_medium.png\n",
      "    Success\n",
      "Extracting perturbation 546/1000: chart_082_complex_area_gaussian_blur_medium.png\n",
      "    Success\n",
      "Extracting perturbation 547/1000: chart_077_advanced_line_rotation_medium.png\n",
      "    Success\n",
      "Extracting perturbation 548/1000: chart_064_advanced_bar_rotation_medium.png\n",
      "    Success\n",
      "Extracting perturbation 549/1000: chart_006_medium_bar_gaussian_blur_medium.png\n",
      "    Success\n",
      "Extracting perturbation 550/1000: chart_187_advanced_pie_random_blocks_medium.png\n",
      "    Success\n",
      "    Progress: 747 total extractions, $22.41 spent, $72.59 remaining\n",
      "Extracting perturbation 551/1000: chart_064_advanced_bar_random_blocks_medium.png\n",
      "    Success\n",
      "Extracting perturbation 552/1000: chart_034_medium_pie_legend_corruption_medium.png\n",
      "    Success\n",
      "Extracting perturbation 553/1000: chart_175_complex_line_rotation_medium.png\n",
      "    Success\n",
      "Extracting perturbation 554/1000: chart_035_medium_bar_gaussian_blur_medium.png\n",
      "    Success\n",
      "Extracting perturbation 555/1000: chart_076_advanced_bar_legend_corruption_medium.png\n",
      "    Success\n",
      "Extracting perturbation 556/1000: chart_053_complex_bar_legend_corruption_medium.png\n",
      "    Success\n",
      "Extracting perturbation 557/1000: chart_145_medium_scatter_rotation_medium.png\n",
      "    Success\n",
      "Extracting perturbation 558/1000: chart_045_medium_area_random_blocks_medium.png\n"
     ]
    },
    {
     "name": "stderr",
     "output_type": "stream",
     "text": [
      "Could not parse JSON from response: I'm unable to extract data from the image directly. However, I can guide you on how to manually extract the data using image processing tools or software that supports OCR (Optical Character Recogniti...\n"
     ]
    },
    {
     "name": "stdout",
     "output_type": "stream",
     "text": [
      "    Success\n",
      "Extracting perturbation 559/1000: chart_024_advanced_scatter_legend_corruption_medium.png\n",
      "    Success\n",
      "Extracting perturbation 560/1000: chart_166_advanced_scatter_legend_corruption_medium.png\n",
      "    Success\n",
      "Extracting perturbation 561/1000: chart_026_medium_bar_rotation_medium.png\n",
      "    Success\n",
      "Extracting perturbation 562/1000: chart_131_complex_line_brightness_shift_medium.png\n",
      "    Success\n",
      "Extracting perturbation 563/1000: chart_171_medium_bar_brightness_shift_medium.png\n",
      "    Success\n",
      "Extracting perturbation 564/1000: chart_146_medium_scatter_legend_corruption_medium.png\n",
      "    Success\n",
      "Extracting perturbation 565/1000: chart_168_complex_scatter_brightness_shift_medium.png\n",
      "    Success\n",
      "Extracting perturbation 566/1000: chart_161_complex_bar_rotation_medium.png\n",
      "    Success\n",
      "Extracting perturbation 567/1000: chart_007_medium_line_gaussian_blur_medium.png\n",
      "    Success\n",
      "Extracting perturbation 568/1000: chart_009_medium_bar_gaussian_blur_medium.png\n",
      "    Success\n",
      "Extracting perturbation 569/1000: chart_190_complex_area_brightness_shift_medium.png\n",
      "    Success\n",
      "Extracting perturbation 570/1000: chart_046_medium_line_rotation_medium.png\n",
      "    Success\n",
      "Extracting perturbation 571/1000: chart_170_advanced_pie_brightness_shift_medium.png\n",
      "    Success\n",
      "Extracting perturbation 572/1000: chart_011_advanced_scatter_random_blocks_medium.png\n",
      "    Success\n",
      "Extracting perturbation 573/1000: chart_111_medium_bar_legend_corruption_medium.png\n",
      "    Success\n",
      "Extracting perturbation 574/1000: chart_004_complex_pie_rotation_medium.png\n",
      "    Success\n",
      "Extracting perturbation 575/1000: chart_165_complex_bar_random_blocks_medium.png\n",
      "    Success\n",
      "    Progress: 772 total extractions, $23.16 spent, $71.84 remaining\n",
      "Extracting perturbation 576/1000: chart_197_complex_line_rotation_medium.png\n",
      "    Success\n",
      "Extracting perturbation 577/1000: chart_052_complex_bar_random_blocks_medium.png\n",
      "    Success\n",
      "Extracting perturbation 578/1000: chart_087_complex_line_gaussian_blur_medium.png\n",
      "    Success\n",
      "Extracting perturbation 579/1000: chart_057_advanced_area_rotation_medium.png\n",
      "    Success\n",
      "Extracting perturbation 580/1000: chart_118_complex_bar_brightness_shift_medium.png\n",
      "    Success\n",
      "Extracting perturbation 581/1000: chart_070_advanced_pie_brightness_shift_medium.png\n",
      "    Success\n",
      "Extracting perturbation 582/1000: chart_151_complex_line_brightness_shift_medium.png\n",
      "    Success\n",
      "Extracting perturbation 583/1000: chart_094_medium_scatter_brightness_shift_medium.png\n",
      "    Success\n",
      "Extracting perturbation 584/1000: chart_044_complex_scatter_gaussian_blur_medium.png\n",
      "    Success\n",
      "Extracting perturbation 585/1000: chart_068_medium_line_brightness_shift_medium.png\n",
      "    Success\n",
      "Extracting perturbation 586/1000: chart_149_complex_bar_gaussian_blur_medium.png\n",
      "    Success\n",
      "Extracting perturbation 587/1000: chart_054_advanced_bar_gaussian_blur_medium.png\n",
      "    Success\n",
      "Extracting perturbation 588/1000: chart_136_complex_bar_legend_corruption_medium.png\n",
      "    Success\n",
      "Extracting perturbation 589/1000: chart_038_medium_line_gaussian_blur_medium.png\n",
      "    Success\n",
      "Extracting perturbation 590/1000: chart_095_complex_area_legend_corruption_medium.png\n",
      "    Success\n",
      "Extracting perturbation 591/1000: chart_028_medium_scatter_random_blocks_medium.png\n",
      "    Success\n",
      "Extracting perturbation 592/1000: chart_088_complex_bar_random_blocks_medium.png\n",
      "    Success\n",
      "Extracting perturbation 593/1000: chart_018_advanced_bar_brightness_shift_medium.png\n",
      "    Success\n",
      "Extracting perturbation 594/1000: chart_175_complex_line_brightness_shift_medium.png\n",
      "    Success\n",
      "Extracting perturbation 595/1000: chart_116_medium_line_legend_corruption_medium.png\n",
      "    Success\n",
      "Extracting perturbation 596/1000: chart_081_medium_area_random_blocks_medium.png\n",
      "    Success\n",
      "Extracting perturbation 597/1000: chart_006_medium_bar_legend_corruption_medium.png\n",
      "    Success\n",
      "Extracting perturbation 598/1000: chart_110_complex_bar_gaussian_blur_medium.png\n",
      "    Success\n",
      "Extracting perturbation 599/1000: chart_150_medium_bar_brightness_shift_medium.png\n",
      "    Success\n",
      "Extracting perturbation 600/1000: chart_096_advanced_pie_random_blocks_medium.png\n",
      "    Success\n",
      "    Progress: 797 total extractions, $23.91 spent, $71.09 remaining\n",
      "Extracting perturbation 601/1000: chart_034_medium_pie_rotation_medium.png\n",
      "    Success\n",
      "Extracting perturbation 602/1000: chart_083_complex_bar_rotation_medium.png\n"
     ]
    },
    {
     "name": "stderr",
     "output_type": "stream",
     "text": [
      "API attempt 1 failed for data\\perturbations\\chart_083_complex_bar_rotation_medium.png: Request timed out.\n"
     ]
    },
    {
     "name": "stdout",
     "output_type": "stream",
     "text": [
      "    Success\n",
      "Extracting perturbation 603/1000: chart_069_complex_pie_rotation_medium.png\n",
      "    Success\n",
      "Extracting perturbation 604/1000: chart_125_complex_pie_random_blocks_medium.png\n",
      "    Success\n",
      "Extracting perturbation 605/1000: chart_006_medium_bar_rotation_medium.png\n",
      "    Success\n",
      "Extracting perturbation 606/1000: chart_100_complex_bar_legend_corruption_medium.png\n",
      "    Success\n",
      "Extracting perturbation 607/1000: chart_156_complex_line_brightness_shift_medium.png\n",
      "    Success\n",
      "Extracting perturbation 608/1000: chart_056_advanced_area_rotation_medium.png\n",
      "    Success\n",
      "Extracting perturbation 609/1000: chart_137_complex_bar_gaussian_blur_medium.png\n",
      "    Success\n",
      "Extracting perturbation 610/1000: chart_100_complex_bar_rotation_medium.png\n",
      "    Success\n",
      "Extracting perturbation 611/1000: chart_046_medium_line_brightness_shift_medium.png\n",
      "    Success\n",
      "Extracting perturbation 612/1000: chart_112_medium_scatter_rotation_medium.png\n",
      "    Success\n",
      "Extracting perturbation 613/1000: chart_155_medium_bar_legend_corruption_medium.png\n",
      "    Success\n",
      "Extracting perturbation 614/1000: chart_197_complex_line_random_blocks_medium.png\n",
      "    Success\n",
      "Extracting perturbation 615/1000: chart_080_medium_line_rotation_medium.png\n",
      "    Success\n",
      "Extracting perturbation 616/1000: chart_062_medium_bar_brightness_shift_medium.png\n",
      "    Success\n",
      "Extracting perturbation 617/1000: chart_073_medium_scatter_brightness_shift_medium.png\n",
      "    Success\n",
      "Extracting perturbation 618/1000: chart_002_medium_bar_gaussian_blur_medium.png\n",
      "    Success\n",
      "Extracting perturbation 619/1000: chart_098_complex_area_random_blocks_medium.png\n",
      "    Success\n",
      "Extracting perturbation 620/1000: chart_078_medium_area_rotation_medium.png\n",
      "    Success\n",
      "Extracting perturbation 621/1000: chart_139_advanced_scatter_legend_corruption_medium.png\n",
      "    Success\n",
      "Extracting perturbation 622/1000: chart_005_complex_bar_brightness_shift_medium.png\n",
      "    Success\n",
      "Extracting perturbation 623/1000: chart_120_medium_line_random_blocks_medium.png\n",
      "    Success\n",
      "Extracting perturbation 624/1000: chart_080_medium_line_random_blocks_medium.png\n",
      "    Success\n",
      "Extracting perturbation 625/1000: chart_149_complex_bar_random_blocks_medium.png\n",
      "    Success\n",
      "    Progress: 822 total extractions, $24.66 spent, $70.34 remaining\n",
      "Extracting perturbation 626/1000: chart_043_medium_line_gaussian_blur_medium.png\n",
      "    Success\n",
      "Extracting perturbation 627/1000: chart_013_complex_pie_random_blocks_medium.png\n",
      "    Success\n",
      "Extracting perturbation 628/1000: chart_086_complex_scatter_brightness_shift_medium.png\n",
      "    Success\n",
      "Extracting perturbation 629/1000: chart_096_advanced_pie_legend_corruption_medium.png\n",
      "    Success\n",
      "Extracting perturbation 630/1000: chart_112_medium_scatter_brightness_shift_medium.png\n",
      "    Success\n",
      "Extracting perturbation 631/1000: chart_153_advanced_scatter_gaussian_blur_medium.png\n",
      "    Success\n",
      "Extracting perturbation 632/1000: chart_084_complex_bar_legend_corruption_medium.png\n",
      "    Success\n",
      "Extracting perturbation 633/1000: chart_139_advanced_scatter_rotation_medium.png\n",
      "    Success\n",
      "Extracting perturbation 634/1000: chart_014_complex_bar_brightness_shift_medium.png\n",
      "    Success\n",
      "Extracting perturbation 635/1000: chart_044_complex_scatter_rotation_medium.png\n",
      "    Success\n",
      "Extracting perturbation 636/1000: chart_032_complex_area_gaussian_blur_medium.png\n",
      "    Success\n",
      "Extracting perturbation 637/1000: chart_079_complex_bar_legend_corruption_medium.png\n",
      "    Success\n",
      "Extracting perturbation 638/1000: chart_048_medium_pie_gaussian_blur_medium.png\n",
      "    Success\n",
      "Extracting perturbation 639/1000: chart_031_complex_scatter_rotation_medium.png\n",
      "    Success\n",
      "Extracting perturbation 640/1000: chart_029_complex_line_gaussian_blur_medium.png\n",
      "    Success\n",
      "Extracting perturbation 641/1000: chart_017_advanced_line_legend_corruption_medium.png\n",
      "    Success\n",
      "Extracting perturbation 642/1000: chart_111_medium_bar_random_blocks_medium.png\n",
      "    Success\n",
      "Extracting perturbation 643/1000: chart_066_complex_bar_legend_corruption_medium.png\n",
      "    Success\n",
      "Extracting perturbation 644/1000: chart_142_medium_bar_rotation_medium.png\n",
      "    Success\n",
      "Extracting perturbation 645/1000: chart_183_advanced_scatter_rotation_medium.png\n",
      "    Success\n",
      "Extracting perturbation 646/1000: chart_176_advanced_bar_gaussian_blur_medium.png\n",
      "    Success\n",
      "Extracting perturbation 647/1000: chart_059_medium_bar_legend_corruption_medium.png\n",
      "    Success\n",
      "Extracting perturbation 648/1000: chart_016_medium_scatter_rotation_medium.png\n",
      "    Success\n",
      "Extracting perturbation 649/1000: chart_091_medium_bar_brightness_shift_medium.png\n",
      "    Success\n",
      "Extracting perturbation 650/1000: chart_057_advanced_area_gaussian_blur_medium.png\n",
      "    Success\n",
      "    Progress: 847 total extractions, $25.41 spent, $69.59 remaining\n",
      "Extracting perturbation 651/1000: chart_195_advanced_line_gaussian_blur_medium.png\n",
      "    Success\n",
      "Extracting perturbation 652/1000: chart_129_medium_scatter_gaussian_blur_medium.png\n",
      "    Success\n",
      "Extracting perturbation 653/1000: chart_100_complex_bar_gaussian_blur_medium.png\n",
      "    Success\n",
      "Extracting perturbation 654/1000: chart_107_medium_line_random_blocks_medium.png\n",
      "    Success\n",
      "Extracting perturbation 655/1000: chart_179_complex_line_rotation_medium.png\n",
      "    Success\n",
      "Extracting perturbation 656/1000: chart_178_advanced_line_random_blocks_medium.png\n",
      "    Success\n",
      "Extracting perturbation 657/1000: chart_051_medium_line_random_blocks_medium.png\n",
      "    Success\n",
      "Extracting perturbation 658/1000: chart_054_advanced_bar_brightness_shift_medium.png\n",
      "    Success\n",
      "Extracting perturbation 659/1000: chart_093_complex_bar_brightness_shift_medium.png\n",
      "    Success\n",
      "Extracting perturbation 660/1000: chart_172_advanced_area_random_blocks_medium.png\n",
      "    Success\n",
      "Extracting perturbation 661/1000: chart_033_advanced_area_legend_corruption_medium.png\n",
      "    Success\n",
      "Extracting perturbation 662/1000: chart_092_complex_scatter_gaussian_blur_medium.png\n",
      "    Success\n",
      "Extracting perturbation 663/1000: chart_183_advanced_scatter_brightness_shift_medium.png\n",
      "    Success\n",
      "Extracting perturbation 664/1000: chart_088_complex_bar_gaussian_blur_medium.png\n",
      "    Success\n",
      "Extracting perturbation 665/1000: chart_104_medium_line_gaussian_blur_medium.png\n",
      "    Success\n",
      "Extracting perturbation 666/1000: chart_126_complex_scatter_legend_corruption_medium.png\n",
      "    Success\n",
      "Extracting perturbation 667/1000: chart_091_medium_bar_random_blocks_medium.png\n",
      "    Success\n",
      "Extracting perturbation 668/1000: chart_065_advanced_bar_rotation_medium.png\n",
      "    Success\n",
      "Extracting perturbation 669/1000: chart_200_advanced_pie_rotation_medium.png\n",
      "    Success\n",
      "Extracting perturbation 670/1000: chart_115_complex_area_legend_corruption_medium.png\n",
      "    Success\n",
      "Extracting perturbation 671/1000: chart_109_advanced_line_random_blocks_medium.png\n",
      "    Success\n",
      "Extracting perturbation 672/1000: chart_136_complex_bar_random_blocks_medium.png\n",
      "    Success\n",
      "Extracting perturbation 673/1000: chart_028_medium_scatter_gaussian_blur_medium.png\n",
      "    Success\n",
      "Extracting perturbation 674/1000: chart_094_medium_scatter_legend_corruption_medium.png\n",
      "    Success\n",
      "Extracting perturbation 675/1000: chart_025_medium_scatter_rotation_medium.png\n",
      "    Success\n",
      "    Progress: 872 total extractions, $26.16 spent, $68.84 remaining\n",
      "Extracting perturbation 676/1000: chart_172_advanced_area_legend_corruption_medium.png\n",
      "    Success\n",
      "Extracting perturbation 677/1000: chart_115_complex_area_brightness_shift_medium.png\n",
      "    Success\n",
      "Extracting perturbation 678/1000: chart_011_advanced_scatter_gaussian_blur_medium.png\n",
      "    Success\n",
      "Extracting perturbation 679/1000: chart_096_advanced_pie_brightness_shift_medium.png\n",
      "    Success\n",
      "Extracting perturbation 680/1000: chart_107_medium_line_brightness_shift_medium.png\n",
      "    Success\n",
      "Extracting perturbation 681/1000: chart_037_advanced_scatter_brightness_shift_medium.png\n",
      "    Success\n",
      "Extracting perturbation 682/1000: chart_045_medium_area_rotation_medium.png\n",
      "    Success\n",
      "Extracting perturbation 683/1000: chart_088_complex_bar_brightness_shift_medium.png\n",
      "    Success\n",
      "Extracting perturbation 684/1000: chart_184_advanced_bar_random_blocks_medium.png\n",
      "    Success\n",
      "Extracting perturbation 685/1000: chart_002_medium_bar_brightness_shift_medium.png\n",
      "    Success\n",
      "Extracting perturbation 686/1000: chart_135_complex_bar_gaussian_blur_medium.png\n",
      "    Success\n",
      "Extracting perturbation 687/1000: chart_174_medium_scatter_random_blocks_medium.png\n",
      "    Success\n",
      "Extracting perturbation 688/1000: chart_050_complex_bar_rotation_medium.png\n",
      "    Success\n",
      "Extracting perturbation 689/1000: chart_161_complex_bar_legend_corruption_medium.png\n",
      "    Success\n",
      "Extracting perturbation 690/1000: chart_102_medium_line_gaussian_blur_medium.png\n",
      "    Success\n",
      "Extracting perturbation 691/1000: chart_079_complex_bar_random_blocks_medium.png\n"
     ]
    },
    {
     "name": "stderr",
     "output_type": "stream",
     "text": [
      "Could not parse JSON from response: I'm unable to extract data from the image directly. However, I can help guide you on how to manually extract the data or use tools that can assist with this task. If you have any questions or need fur...\n"
     ]
    },
    {
     "name": "stdout",
     "output_type": "stream",
     "text": [
      "    Success\n",
      "Extracting perturbation 692/1000: chart_040_medium_line_rotation_medium.png\n",
      "    Success\n",
      "Extracting perturbation 693/1000: chart_118_complex_bar_rotation_medium.png\n",
      "    Success\n",
      "Extracting perturbation 694/1000: chart_129_medium_scatter_rotation_medium.png\n",
      "    Success\n",
      "Extracting perturbation 695/1000: chart_085_medium_pie_rotation_medium.png\n",
      "    Success\n",
      "Extracting perturbation 696/1000: chart_094_medium_scatter_gaussian_blur_medium.png\n",
      "    Success\n",
      "Extracting perturbation 697/1000: chart_192_complex_scatter_rotation_medium.png\n",
      "    Success\n",
      "Extracting perturbation 698/1000: chart_126_complex_scatter_brightness_shift_medium.png\n",
      "    Success\n",
      "Extracting perturbation 699/1000: chart_098_complex_area_gaussian_blur_medium.png\n",
      "    Success\n",
      "Extracting perturbation 700/1000: chart_189_complex_bar_random_blocks_medium.png\n"
     ]
    },
    {
     "name": "stderr",
     "output_type": "stream",
     "text": [
      "Could not parse JSON from response: I'm unable to process the image directly. However, you can use OCR tools or data extraction software to extract the data from the chart. If you provide the extracted text or data, I can help you forma...\n"
     ]
    },
    {
     "name": "stdout",
     "output_type": "stream",
     "text": [
      "    Success\n",
      "    Progress: 897 total extractions, $26.91 spent, $68.09 remaining\n",
      "Extracting perturbation 701/1000: chart_010_complex_bar_legend_corruption_medium.png\n",
      "    Success\n",
      "Extracting perturbation 702/1000: chart_169_advanced_line_gaussian_blur_medium.png\n",
      "    Success\n",
      "Extracting perturbation 703/1000: chart_031_complex_scatter_brightness_shift_medium.png\n",
      "    Success\n",
      "Extracting perturbation 704/1000: chart_041_advanced_bar_random_blocks_medium.png\n",
      "    Success\n",
      "Extracting perturbation 705/1000: chart_047_medium_bar_brightness_shift_medium.png\n",
      "    Success\n",
      "Extracting perturbation 706/1000: chart_064_advanced_bar_legend_corruption_medium.png\n",
      "    Success\n",
      "Extracting perturbation 707/1000: chart_138_medium_line_random_blocks_medium.png\n",
      "    Success\n",
      "Extracting perturbation 708/1000: chart_200_advanced_pie_brightness_shift_medium.png\n",
      "    Success\n",
      "Extracting perturbation 709/1000: chart_020_complex_line_brightness_shift_medium.png\n",
      "    Success\n",
      "Extracting perturbation 710/1000: chart_069_complex_pie_random_blocks_medium.png\n",
      "    Success\n",
      "Extracting perturbation 711/1000: chart_198_medium_line_brightness_shift_medium.png\n",
      "    Success\n",
      "Extracting perturbation 712/1000: chart_130_medium_bar_random_blocks_medium.png\n",
      "    Success\n",
      "Extracting perturbation 713/1000: chart_152_complex_pie_random_blocks_medium.png\n",
      "    Success\n",
      "Extracting perturbation 714/1000: chart_106_complex_pie_legend_corruption_medium.png\n",
      "    Success\n",
      "Extracting perturbation 715/1000: chart_059_medium_bar_brightness_shift_medium.png\n",
      "    Success\n",
      "Extracting perturbation 716/1000: chart_018_advanced_bar_gaussian_blur_medium.png\n",
      "    Success\n",
      "Extracting perturbation 717/1000: chart_135_complex_bar_rotation_medium.png\n",
      "    Success\n",
      "Extracting perturbation 718/1000: chart_035_medium_bar_random_blocks_medium.png\n",
      "    Success\n",
      "Extracting perturbation 719/1000: chart_097_advanced_scatter_rotation_medium.png\n",
      "    Success\n",
      "Extracting perturbation 720/1000: chart_157_complex_line_random_blocks_medium.png\n",
      "    Success\n",
      "Extracting perturbation 721/1000: chart_193_complex_line_legend_corruption_medium.png\n",
      "    Success\n",
      "Extracting perturbation 722/1000: chart_200_advanced_pie_legend_corruption_medium.png\n",
      "    Success\n",
      "Extracting perturbation 723/1000: chart_145_medium_scatter_random_blocks_medium.png\n",
      "    Success\n",
      "Extracting perturbation 724/1000: chart_177_medium_bar_rotation_medium.png\n",
      "    Success\n",
      "Extracting perturbation 725/1000: chart_096_advanced_pie_gaussian_blur_medium.png\n",
      "    Success\n",
      "    Progress: 922 total extractions, $27.66 spent, $67.34 remaining\n",
      "Extracting perturbation 726/1000: chart_066_complex_bar_rotation_medium.png\n",
      "    Success\n",
      "Extracting perturbation 727/1000: chart_135_complex_bar_brightness_shift_medium.png\n",
      "    Success\n",
      "Extracting perturbation 728/1000: chart_125_complex_pie_gaussian_blur_medium.png\n",
      "    Success\n",
      "Extracting perturbation 729/1000: chart_119_advanced_line_random_blocks_medium.png\n",
      "    Success\n",
      "Extracting perturbation 730/1000: chart_174_medium_scatter_legend_corruption_medium.png\n",
      "    Success\n",
      "Extracting perturbation 731/1000: chart_172_advanced_area_rotation_medium.png\n",
      "    Success\n",
      "Extracting perturbation 732/1000: chart_059_medium_bar_random_blocks_medium.png\n",
      "    Success\n",
      "Extracting perturbation 733/1000: chart_063_complex_bar_gaussian_blur_medium.png\n",
      "    Success\n",
      "Extracting perturbation 734/1000: chart_001_complex_bar_brightness_shift_medium.png\n",
      "    Success\n",
      "Extracting perturbation 735/1000: chart_113_medium_bar_gaussian_blur_medium.png\n",
      "    Success\n",
      "Extracting perturbation 736/1000: chart_084_complex_bar_brightness_shift_medium.png\n",
      "    Success\n",
      "Extracting perturbation 737/1000: chart_062_medium_bar_random_blocks_medium.png\n",
      "    Success\n",
      "Extracting perturbation 738/1000: chart_117_complex_bar_legend_corruption_medium.png\n",
      "    Success\n",
      "Extracting perturbation 739/1000: chart_127_advanced_scatter_brightness_shift_medium.png\n",
      "    Success\n",
      "Extracting perturbation 740/1000: chart_036_complex_bar_random_blocks_medium.png\n",
      "    Success\n",
      "Extracting perturbation 741/1000: chart_139_advanced_scatter_random_blocks_medium.png\n",
      "    Success\n",
      "Extracting perturbation 742/1000: chart_078_medium_area_random_blocks_medium.png\n",
      "    Success\n",
      "Extracting perturbation 743/1000: chart_153_advanced_scatter_legend_corruption_medium.png\n",
      "    Success\n",
      "Extracting perturbation 744/1000: chart_087_complex_line_brightness_shift_medium.png\n",
      "    Success\n",
      "Extracting perturbation 745/1000: chart_040_medium_line_gaussian_blur_medium.png\n",
      "    Success\n",
      "Extracting perturbation 746/1000: chart_189_complex_bar_rotation_medium.png\n",
      "    Success\n",
      "Extracting perturbation 747/1000: chart_186_complex_pie_legend_corruption_medium.png\n",
      "    Success\n",
      "Extracting perturbation 748/1000: chart_061_medium_bar_legend_corruption_medium.png\n",
      "    Success\n",
      "Extracting perturbation 749/1000: chart_143_complex_bar_random_blocks_medium.png\n",
      "    Success\n",
      "Extracting perturbation 750/1000: chart_083_complex_bar_legend_corruption_medium.png\n",
      "    Success\n",
      "    Progress: 947 total extractions, $28.41 spent, $66.59 remaining\n",
      "Extracting perturbation 751/1000: chart_067_advanced_line_rotation_medium.png\n",
      "    Success\n",
      "Extracting perturbation 752/1000: chart_084_complex_bar_random_blocks_medium.png\n",
      "    Success\n",
      "Extracting perturbation 753/1000: chart_172_advanced_area_gaussian_blur_medium.png\n",
      "    Success\n",
      "Extracting perturbation 754/1000: chart_064_advanced_bar_gaussian_blur_medium.png\n",
      "    Success\n",
      "Extracting perturbation 755/1000: chart_104_medium_line_rotation_medium.png\n",
      "    Success\n",
      "Extracting perturbation 756/1000: chart_194_medium_pie_brightness_shift_medium.png\n",
      "    Success\n",
      "Extracting perturbation 757/1000: chart_148_medium_pie_legend_corruption_medium.png\n",
      "    Success\n",
      "Extracting perturbation 758/1000: chart_026_medium_bar_legend_corruption_medium.png\n",
      "    Success\n",
      "Extracting perturbation 759/1000: chart_186_complex_pie_brightness_shift_medium.png\n",
      "    Success\n",
      "Extracting perturbation 760/1000: chart_158_advanced_pie_gaussian_blur_medium.png\n",
      "    Success\n",
      "Extracting perturbation 761/1000: chart_128_medium_line_random_blocks_medium.png\n",
      "    Success\n",
      "Extracting perturbation 762/1000: chart_068_medium_line_random_blocks_medium.png\n",
      "    Success\n",
      "Extracting perturbation 763/1000: chart_137_complex_bar_brightness_shift_medium.png\n",
      "    Success\n",
      "Extracting perturbation 764/1000: chart_162_medium_line_random_blocks_medium.png\n",
      "    Success\n",
      "Extracting perturbation 765/1000: chart_089_medium_pie_gaussian_blur_medium.png\n",
      "    Success\n",
      "Extracting perturbation 766/1000: chart_075_medium_bar_legend_corruption_medium.png\n",
      "    Success\n",
      "Extracting perturbation 767/1000: chart_041_advanced_bar_gaussian_blur_medium.png\n",
      "    Success\n",
      "Extracting perturbation 768/1000: chart_138_medium_line_gaussian_blur_medium.png\n",
      "    Success\n",
      "Extracting perturbation 769/1000: chart_168_complex_scatter_rotation_medium.png\n",
      "    Success\n",
      "Extracting perturbation 770/1000: chart_178_advanced_line_brightness_shift_medium.png\n",
      "    Success\n",
      "Extracting perturbation 771/1000: chart_148_medium_pie_gaussian_blur_medium.png\n",
      "    Success\n",
      "Extracting perturbation 772/1000: chart_182_complex_bar_legend_corruption_medium.png\n",
      "    Success\n",
      "Extracting perturbation 773/1000: chart_111_medium_bar_gaussian_blur_medium.png\n",
      "    Success\n",
      "Extracting perturbation 774/1000: chart_107_medium_line_legend_corruption_medium.png\n",
      "    Success\n",
      "Extracting perturbation 775/1000: chart_001_complex_bar_gaussian_blur_medium.png\n",
      "    Success\n",
      "    Progress: 972 total extractions, $29.16 spent, $65.84 remaining\n",
      "Extracting perturbation 776/1000: chart_158_advanced_pie_brightness_shift_medium.png\n",
      "    Success\n",
      "Extracting perturbation 777/1000: chart_146_medium_scatter_brightness_shift_medium.png\n",
      "    Success\n",
      "Extracting perturbation 778/1000: chart_179_complex_line_random_blocks_medium.png\n",
      "    Success\n",
      "Extracting perturbation 779/1000: chart_053_complex_bar_brightness_shift_medium.png\n",
      "    Success\n",
      "Extracting perturbation 780/1000: chart_039_medium_line_rotation_medium.png\n",
      "    Success\n",
      "Extracting perturbation 781/1000: chart_119_advanced_line_brightness_shift_medium.png\n",
      "    Success\n",
      "Extracting perturbation 782/1000: chart_079_complex_bar_rotation_medium.png\n",
      "    Success\n",
      "Extracting perturbation 783/1000: chart_160_advanced_pie_legend_corruption_medium.png\n",
      "    Success\n",
      "Extracting perturbation 784/1000: chart_105_complex_area_random_blocks_medium.png\n",
      "    Success\n",
      "Extracting perturbation 785/1000: chart_125_complex_pie_brightness_shift_medium.png\n",
      "    Success\n",
      "Extracting perturbation 786/1000: chart_090_advanced_scatter_gaussian_blur_medium.png\n",
      "    Success\n",
      "Extracting perturbation 787/1000: chart_195_advanced_line_legend_corruption_medium.png\n",
      "    Success\n",
      "Extracting perturbation 788/1000: chart_150_medium_bar_gaussian_blur_medium.png\n",
      "    Success\n",
      "Extracting perturbation 789/1000: chart_071_advanced_bar_random_blocks_medium.png\n",
      "    Success\n",
      "Extracting perturbation 790/1000: chart_089_medium_pie_rotation_medium.png\n",
      "    Success\n",
      "Extracting perturbation 791/1000: chart_123_medium_line_brightness_shift_medium.png\n",
      "    Success\n",
      "Extracting perturbation 792/1000: chart_023_complex_line_gaussian_blur_medium.png\n",
      "    Success\n",
      "Extracting perturbation 793/1000: chart_165_complex_bar_rotation_medium.png\n",
      "    Success\n",
      "Extracting perturbation 794/1000: chart_190_complex_area_rotation_medium.png\n",
      "    Success\n",
      "Extracting perturbation 795/1000: chart_119_advanced_line_rotation_medium.png\n",
      "    Success\n",
      "Extracting perturbation 796/1000: chart_037_advanced_scatter_legend_corruption_medium.png\n",
      "    Success\n",
      "Extracting perturbation 797/1000: chart_196_medium_line_gaussian_blur_medium.png\n",
      "    Success\n",
      "Extracting perturbation 798/1000: chart_185_advanced_bar_brightness_shift_medium.png\n",
      "    Success\n",
      "Extracting perturbation 799/1000: chart_006_medium_bar_random_blocks_medium.png\n",
      "    Success\n",
      "Extracting perturbation 800/1000: chart_068_medium_line_rotation_medium.png\n",
      "    Success\n",
      "    Progress: 997 total extractions, $29.91 spent, $65.09 remaining\n",
      "Extracting perturbation 801/1000: chart_110_complex_bar_rotation_medium.png\n",
      "    Success\n",
      "Extracting perturbation 802/1000: chart_140_medium_bar_brightness_shift_medium.png\n",
      "    Success\n",
      "Extracting perturbation 803/1000: chart_082_complex_area_rotation_medium.png\n",
      "    Success\n",
      "Extracting perturbation 804/1000: chart_105_complex_area_gaussian_blur_medium.png\n",
      "    Success\n",
      "Extracting perturbation 805/1000: chart_132_complex_line_gaussian_blur_medium.png\n",
      "    Success\n",
      "Extracting perturbation 806/1000: chart_072_advanced_scatter_rotation_medium.png\n",
      "    Success\n",
      "Extracting perturbation 807/1000: chart_162_medium_line_rotation_medium.png\n",
      "    Success\n",
      "Extracting perturbation 808/1000: chart_159_medium_area_gaussian_blur_medium.png\n",
      "    Success\n",
      "Extracting perturbation 809/1000: chart_015_advanced_pie_gaussian_blur_medium.png\n",
      "    Success\n",
      "Extracting perturbation 810/1000: chart_058_complex_bar_brightness_shift_medium.png\n",
      "    Success\n",
      "Extracting perturbation 811/1000: chart_068_medium_line_gaussian_blur_medium.png\n",
      "    Success\n",
      "Extracting perturbation 812/1000: chart_082_complex_area_random_blocks_medium.png\n",
      "    Success\n",
      "Extracting perturbation 813/1000: chart_040_medium_line_legend_corruption_medium.png\n",
      "    Success\n",
      "Extracting perturbation 814/1000: chart_136_complex_bar_brightness_shift_medium.png\n",
      "    Success\n",
      "Extracting perturbation 815/1000: chart_005_complex_bar_rotation_medium.png\n",
      "    Success\n",
      "Extracting perturbation 816/1000: chart_046_medium_line_random_blocks_medium.png\n"
     ]
    },
    {
     "name": "stderr",
     "output_type": "stream",
     "text": [
      "Could not parse JSON from response: I'm unable to extract data from the image directly. However, I can guide you on how to manually extract the data using tools like OCR software or by visually inspecting the chart. If you have any ques...\n"
     ]
    },
    {
     "name": "stdout",
     "output_type": "stream",
     "text": [
      "    Success\n",
      "Extracting perturbation 817/1000: chart_047_medium_bar_random_blocks_medium.png\n",
      "    Success\n",
      "Extracting perturbation 818/1000: chart_163_medium_bar_rotation_medium.png\n",
      "    Success\n",
      "Extracting perturbation 819/1000: chart_063_complex_bar_legend_corruption_medium.png\n",
      "    Success\n",
      "Extracting perturbation 820/1000: chart_072_advanced_scatter_random_blocks_medium.png\n",
      "    Success\n",
      "Extracting perturbation 821/1000: chart_095_complex_area_gaussian_blur_medium.png\n",
      "    Success\n",
      "Extracting perturbation 822/1000: chart_041_advanced_bar_rotation_medium.png\n",
      "    Success\n",
      "Extracting perturbation 823/1000: chart_046_medium_line_legend_corruption_medium.png\n",
      "    Success\n",
      "Extracting perturbation 824/1000: chart_097_advanced_scatter_gaussian_blur_medium.png\n",
      "    Success\n",
      "Extracting perturbation 825/1000: chart_008_advanced_pie_rotation_medium.png\n",
      "    Success\n",
      "    Progress: 1022 total extractions, $30.66 spent, $64.34 remaining\n",
      "Extracting perturbation 826/1000: chart_079_complex_bar_gaussian_blur_medium.png\n",
      "    Success\n",
      "Extracting perturbation 827/1000: chart_023_complex_line_brightness_shift_medium.png\n",
      "    Success\n",
      "Extracting perturbation 828/1000: chart_144_medium_bar_random_blocks_medium.png\n",
      "    Success\n",
      "Extracting perturbation 829/1000: chart_162_medium_line_gaussian_blur_medium.png\n",
      "    Success\n",
      "Extracting perturbation 830/1000: chart_033_advanced_area_random_blocks_medium.png\n",
      "    Success\n",
      "Extracting perturbation 831/1000: chart_055_medium_pie_random_blocks_medium.png\n",
      "    Success\n",
      "Extracting perturbation 832/1000: chart_051_medium_line_rotation_medium.png\n",
      "    Success\n",
      "Extracting perturbation 833/1000: chart_169_advanced_line_rotation_medium.png\n",
      "    Success\n",
      "Extracting perturbation 834/1000: chart_151_complex_line_legend_corruption_medium.png\n",
      "    Success\n",
      "Extracting perturbation 835/1000: chart_195_advanced_line_rotation_medium.png\n",
      "    Success\n",
      "Extracting perturbation 836/1000: chart_165_complex_bar_gaussian_blur_medium.png\n",
      "    Success\n",
      "Extracting perturbation 837/1000: chart_085_medium_pie_gaussian_blur_medium.png\n",
      "    Success\n",
      "Extracting perturbation 838/1000: chart_161_complex_bar_gaussian_blur_medium.png\n",
      "    Success\n",
      "Extracting perturbation 839/1000: chart_069_complex_pie_brightness_shift_medium.png\n",
      "    Success\n",
      "Extracting perturbation 840/1000: chart_151_complex_line_rotation_medium.png\n",
      "    Success\n",
      "Extracting perturbation 841/1000: chart_037_advanced_scatter_random_blocks_medium.png\n",
      "    Success\n",
      "Extracting perturbation 842/1000: chart_006_medium_bar_brightness_shift_medium.png\n",
      "    Success\n",
      "Extracting perturbation 843/1000: chart_085_medium_pie_legend_corruption_medium.png\n",
      "    Success\n",
      "Extracting perturbation 844/1000: chart_037_advanced_scatter_gaussian_blur_medium.png\n",
      "    Success\n",
      "Extracting perturbation 845/1000: chart_167_complex_bar_brightness_shift_medium.png\n",
      "    Success\n",
      "Extracting perturbation 846/1000: chart_164_complex_line_rotation_medium.png\n",
      "    Success\n",
      "Extracting perturbation 847/1000: chart_034_medium_pie_gaussian_blur_medium.png\n",
      "    Success\n",
      "Extracting perturbation 848/1000: chart_049_medium_bar_legend_corruption_medium.png\n",
      "    Success\n",
      "Extracting perturbation 849/1000: chart_032_complex_area_random_blocks_medium.png\n"
     ]
    },
    {
     "name": "stderr",
     "output_type": "stream",
     "text": [
      "Could not parse JSON from response: I'm unable to extract data from the image provided. The image contains obfuscations that prevent accurate data extraction. If you have a clearer version or can provide the data in another format, I'd ...\n"
     ]
    },
    {
     "name": "stdout",
     "output_type": "stream",
     "text": [
      "    Success\n",
      "Extracting perturbation 850/1000: chart_154_complex_line_legend_corruption_medium.png\n",
      "    Success\n",
      "    Progress: 1047 total extractions, $31.41 spent, $63.59 remaining\n",
      "Extracting perturbation 851/1000: chart_128_medium_line_brightness_shift_medium.png\n",
      "    Success\n",
      "Extracting perturbation 852/1000: chart_084_complex_bar_gaussian_blur_medium.png\n",
      "    Success\n",
      "Extracting perturbation 853/1000: chart_115_complex_area_random_blocks_medium.png\n",
      "    Success\n",
      "Extracting perturbation 854/1000: chart_160_advanced_pie_random_blocks_medium.png\n",
      "    Success\n",
      "Extracting perturbation 855/1000: chart_073_medium_scatter_legend_corruption_medium.png\n",
      "    Success\n",
      "Extracting perturbation 856/1000: chart_022_complex_scatter_brightness_shift_medium.png\n",
      "    Success\n",
      "Extracting perturbation 857/1000: chart_137_complex_bar_legend_corruption_medium.png\n",
      "    Success\n",
      "Extracting perturbation 858/1000: chart_052_complex_bar_brightness_shift_medium.png\n",
      "    Success\n",
      "Extracting perturbation 859/1000: chart_140_medium_bar_random_blocks_medium.png\n",
      "    Success\n",
      "Extracting perturbation 860/1000: chart_184_advanced_bar_rotation_medium.png\n",
      "    Success\n",
      "Extracting perturbation 861/1000: chart_074_advanced_line_gaussian_blur_medium.png\n",
      "    Success\n",
      "Extracting perturbation 862/1000: chart_198_medium_line_gaussian_blur_medium.png\n",
      "    Success\n",
      "Extracting perturbation 863/1000: chart_164_complex_line_brightness_shift_medium.png\n",
      "    Success\n",
      "Extracting perturbation 864/1000: chart_075_medium_bar_random_blocks_medium.png\n",
      "    Success\n",
      "Extracting perturbation 865/1000: chart_064_advanced_bar_brightness_shift_medium.png\n",
      "    Success\n",
      "Extracting perturbation 866/1000: chart_009_medium_bar_legend_corruption_medium.png\n",
      "    Success\n",
      "Extracting perturbation 867/1000: chart_027_complex_bar_brightness_shift_medium.png\n",
      "    Success\n",
      "Extracting perturbation 868/1000: chart_089_medium_pie_brightness_shift_medium.png\n",
      "    Success\n",
      "Extracting perturbation 869/1000: chart_031_complex_scatter_gaussian_blur_medium.png\n",
      "    Success\n",
      "Extracting perturbation 870/1000: chart_114_advanced_bar_brightness_shift_medium.png\n"
     ]
    },
    {
     "name": "stderr",
     "output_type": "stream",
     "text": [
      "API attempt 1 failed for data\\perturbations\\chart_114_advanced_bar_brightness_shift_medium.png: Request timed out.\n"
     ]
    },
    {
     "name": "stdout",
     "output_type": "stream",
     "text": [
      "    Success\n",
      "Extracting perturbation 871/1000: chart_120_medium_line_gaussian_blur_medium.png\n",
      "    Success\n",
      "Extracting perturbation 872/1000: chart_189_complex_bar_legend_corruption_medium.png\n",
      "    Success\n",
      "Extracting perturbation 873/1000: chart_171_medium_bar_rotation_medium.png\n",
      "    Success\n",
      "Extracting perturbation 874/1000: chart_008_advanced_pie_gaussian_blur_medium.png\n",
      "    Success\n",
      "Extracting perturbation 875/1000: chart_112_medium_scatter_random_blocks_medium.png\n",
      "    Success\n",
      "    Progress: 1072 total extractions, $32.16 spent, $62.84 remaining\n",
      "Extracting perturbation 876/1000: chart_031_complex_scatter_legend_corruption_medium.png\n",
      "    Success\n",
      "Extracting perturbation 877/1000: chart_142_medium_bar_legend_corruption_medium.png\n",
      "    Success\n",
      "Extracting perturbation 878/1000: chart_016_medium_scatter_legend_corruption_medium.png\n",
      "    Success\n",
      "Extracting perturbation 879/1000: chart_023_complex_line_rotation_medium.png\n",
      "    Success\n",
      "Extracting perturbation 880/1000: chart_193_complex_line_brightness_shift_medium.png\n",
      "    Success\n",
      "Extracting perturbation 881/1000: chart_115_complex_area_rotation_medium.png\n",
      "    Success\n",
      "Extracting perturbation 882/1000: chart_088_complex_bar_legend_corruption_medium.png\n",
      "    Success\n",
      "Extracting perturbation 883/1000: chart_145_medium_scatter_legend_corruption_medium.png\n",
      "    Success\n",
      "Extracting perturbation 884/1000: chart_113_medium_bar_rotation_medium.png\n",
      "    Success\n",
      "Extracting perturbation 885/1000: chart_091_medium_bar_legend_corruption_medium.png\n",
      "    Success\n",
      "Extracting perturbation 886/1000: chart_152_complex_pie_rotation_medium.png\n",
      "    Success\n",
      "Extracting perturbation 887/1000: chart_034_medium_pie_brightness_shift_medium.png\n",
      "    Success\n",
      "Extracting perturbation 888/1000: chart_054_advanced_bar_random_blocks_medium.png\n",
      "    Success\n",
      "Extracting perturbation 889/1000: chart_131_complex_line_legend_corruption_medium.png\n",
      "    Success\n",
      "Extracting perturbation 890/1000: chart_027_complex_bar_random_blocks_medium.png\n",
      "    Success\n",
      "Extracting perturbation 891/1000: chart_158_advanced_pie_rotation_medium.png\n",
      "    Success\n",
      "Extracting perturbation 892/1000: chart_069_complex_pie_gaussian_blur_medium.png\n",
      "    Success\n",
      "Extracting perturbation 893/1000: chart_001_complex_bar_random_blocks_medium.png\n"
     ]
    },
    {
     "name": "stderr",
     "output_type": "stream",
     "text": [
      "Could not parse JSON from response: I'm unable to view or analyze the content of images directly. However, I can guide you on how to extract data from a chart manually or using tools like OCR software. If you have any questions or need ...\n"
     ]
    },
    {
     "name": "stdout",
     "output_type": "stream",
     "text": [
      "    Success\n",
      "Extracting perturbation 894/1000: chart_010_complex_bar_brightness_shift_medium.png\n",
      "    Success\n",
      "Extracting perturbation 895/1000: chart_057_advanced_area_random_blocks_medium.png\n"
     ]
    },
    {
     "name": "stderr",
     "output_type": "stream",
     "text": [
      "Could not parse JSON from response: I'm unable to extract data from the image directly. However, I can guide you on how to manually extract the data using an image editing tool or software that supports OCR (Optical Character Recognitio...\n",
      "Could not parse JSON from response: I'm unable to extract data from the image provided....\n"
     ]
    },
    {
     "name": "stdout",
     "output_type": "stream",
     "text": [
      "    Success\n",
      "Extracting perturbation 896/1000: chart_170_advanced_pie_rotation_medium.png\n",
      "    Success\n",
      "Extracting perturbation 897/1000: chart_087_complex_line_random_blocks_medium.png\n",
      "    Success\n",
      "Extracting perturbation 898/1000: chart_182_complex_bar_gaussian_blur_medium.png\n",
      "    Success\n",
      "Extracting perturbation 899/1000: chart_019_complex_bar_rotation_medium.png\n",
      "    Success\n",
      "Extracting perturbation 900/1000: chart_011_advanced_scatter_legend_corruption_medium.png\n",
      "    Success\n",
      "    Progress: 1097 total extractions, $32.91 spent, $62.09 remaining\n",
      "Extracting perturbation 901/1000: chart_174_medium_scatter_gaussian_blur_medium.png\n",
      "    Success\n",
      "Extracting perturbation 902/1000: chart_052_complex_bar_legend_corruption_medium.png\n",
      "    Success\n",
      "Extracting perturbation 903/1000: chart_101_medium_bar_brightness_shift_medium.png\n",
      "    Success\n",
      "Extracting perturbation 904/1000: chart_104_medium_line_legend_corruption_medium.png\n",
      "    Success\n",
      "Extracting perturbation 905/1000: chart_185_advanced_bar_gaussian_blur_medium.png\n",
      "    Success\n",
      "Extracting perturbation 906/1000: chart_175_complex_line_random_blocks_medium.png\n",
      "    Success\n",
      "Extracting perturbation 907/1000: chart_130_medium_bar_rotation_medium.png\n",
      "    Success\n",
      "Extracting perturbation 908/1000: chart_141_medium_bar_random_blocks_medium.png\n",
      "    Success\n",
      "Extracting perturbation 909/1000: chart_042_complex_scatter_random_blocks_medium.png\n",
      "    Success\n",
      "Extracting perturbation 910/1000: chart_071_advanced_bar_gaussian_blur_medium.png\n",
      "    Success\n",
      "Extracting perturbation 911/1000: chart_147_complex_line_rotation_medium.png\n"
     ]
    },
    {
     "name": "stderr",
     "output_type": "stream",
     "text": [
      "Could not parse JSON from response: I'm unable to extract data from images directly. However, I can guide you on how to manually extract the data from the chart. Here's a template you can use to fill in the data:\n",
      "\n",
      "```json\n",
      "{\n",
      "  \"chart_tit...\n",
      "Could not parse JSON from response: I'm unable to extract data directly from images. However, I can guide you on how to manually extract the data from the chart:\n",
      "\n",
      "1. **Chart Title**: \"Economic Indicators - (Financial Analysis)\"\n",
      "2. **Cha...\n",
      "Could not parse JSON from response: I'm unable to extract data from images directly. However, I can guide you on how to manually extract the data from the chart. Here's a general approach:\n",
      "\n",
      "1. **Identify the Chart Type**: This is a line...\n",
      "Extraction failed for data\\perturbations\\chart_147_complex_line_rotation_medium.png: All retry attempts exhausted\n"
     ]
    },
    {
     "name": "stdout",
     "output_type": "stream",
     "text": [
      "    Failed\n",
      "Extracting perturbation 912/1000: chart_044_complex_scatter_brightness_shift_medium.png\n",
      "    Success\n",
      "Extracting perturbation 913/1000: chart_124_advanced_pie_rotation_medium.png\n",
      "    Success\n",
      "Extracting perturbation 914/1000: chart_058_complex_bar_random_blocks_medium.png\n",
      "    Success\n",
      "Extracting perturbation 915/1000: chart_056_advanced_area_random_blocks_medium.png\n",
      "    Success\n",
      "Extracting perturbation 916/1000: chart_032_complex_area_rotation_medium.png\n",
      "    Success\n",
      "Extracting perturbation 917/1000: chart_114_advanced_bar_gaussian_blur_medium.png\n",
      "    Success\n",
      "Extracting perturbation 918/1000: chart_153_advanced_scatter_brightness_shift_medium.png\n",
      "    Success\n",
      "Extracting perturbation 919/1000: chart_022_complex_scatter_rotation_medium.png\n",
      "    Success\n",
      "Extracting perturbation 920/1000: chart_199_medium_line_gaussian_blur_medium.png\n",
      "    Success\n",
      "Extracting perturbation 921/1000: chart_024_advanced_scatter_random_blocks_medium.png\n",
      "    Success\n",
      "Extracting perturbation 922/1000: chart_055_medium_pie_brightness_shift_medium.png\n",
      "    Success\n",
      "Extracting perturbation 923/1000: chart_028_medium_scatter_legend_corruption_medium.png\n",
      "    Success\n",
      "Extracting perturbation 924/1000: chart_180_advanced_bar_rotation_medium.png\n",
      "    Success\n",
      "Extracting perturbation 925/1000: chart_022_complex_scatter_gaussian_blur_medium.png\n",
      "    Success\n",
      "    Progress: 1121 total extractions, $33.63 spent, $61.37 remaining\n",
      "Extracting perturbation 926/1000: chart_136_complex_bar_rotation_medium.png\n",
      "    Success\n",
      "Extracting perturbation 927/1000: chart_062_medium_bar_gaussian_blur_medium.png\n",
      "    Success\n",
      "Extracting perturbation 928/1000: chart_114_advanced_bar_legend_corruption_medium.png\n",
      "    Success\n",
      "Extracting perturbation 929/1000: chart_168_complex_scatter_gaussian_blur_medium.png\n",
      "    Success\n",
      "Extracting perturbation 930/1000: chart_137_complex_bar_random_blocks_medium.png\n",
      "    Success\n",
      "Extracting perturbation 931/1000: chart_002_medium_bar_random_blocks_medium.png\n",
      "    Success\n",
      "Extracting perturbation 932/1000: chart_109_advanced_line_gaussian_blur_medium.png\n",
      "    Success\n",
      "Extracting perturbation 933/1000: chart_134_complex_bar_rotation_medium.png\n",
      "    Success\n",
      "Extracting perturbation 934/1000: chart_166_advanced_scatter_gaussian_blur_medium.png\n",
      "    Success\n",
      "Extracting perturbation 935/1000: chart_126_complex_scatter_gaussian_blur_medium.png\n",
      "    Success\n",
      "Extracting perturbation 936/1000: chart_062_medium_bar_rotation_medium.png\n",
      "    Success\n",
      "Extracting perturbation 937/1000: chart_145_medium_scatter_brightness_shift_medium.png\n",
      "    Success\n",
      "Extracting perturbation 938/1000: chart_112_medium_scatter_gaussian_blur_medium.png\n",
      "    Success\n",
      "Extracting perturbation 939/1000: chart_171_medium_bar_random_blocks_medium.png\n",
      "    Success\n",
      "Extracting perturbation 940/1000: chart_090_advanced_scatter_random_blocks_medium.png\n",
      "    Success\n",
      "Extracting perturbation 941/1000: chart_033_advanced_area_gaussian_blur_medium.png\n",
      "    Success\n",
      "Extracting perturbation 942/1000: chart_059_medium_bar_gaussian_blur_medium.png\n",
      "    Success\n",
      "Extracting perturbation 943/1000: chart_076_advanced_bar_random_blocks_medium.png\n",
      "    Success\n",
      "Extracting perturbation 944/1000: chart_051_medium_line_brightness_shift_medium.png\n",
      "    Success\n",
      "Extracting perturbation 945/1000: chart_181_medium_pie_brightness_shift_medium.png\n",
      "    Success\n",
      "Extracting perturbation 946/1000: chart_015_advanced_pie_brightness_shift_medium.png\n",
      "    Success\n",
      "Extracting perturbation 947/1000: chart_181_medium_pie_legend_corruption_medium.png\n",
      "    Success\n",
      "Extracting perturbation 948/1000: chart_072_advanced_scatter_legend_corruption_medium.png\n",
      "    Success\n",
      "Extracting perturbation 949/1000: chart_028_medium_scatter_brightness_shift_medium.png\n",
      "    Success\n",
      "Extracting perturbation 950/1000: chart_195_advanced_line_brightness_shift_medium.png\n",
      "    Success\n",
      "    Progress: 1146 total extractions, $34.38 spent, $60.62 remaining\n",
      "Extracting perturbation 951/1000: chart_104_medium_line_random_blocks_medium.png\n",
      "    Success\n",
      "Extracting perturbation 952/1000: chart_044_complex_scatter_random_blocks_medium.png\n",
      "    Success\n",
      "Extracting perturbation 953/1000: chart_111_medium_bar_brightness_shift_medium.png\n",
      "    Success\n",
      "Extracting perturbation 954/1000: chart_016_medium_scatter_brightness_shift_medium.png\n",
      "    Success\n",
      "Extracting perturbation 955/1000: chart_021_medium_area_legend_corruption_medium.png\n",
      "    Success\n",
      "Extracting perturbation 956/1000: chart_116_medium_line_gaussian_blur_medium.png\n",
      "    Success\n",
      "Extracting perturbation 957/1000: chart_128_medium_line_gaussian_blur_medium.png\n",
      "    Success\n",
      "Extracting perturbation 958/1000: chart_094_medium_scatter_rotation_medium.png\n",
      "    Success\n",
      "Extracting perturbation 959/1000: chart_002_medium_bar_rotation_medium.png\n",
      "    Success\n",
      "Extracting perturbation 960/1000: chart_015_advanced_pie_rotation_medium.png\n",
      "    Success\n",
      "Extracting perturbation 961/1000: chart_192_complex_scatter_random_blocks_medium.png\n",
      "    Success\n",
      "Extracting perturbation 962/1000: chart_154_complex_line_rotation_medium.png\n",
      "    Success\n",
      "Extracting perturbation 963/1000: chart_191_medium_line_gaussian_blur_medium.png\n",
      "    Success\n",
      "Extracting perturbation 964/1000: chart_196_medium_line_random_blocks_medium.png\n",
      "    Success\n",
      "Extracting perturbation 965/1000: chart_094_medium_scatter_random_blocks_medium.png\n",
      "    Success\n",
      "Extracting perturbation 966/1000: chart_062_medium_bar_legend_corruption_medium.png\n",
      "    Success\n",
      "Extracting perturbation 967/1000: chart_133_complex_bar_brightness_shift_medium.png\n",
      "    Success\n",
      "Extracting perturbation 968/1000: chart_138_medium_line_legend_corruption_medium.png\n",
      "    Success\n",
      "Extracting perturbation 969/1000: chart_027_complex_bar_rotation_medium.png\n",
      "    Success\n",
      "Extracting perturbation 970/1000: chart_082_complex_area_brightness_shift_medium.png\n",
      "    Success\n",
      "Extracting perturbation 971/1000: chart_055_medium_pie_gaussian_blur_medium.png\n",
      "    Success\n",
      "Extracting perturbation 972/1000: chart_049_medium_bar_rotation_medium.png\n",
      "    Success\n",
      "Extracting perturbation 973/1000: chart_065_advanced_bar_gaussian_blur_medium.png\n",
      "    Success\n",
      "Extracting perturbation 974/1000: chart_147_complex_line_random_blocks_medium.png\n",
      "    Success\n",
      "Extracting perturbation 975/1000: chart_138_medium_line_brightness_shift_medium.png\n",
      "    Success\n",
      "    Progress: 1171 total extractions, $35.13 spent, $59.87 remaining\n",
      "Extracting perturbation 976/1000: chart_042_complex_scatter_rotation_medium.png\n",
      "    Success\n",
      "Extracting perturbation 977/1000: chart_054_advanced_bar_legend_corruption_medium.png\n"
     ]
    },
    {
     "name": "stderr",
     "output_type": "stream",
     "text": [
      "API attempt 1 failed for data\\perturbations\\chart_054_advanced_bar_legend_corruption_medium.png: Request timed out.\n",
      "API attempt 2 failed for data\\perturbations\\chart_054_advanced_bar_legend_corruption_medium.png: Request timed out.\n",
      "API attempt 3 failed for data\\perturbations\\chart_054_advanced_bar_legend_corruption_medium.png: Request timed out.\n",
      "Extraction failed for data\\perturbations\\chart_054_advanced_bar_legend_corruption_medium.png: Request timed out.\n"
     ]
    },
    {
     "name": "stdout",
     "output_type": "stream",
     "text": [
      "    Failed\n",
      "Extracting perturbation 978/1000: chart_192_complex_scatter_legend_corruption_medium.png\n",
      "    Success\n",
      "Extracting perturbation 979/1000: chart_065_advanced_bar_random_blocks_medium.png\n",
      "    Success\n",
      "Extracting perturbation 980/1000: chart_108_complex_scatter_brightness_shift_medium.png\n",
      "    Success\n",
      "Extracting perturbation 981/1000: chart_116_medium_line_random_blocks_medium.png\n",
      "    Success\n",
      "Extracting perturbation 982/1000: chart_120_medium_line_legend_corruption_medium.png\n",
      "    Success\n",
      "Extracting perturbation 983/1000: chart_135_complex_bar_random_blocks_medium.png\n",
      "    Success\n",
      "Extracting perturbation 984/1000: chart_086_complex_scatter_rotation_medium.png\n",
      "    Success\n",
      "Extracting perturbation 985/1000: chart_017_advanced_line_random_blocks_medium.png\n",
      "    Success\n",
      "Extracting perturbation 986/1000: chart_127_advanced_scatter_rotation_medium.png\n",
      "    Success\n",
      "Extracting perturbation 987/1000: chart_009_medium_bar_brightness_shift_medium.png\n",
      "    Success\n",
      "Extracting perturbation 988/1000: chart_122_medium_line_random_blocks_medium.png\n"
     ]
    },
    {
     "name": "stderr",
     "output_type": "stream",
     "text": [
      "Could not parse JSON from response: I'm unable to extract data from the image directly. However, I can help guide you on how to manually extract the data or use tools that can assist with this task. If you have any questions or need fur...\n"
     ]
    },
    {
     "name": "stdout",
     "output_type": "stream",
     "text": [
      "    Success\n",
      "Extracting perturbation 989/1000: chart_119_advanced_line_legend_corruption_medium.png\n",
      "    Success\n",
      "Extracting perturbation 990/1000: chart_051_medium_line_legend_corruption_medium.png\n",
      "    Success\n",
      "Extracting perturbation 991/1000: chart_117_complex_bar_random_blocks_medium.png\n",
      "    Success\n",
      "Extracting perturbation 992/1000: chart_183_advanced_scatter_gaussian_blur_medium.png\n",
      "    Success\n",
      "Extracting perturbation 993/1000: chart_193_complex_line_rotation_medium.png\n",
      "    Success\n",
      "Extracting perturbation 994/1000: chart_025_medium_scatter_legend_corruption_medium.png\n",
      "    Success\n",
      "Extracting perturbation 995/1000: chart_083_complex_bar_random_blocks_medium.png\n",
      "    Success\n",
      "Extracting perturbation 996/1000: chart_049_medium_bar_brightness_shift_medium.png\n",
      "    Success\n",
      "Extracting perturbation 997/1000: chart_177_medium_bar_legend_corruption_medium.png\n",
      "    Success\n",
      "Extracting perturbation 998/1000: chart_139_advanced_scatter_gaussian_blur_medium.png\n",
      "    Success\n",
      "Extracting perturbation 999/1000: chart_014_complex_bar_rotation_medium.png\n",
      "    Success\n",
      "Extracting perturbation 1000/1000: chart_122_medium_line_rotation_medium.png\n",
      "    Success\n",
      "    Progress: 1195 total extractions, $35.85 spent, $59.15 remaining\n",
      "PHASE 2 COMPLETE: 997 perturbations extracted\n",
      "\n",
      " PHASE 3: INTENSITY ANALYSIS\n",
      " PHASE 3 COMPLETE: 0 intensity variants extracted\n"
     ]
    }
   ],
   "source": [
    "print(\"\\n SECTION 3: STRATEGIC EXTRACTION EXECUTION\")\n",
    "\n",
    "def execute_strategic_extraction():\n",
    "    \"\"\"Execute extraction with strategic budget management\"\"\"\n",
    "    \n",
    "    # Initialize extractor\n",
    "    extractor = GPT4VisionExtractor(client, EXTRACTION_CONFIG)\n",
    "    \n",
    "    # Load chart configurations for ground truth\n",
    "    chart_configs = {}\n",
    "    try:\n",
    "        with open('data/ground_truth/chart_configurations.json', 'r') as f:\n",
    "            chart_config_list = json.load(f)\n",
    "            chart_configs = {config['id']: config for config in chart_config_list}\n",
    "        print(f\" Loaded {len(chart_configs)} chart configurations\")\n",
    "    except FileNotFoundError:\n",
    "        print(\" Chart configurations not found - proceeding without ground truth\")\n",
    "    \n",
    "    # Extraction results storage\n",
    "    extraction_results = {}\n",
    "    \n",
    "    print(f\"\\n STARTING STRATEGIC EXTRACTION\")\n",
    "    print(f\" Budget: ${EXTRACTION_CONFIG['budget_management']['usable_budget']:.2f}\")\n",
    "    print(f\" Target: ~{max_extractions} extractions\")\n",
    "    \n",
    "    # PHASE 1: Original Charts Extraction\n",
    "    print(f\"\\n PHASE 1: ORIGINAL CHARTS EXTRACTION\")\n",
    "    \n",
    "    original_charts = list(Path('data/raw_charts').glob('*.png'))\n",
    "    if len(original_charts) > EXTRACTION_CONFIG['extraction_strategy']['phase_1_originals']:\n",
    "        # Sample strategically if too many\n",
    "        random.shuffle(original_charts)\n",
    "        original_charts = original_charts[:EXTRACTION_CONFIG['extraction_strategy']['phase_1_originals']]\n",
    "    \n",
    "    print(f\"Processing {len(original_charts)} original charts...\")\n",
    "    \n",
    "    for i, chart_path in enumerate(original_charts):\n",
    "        chart_id = chart_path.stem\n",
    "        \n",
    "        # Check budget\n",
    "        stats = extractor.get_extraction_statistics()\n",
    "        if stats['remaining_budget'] < EXTRACTION_CONFIG['budget_management']['cost_per_extraction']:\n",
    "            print(f\" Budget exhausted after {i} charts\")\n",
    "            break\n",
    "        \n",
    "        print(f\"Extracting {i+1}/{len(original_charts)}: {chart_id}\")\n",
    "        \n",
    "        # Get chart metadata if available\n",
    "        chart_metadata = chart_configs.get(chart_id, {})\n",
    "        \n",
    "        # Extract data\n",
    "        extracted_data = extractor.extract_data(chart_path, chart_metadata)\n",
    "        \n",
    "        if extracted_data:\n",
    "            # Save extraction result\n",
    "            result_path = f\"data/extractions/{chart_id}_original.json\"\n",
    "            with open(result_path, 'w') as f:\n",
    "                json.dump(extracted_data, f, indent=2)\n",
    "            \n",
    "            extraction_results[chart_id] = {\n",
    "                'type': 'original',\n",
    "                'extracted_data': extracted_data,\n",
    "                'ground_truth': chart_metadata.get('series_data', {}),\n",
    "                'file_path': result_path\n",
    "            }\n",
    "            \n",
    "            print(f\"    Success (Cost: ${stats['total_cost']:.2f})\")\n",
    "        else:\n",
    "            print(f\"    Failed\")\n",
    "        \n",
    "        # Progress update\n",
    "        if (i + 1) % 10 == 0:\n",
    "            current_stats = extractor.get_extraction_statistics()\n",
    "            print(f\"    Progress: {current_stats['successful_extractions']}/{current_stats['total_attempts']} \"\n",
    "                  f\"(${current_stats['total_cost']:.2f} spent)\")\n",
    "        \n",
    "        # Rate limiting\n",
    "        time.sleep(1)\n",
    "    \n",
    "    phase_1_stats = extractor.get_extraction_statistics()\n",
    "    print(f\" PHASE 1 COMPLETE: {phase_1_stats['successful_extractions']} extractions, \"\n",
    "          f\"${phase_1_stats['total_cost']:.2f} spent\")\n",
    "    \n",
    "    # PHASE 2: Priority Perturbations\n",
    "    print(f\"\\n PHASE 2: PRIORITY PERTURBATIONS\")\n",
    "    \n",
    "    # Select priority perturbations\n",
    "    perturbation_files = list(Path('data/perturbations').glob('*.png'))\n",
    "    \n",
    "    # Priority perturbation types (most important for robustness analysis)\n",
    "    priority_types = ['gaussian_blur', 'rotation', 'brightness_shift', 'random_blocks', 'legend_corruption']\n",
    "    \n",
    "    priority_perturbations = []\n",
    "    for pert_file in perturbation_files:\n",
    "        if any(ptype in pert_file.name for ptype in priority_types):\n",
    "            priority_perturbations.append(pert_file)\n",
    "    \n",
    "    # Limit based on budget and strategy\n",
    "    max_phase_2 = min(\n",
    "        EXTRACTION_CONFIG['extraction_strategy']['phase_2_priority_perturbations'],\n",
    "        len(priority_perturbations),\n",
    "        extractor.get_extraction_statistics()['estimated_remaining_extractions']\n",
    "    )\n",
    "    \n",
    "    if max_phase_2 > 0:\n",
    "        random.shuffle(priority_perturbations)\n",
    "        selected_perturbations = priority_perturbations[:max_phase_2]\n",
    "        \n",
    "        print(f\"Processing {len(selected_perturbations)} priority perturbations...\")\n",
    "        \n",
    "        for i, pert_path in enumerate(selected_perturbations):\n",
    "            # Check budget\n",
    "            if extractor.get_extraction_statistics()['remaining_budget'] < EXTRACTION_CONFIG['budget_management']['cost_per_extraction']:\n",
    "                print(f\" Budget exhausted after {i} perturbations\")\n",
    "                break\n",
    "            \n",
    "            print(f\"Extracting perturbation {i+1}/{len(selected_perturbations)}: {pert_path.name}\")\n",
    "            \n",
    "            # Extract original chart ID and perturbation info\n",
    "            filename_parts = pert_path.stem.split('_')\n",
    "            if len(filename_parts) >= 3:\n",
    "                original_chart_id = '_'.join(filename_parts[:-2])\n",
    "                perturbation_type = filename_parts[-2]\n",
    "                intensity = filename_parts[-1]\n",
    "            else:\n",
    "                original_chart_id = pert_path.stem\n",
    "                perturbation_type = \"unknown\"\n",
    "                intensity = \"unknown\"\n",
    "            \n",
    "            # Get original chart metadata\n",
    "            original_metadata = chart_configs.get(original_chart_id, {})\n",
    "            \n",
    "            # Extract data\n",
    "            pert_metadata = {\n",
    "                'original_chart_id': original_chart_id,\n",
    "                'perturbation_type': perturbation_type,\n",
    "                'intensity': intensity,\n",
    "                'original_chart_metadata': original_metadata\n",
    "            }\n",
    "            \n",
    "            extracted_data = extractor.extract_data(pert_path, pert_metadata)\n",
    "            \n",
    "            if extracted_data:\n",
    "                # Save extraction result\n",
    "                result_key = f\"{original_chart_id}_{perturbation_type}_{intensity}\"\n",
    "                result_path = f\"data/extractions/{result_key}.json\"\n",
    "                \n",
    "                with open(result_path, 'w') as f:\n",
    "                    json.dump(extracted_data, f, indent=2)\n",
    "                \n",
    "                extraction_results[result_key] = {\n",
    "                    'type': 'perturbation',\n",
    "                    'original_chart_id': original_chart_id,\n",
    "                    'perturbation_type': perturbation_type,\n",
    "                    'intensity': intensity,\n",
    "                    'extracted_data': extracted_data,\n",
    "                    'ground_truth': original_metadata.get('series_data', {}),\n",
    "                    'file_path': result_path\n",
    "                }\n",
    "                \n",
    "                print(f\"    Success\")\n",
    "            else:\n",
    "                print(f\"    Failed\")\n",
    "            \n",
    "            # Progress update\n",
    "            if (i + 1) % 25 == 0:\n",
    "                current_stats = extractor.get_extraction_statistics()\n",
    "                print(f\"    Progress: {current_stats['successful_extractions']} total extractions, \"\n",
    "                      f\"${current_stats['total_cost']:.2f} spent, \"\n",
    "                      f\"${current_stats['remaining_budget']:.2f} remaining\")\n",
    "            \n",
    "            # Rate limiting\n",
    "            time.sleep(1)\n",
    "    \n",
    "    phase_2_stats = extractor.get_extraction_statistics()\n",
    "    print(f\"PHASE 2 COMPLETE: {phase_2_stats['successful_extractions'] - phase_1_stats['successful_extractions']} \"\n",
    "          f\"perturbations extracted\")\n",
    "    \n",
    "    # PHASE 3: Intensity Analysis (if budget allows)\n",
    "    remaining_budget = extractor.get_extraction_statistics()['remaining_budget']\n",
    "    remaining_extractions = extractor.get_extraction_statistics()['estimated_remaining_extractions']\n",
    "    \n",
    "    if remaining_extractions >= 50:\n",
    "        print(f\"\\n PHASE 3: INTENSITY ANALYSIS\")\n",
    "        \n",
    "        # Find intensity variants (low/high) for charts we already processed\n",
    "        intensity_variants = []\n",
    "        processed_base_names = set()\n",
    "        \n",
    "        for result_key in extraction_results.keys():\n",
    "            if '_' in result_key and extraction_results[result_key]['type'] == 'perturbation':\n",
    "                parts = result_key.split('_')\n",
    "                if len(parts) >= 3:\n",
    "                    base_name = '_'.join(parts[:-1])  # Everything except intensity\n",
    "                    processed_base_names.add(base_name)\n",
    "        \n",
    "        # Find corresponding low/high intensity files\n",
    "        for base_name in processed_base_names:\n",
    "            for intensity in ['low', 'high']:\n",
    "                intensity_file = Path(f\"data/perturbations/{base_name}_{intensity}.png\")\n",
    "                if intensity_file.exists():\n",
    "                    intensity_variants.append(intensity_file)\n",
    "        \n",
    "        # Limit based on remaining budget\n",
    "        max_phase_3 = min(\n",
    "            EXTRACTION_CONFIG['extraction_strategy']['phase_3_intensity_analysis'],\n",
    "            len(intensity_variants),\n",
    "            remaining_extractions\n",
    "        )\n",
    "        \n",
    "        if max_phase_3 > 0:\n",
    "            random.shuffle(intensity_variants)\n",
    "            selected_intensity = intensity_variants[:max_phase_3]\n",
    "            \n",
    "            print(f\"Processing {len(selected_intensity)} intensity variants...\")\n",
    "            \n",
    "            for i, intensity_path in enumerate(selected_intensity):\n",
    "                if extractor.get_extraction_statistics()['remaining_budget'] < EXTRACTION_CONFIG['budget_management']['cost_per_extraction']:\n",
    "                    break\n",
    "                \n",
    "                print(f\"Extracting intensity variant {i+1}/{len(selected_intensity)}: {intensity_path.name}\")\n",
    "                \n",
    "                # Parse filename\n",
    "                filename_parts = intensity_path.stem.split('_')\n",
    "                if len(filename_parts) >= 3:\n",
    "                    original_chart_id = '_'.join(filename_parts[:-2])\n",
    "                    perturbation_type = filename_parts[-2]\n",
    "                    intensity = filename_parts[-1]\n",
    "                    \n",
    "                    pert_metadata = {\n",
    "                        'original_chart_id': original_chart_id,\n",
    "                        'perturbation_type': perturbation_type,\n",
    "                        'intensity': intensity,\n",
    "                        'original_chart_metadata': chart_configs.get(original_chart_id, {})\n",
    "                    }\n",
    "                    \n",
    "                    extracted_data = extractor.extract_data(intensity_path, pert_metadata)\n",
    "                    \n",
    "                    if extracted_data:\n",
    "                        result_key = f\"{original_chart_id}_{perturbation_type}_{intensity}\"\n",
    "                        result_path = f\"data/extractions/{result_key}.json\"\n",
    "                        \n",
    "                        with open(result_path, 'w') as f:\n",
    "                            json.dump(extracted_data, f, indent=2)\n",
    "                        \n",
    "                        extraction_results[result_key] = {\n",
    "                            'type': 'perturbation',\n",
    "                            'original_chart_id': original_chart_id,\n",
    "                            'perturbation_type': perturbation_type,\n",
    "                            'intensity': intensity,\n",
    "                            'extracted_data': extracted_data,\n",
    "                            'ground_truth': chart_configs.get(original_chart_id, {}).get('series_data', {}),\n",
    "                            'file_path': result_path\n",
    "                        }\n",
    "                        \n",
    "                        print(f\"    Success\")\n",
    "                    else:\n",
    "                        print(f\"    Failed\")\n",
    "                \n",
    "                time.sleep(1)\n",
    "        \n",
    "        phase_3_stats = extractor.get_extraction_statistics()\n",
    "        phase_3_new = phase_3_stats['successful_extractions'] - phase_2_stats['successful_extractions']\n",
    "        print(f\" PHASE 3 COMPLETE: {phase_3_new} intensity variants extracted\")\n",
    "    \n",
    "    else:\n",
    "        print(f\"\\n PHASE 3 SKIPPED: Insufficient budget (${remaining_budget:.2f} remaining)\")\n",
    "    \n",
    "    return extraction_results, extractor\n",
    "\n",
    "# Execute the strategic extraction\n",
    "print(\" Starting strategic extraction pipeline...\")\n",
    "all_results, extraction_engine = execute_strategic_extraction()\n"
   ]
  },
  {
   "cell_type": "code",
   "execution_count": 2,
   "id": "e9a3e5f3",
   "metadata": {},
   "outputs": [
    {
     "name": "stdout",
     "output_type": "stream",
     "text": [
      "Starting comprehensive extraction status analysis...\n",
      "================================================================================\n",
      " EXTRACTION STATUS ANALYSIS\n",
      "================================================================================\n",
      "\n",
      " DIRECTORY STATUS:\n",
      "   data/perturbations: 1200 files\n",
      "   data/extractions: 1200 files\n",
      "   data/raw_charts: 200 files\n",
      "   data/ground_truth: 1 files\n",
      "\n",
      " EXTRACTION OVERVIEW:\n",
      "  Total perturbation files: 1200\n",
      "  Total extraction files: 1200\n",
      "  Original chart extractions: 198\n",
      "  Perturbation extractions: 1002\n",
      "\n",
      " PERTURBATION EXTRACTION STATUS:\n",
      "  Available perturbations: 1200\n",
      "  Completed extractions: 1002\n",
      "  Missing extractions: 203\n",
      "  Completion rate: 83.5%\n",
      "\n",
      " PERTURBATION BREAKDOWN ANALYSIS:\n",
      "\n",
      "  BY PERTURBATION TYPE:\n",
      "    blocks          | Total: 200 | Completed: 200 | Missing:   0 | Rate: 100.0%\n",
      "    blur            | Total: 200 | Completed: 200 | Missing:   0 | Rate: 100.0%\n",
      "    conversion      | Total: 200 | Completed:   0 | Missing: 200 | Rate:   0.0%\n",
      "    corruption      | Total: 200 | Completed: 199 | Missing:   1 | Rate:  99.5%\n",
      "    rotation        | Total: 200 | Completed: 198 | Missing:   2 | Rate:  99.0%\n",
      "    shift           | Total: 200 | Completed: 200 | Missing:   0 | Rate: 100.0%\n",
      "\n",
      "  BY INTENSITY:\n",
      "    medium   | Total: 1200 | Completed: 997 | Missing: 203 | Rate:  83.1%\n",
      "\n",
      " FAILED EXTRACTION ANALYSIS:\n",
      "  Found 5 failed extraction JSON files\n",
      "  Failure types:\n",
      "    APITimeoutError: 4\n",
      "    Exception: 1\n",
      "  No CSV failure log found\n",
      "\n",
      " EXTRACTION QUALITY VALIDATION:\n",
      "  Analyzing 1200 extraction files...\n",
      "\n",
      "  QUALITY SUMMARY:\n",
      "    Valid JSON files: 1200/1200 (100.0%)\n",
      "    Files with data: 1195/1200 (99.6%)\n",
      "    Complete extractions: 842/1200 (70.2%)\n",
      "\n",
      "  CONFIDENCE DISTRIBUTION:\n",
      "    High: 633 (52.8%)\n",
      "    Medium: 476 (39.7%)\n",
      "    Low: 86 (7.2%)\n",
      "\n",
      "  DATA POINTS STATISTICS:\n",
      "    Average data points per chart: 14.5\n",
      "    Min/Max data points: 0/57\n",
      "\n",
      " CREATING PROGRESS REPORT...\n",
      "  Progress report saved: data/logs/extraction_progress_report.csv\n",
      "\n",
      "  PROGRESS SUMMARY:\n",
      "    Total perturbations: 1200\n",
      "    Extracted: 997\n",
      "    Remaining: 203\n",
      "    Completion rate: 83.1%\n",
      "\n",
      "  BY PERTURBATION TYPE:\n",
      "    Type            | Total | Done | Remaining | Rate  \n",
      "    --------------- | ----- | ---- | --------- | ------\n",
      "    blocks          | 200   | 200  | 0         | 100.0 %\n",
      "    blur            | 200   | 200  | 0         | 100.0 %\n",
      "    conversion      | 200   | 0    | 200       | 0.0   %\n",
      "    corruption      | 200   | 199  | 1         | 99.5  %\n",
      "    rotation        | 200   | 198  | 2         | 99.0  %\n",
      "    shift           | 200   | 200  | 0         | 100.0 %\n",
      "\n",
      " TARGET VERIFICATION:\n",
      "  Current extractions:\n",
      "    Original charts: 198\n",
      "    Perturbations: 1002\n",
      "    Total: 1200\n",
      "\n",
      "  Target status:\n",
      "    Target perturbations: 1200\n",
      "    Current perturbations: 1002\n",
      "    Remaining needed: 198\n",
      "    Progress: 83.5%\n",
      "   Need 198 more perturbation extractions\n",
      "\n",
      "🚀 RECOMMENDATIONS:\n",
      "   203 perturbations need extraction\n",
      "   Estimated cost: $6.09\n",
      "    Estimated time: 244 minutes\n",
      "   Run the remaining extraction pipeline to complete\n",
      "\n",
      " GENERATED FILES:\n",
      "   data/logs/extraction_progress_report.csv\n",
      "   data/logs/extraction_failures.csv (if failures exist)\n"
     ]
    }
   ],
   "source": [
    "import os\n",
    "import json\n",
    "import pandas as pd\n",
    "import numpy as np\n",
    "from pathlib import Path\n",
    "from datetime import datetime\n",
    "import matplotlib.pyplot as plt\n",
    "import seaborn as sns\n",
    "\n",
    "def analyze_current_extraction_status():\n",
    "    \"\"\"Comprehensive analysis of current extraction status\"\"\"\n",
    "    \n",
    "    print(\"=\" * 80)\n",
    "    print(\" EXTRACTION STATUS ANALYSIS\")\n",
    "    print(\"=\" * 80)\n",
    "    \n",
    "    # Check directory structure\n",
    "    required_dirs = [\n",
    "        \"data/perturbations\",\n",
    "        \"data/extractions\", \n",
    "        \"data/raw_charts\",\n",
    "        \"data/ground_truth\"\n",
    "    ]\n",
    "    \n",
    "    print(\"\\n DIRECTORY STATUS:\")\n",
    "    for dir_path in required_dirs:\n",
    "        if Path(dir_path).exists():\n",
    "            file_count = len(list(Path(dir_path).glob(\"*\")))\n",
    "            print(f\"   {dir_path}: {file_count} files\")\n",
    "        else:\n",
    "            print(f\"   {dir_path}: NOT FOUND\")\n",
    "    \n",
    "    # Analyze perturbations vs extractions\n",
    "    perturbation_dir = Path(\"data/perturbations\")\n",
    "    extraction_dir = Path(\"data/extractions\")\n",
    "    \n",
    "    if not perturbation_dir.exists() or not extraction_dir.exists():\n",
    "        print(\"\\n Required directories missing!\")\n",
    "        return None\n",
    "    \n",
    "    # Get all perturbation files\n",
    "    all_perturbations = list(perturbation_dir.glob(\"*.png\"))\n",
    "    all_extractions = list(extraction_dir.glob(\"*.json\"))\n",
    "    \n",
    "    print(f\"\\n EXTRACTION OVERVIEW:\")\n",
    "    print(f\"  Total perturbation files: {len(all_perturbations)}\")\n",
    "    print(f\"  Total extraction files: {len(all_extractions)}\")\n",
    "    \n",
    "    # Separate originals from perturbations\n",
    "    original_extractions = [f for f in all_extractions if '_original' in f.name]\n",
    "    perturbation_extractions = [f for f in all_extractions if '_original' not in f.name]\n",
    "    \n",
    "    print(f\"  Original chart extractions: {len(original_extractions)}\")\n",
    "    print(f\"  Perturbation extractions: {len(perturbation_extractions)}\")\n",
    "    \n",
    "    # Identify completed perturbation IDs\n",
    "    completed_perturbation_ids = set()\n",
    "    for ext_file in perturbation_extractions:\n",
    "        completed_perturbation_ids.add(ext_file.stem)\n",
    "    \n",
    "    # Identify available perturbation IDs\n",
    "    available_perturbation_ids = set()\n",
    "    for pert_file in all_perturbations:\n",
    "        available_perturbation_ids.add(pert_file.stem)\n",
    "    \n",
    "    # Find missing perturbations\n",
    "    missing_perturbation_ids = available_perturbation_ids - completed_perturbation_ids\n",
    "    \n",
    "    print(f\"\\n PERTURBATION EXTRACTION STATUS:\")\n",
    "    print(f\"  Available perturbations: {len(available_perturbation_ids)}\")\n",
    "    print(f\"  Completed extractions: {len(completed_perturbation_ids)}\")\n",
    "    print(f\"  Missing extractions: {len(missing_perturbation_ids)}\")\n",
    "    print(f\"  Completion rate: {(len(completed_perturbation_ids) / len(available_perturbation_ids)) * 100:.1f}%\")\n",
    "    \n",
    "    # Analyze by perturbation type and intensity\n",
    "    analyze_perturbation_breakdown(all_perturbations, completed_perturbation_ids)\n",
    "    \n",
    "    # Check for failed extraction records\n",
    "    analyze_failed_extractions()\n",
    "    \n",
    "    # Return missing perturbation files for processing\n",
    "    missing_files = []\n",
    "    for pert_file in all_perturbations:\n",
    "        if pert_file.stem in missing_perturbation_ids:\n",
    "            missing_files.append(pert_file)\n",
    "    \n",
    "    return missing_files\n",
    "\n",
    "def analyze_perturbation_breakdown(all_perturbations, completed_perturbation_ids):\n",
    "    \"\"\"Analyze perturbation breakdown by type and intensity\"\"\"\n",
    "    \n",
    "    print(f\"\\n PERTURBATION BREAKDOWN ANALYSIS:\")\n",
    "    \n",
    "    # Categorize all perturbations\n",
    "    perturbation_breakdown = {}\n",
    "    intensity_breakdown = {}\n",
    "    \n",
    "    for pert_file in all_perturbations:\n",
    "        filename_parts = pert_file.stem.split('_')\n",
    "        if len(filename_parts) >= 3:\n",
    "            perturbation_type = filename_parts[-2]\n",
    "            intensity = filename_parts[-1]\n",
    "            \n",
    "            # Initialize if not exists\n",
    "            if perturbation_type not in perturbation_breakdown:\n",
    "                perturbation_breakdown[perturbation_type] = {'total': 0, 'completed': 0}\n",
    "            if intensity not in intensity_breakdown:\n",
    "                intensity_breakdown[intensity] = {'total': 0, 'completed': 0}\n",
    "            \n",
    "            # Count totals\n",
    "            perturbation_breakdown[perturbation_type]['total'] += 1\n",
    "            intensity_breakdown[intensity]['total'] += 1\n",
    "            \n",
    "            # Count completed\n",
    "            if pert_file.stem in completed_perturbation_ids:\n",
    "                perturbation_breakdown[perturbation_type]['completed'] += 1\n",
    "                intensity_breakdown[intensity]['completed'] += 1\n",
    "    \n",
    "    # Display perturbation type breakdown\n",
    "    print(f\"\\n  BY PERTURBATION TYPE:\")\n",
    "    for pert_type, counts in sorted(perturbation_breakdown.items()):\n",
    "        completion_rate = (counts['completed'] / counts['total']) * 100\n",
    "        missing = counts['total'] - counts['completed']\n",
    "        print(f\"    {pert_type:15} | Total: {counts['total']:3} | Completed: {counts['completed']:3} | Missing: {missing:3} | Rate: {completion_rate:5.1f}%\")\n",
    "    \n",
    "    # Display intensity breakdown\n",
    "    print(f\"\\n  BY INTENSITY:\")\n",
    "    for intensity, counts in sorted(intensity_breakdown.items()):\n",
    "        completion_rate = (counts['completed'] / counts['total']) * 100\n",
    "        missing = counts['total'] - counts['completed']\n",
    "        print(f\"    {intensity:8} | Total: {counts['total']:3} | Completed: {counts['completed']:3} | Missing: {missing:3} | Rate: {completion_rate:5.1f}%\")\n",
    "\n",
    "def analyze_failed_extractions():\n",
    "    \"\"\"Analyze previously failed extractions\"\"\"\n",
    "    \n",
    "    print(f\"\\n FAILED EXTRACTION ANALYSIS:\")\n",
    "    \n",
    "    # Check for failed extraction JSON files\n",
    "    failed_json_dir = Path(\"data/extractions\")\n",
    "    failed_json_files = list(failed_json_dir.glob(\"failed_*.json\"))\n",
    "    \n",
    "    if failed_json_files:\n",
    "        print(f\"  Found {len(failed_json_files)} failed extraction JSON files\")\n",
    "        \n",
    "        # Analyze failure patterns\n",
    "        failure_types = {}\n",
    "        failure_timestamps = []\n",
    "        \n",
    "        for failed_file in failed_json_files:\n",
    "            try:\n",
    "                with open(failed_file, 'r') as f:\n",
    "                    failure_data = json.load(f)\n",
    "                \n",
    "                error_type = failure_data.get('error_type', 'Unknown')\n",
    "                failure_types[error_type] = failure_types.get(error_type, 0) + 1\n",
    "                \n",
    "                if 'error_timestamp' in failure_data:\n",
    "                    failure_timestamps.append(failure_data['error_timestamp'])\n",
    "                    \n",
    "            except Exception as e:\n",
    "                print(f\"    Could not read {failed_file}: {e}\")\n",
    "        \n",
    "        print(f\"  Failure types:\")\n",
    "        for error_type, count in sorted(failure_types.items()):\n",
    "            print(f\"    {error_type}: {count}\")\n",
    "    \n",
    "    # Check for CSV failure log\n",
    "    csv_log_path = Path(\"data/logs/extraction_failures.csv\")\n",
    "    if csv_log_path.exists():\n",
    "        try:\n",
    "            df_failures = pd.read_csv(csv_log_path)\n",
    "            print(f\"  CSV failure log found: {len(df_failures)} entries\")\n",
    "            \n",
    "            if len(df_failures) > 0:\n",
    "                print(f\"  Most common error types:\")\n",
    "                error_counts = df_failures['error_type'].value_counts()\n",
    "                for error_type, count in error_counts.head().items():\n",
    "                    print(f\"    {error_type}: {count}\")\n",
    "                \n",
    "                print(f\"  Most recent failures:\")\n",
    "                recent_failures = df_failures.tail(3)\n",
    "                for _, row in recent_failures.iterrows():\n",
    "                    print(f\"    {row['error_timestamp']}: {Path(row['image_path']).name} - {row['error_type']}\")\n",
    "        \n",
    "        except Exception as e:\n",
    "            print(f\"  Could not read CSV log: {e}\")\n",
    "    else:\n",
    "        print(f\"  No CSV failure log found\")\n",
    "\n",
    "def validate_extraction_quality():\n",
    "    \"\"\"Validate quality of existing extractions\"\"\"\n",
    "    \n",
    "    print(f\"\\n EXTRACTION QUALITY VALIDATION:\")\n",
    "    \n",
    "    extraction_dir = Path(\"data/extractions\")\n",
    "    extraction_files = list(extraction_dir.glob(\"*.json\"))\n",
    "    \n",
    "    if not extraction_files:\n",
    "        print(\"  No extraction files found!\")\n",
    "        return\n",
    "    \n",
    "    quality_stats = {\n",
    "        'total_files': 0,\n",
    "        'valid_json': 0,\n",
    "        'has_data': 0,\n",
    "        'high_confidence': 0,\n",
    "        'medium_confidence': 0,\n",
    "        'low_confidence': 0,\n",
    "        'complete_data': 0,\n",
    "        'data_point_counts': []\n",
    "    }\n",
    "    \n",
    "    print(f\"  Analyzing {len(extraction_files)} extraction files...\")\n",
    "    \n",
    "    for ext_file in extraction_files:\n",
    "        quality_stats['total_files'] += 1\n",
    "        \n",
    "        try:\n",
    "            with open(ext_file, 'r') as f:\n",
    "                data = json.load(f)\n",
    "            \n",
    "            quality_stats['valid_json'] += 1\n",
    "            \n",
    "            # Check for data\n",
    "            if 'data' in data and isinstance(data['data'], list):\n",
    "                quality_stats['has_data'] += 1\n",
    "                quality_stats['data_point_counts'].append(len(data['data']))\n",
    "            \n",
    "            # Check confidence\n",
    "            confidence = data.get('extraction_confidence', 'unknown').lower()\n",
    "            if confidence == 'high':\n",
    "                quality_stats['high_confidence'] += 1\n",
    "            elif confidence == 'medium':\n",
    "                quality_stats['medium_confidence'] += 1\n",
    "            elif confidence == 'low':\n",
    "                quality_stats['low_confidence'] += 1\n",
    "            \n",
    "            # Check completeness\n",
    "            if data.get('data_completeness', '').lower() == 'complete':\n",
    "                quality_stats['complete_data'] += 1\n",
    "                \n",
    "        except Exception as e:\n",
    "            print(f\"    Invalid extraction file: {ext_file.name} - {e}\")\n",
    "    \n",
    "    # Display quality statistics\n",
    "    total = quality_stats['total_files']\n",
    "    print(f\"\\n  QUALITY SUMMARY:\")\n",
    "    print(f\"    Valid JSON files: {quality_stats['valid_json']}/{total} ({(quality_stats['valid_json']/total)*100:.1f}%)\")\n",
    "    print(f\"    Files with data: {quality_stats['has_data']}/{total} ({(quality_stats['has_data']/total)*100:.1f}%)\")\n",
    "    print(f\"    Complete extractions: {quality_stats['complete_data']}/{total} ({(quality_stats['complete_data']/total)*100:.1f}%)\")\n",
    "    \n",
    "    print(f\"\\n  CONFIDENCE DISTRIBUTION:\")\n",
    "    print(f\"    High: {quality_stats['high_confidence']} ({(quality_stats['high_confidence']/total)*100:.1f}%)\")\n",
    "    print(f\"    Medium: {quality_stats['medium_confidence']} ({(quality_stats['medium_confidence']/total)*100:.1f}%)\")\n",
    "    print(f\"    Low: {quality_stats['low_confidence']} ({(quality_stats['low_confidence']/total)*100:.1f}%)\")\n",
    "    \n",
    "    if quality_stats['data_point_counts']:\n",
    "        data_points = quality_stats['data_point_counts']\n",
    "        print(f\"\\n  DATA POINTS STATISTICS:\")\n",
    "        print(f\"    Average data points per chart: {np.mean(data_points):.1f}\")\n",
    "        print(f\"    Min/Max data points: {min(data_points)}/{max(data_points)}\")\n",
    "\n",
    "def create_extraction_progress_report():\n",
    "    \"\"\"Create a comprehensive progress report\"\"\"\n",
    "    \n",
    "    print(f\"\\n CREATING PROGRESS REPORT...\")\n",
    "    \n",
    "    # Gather all data\n",
    "    perturbation_dir = Path(\"data/perturbations\")\n",
    "    extraction_dir = Path(\"data/extractions\")\n",
    "    \n",
    "    if not perturbation_dir.exists() or not extraction_dir.exists():\n",
    "        print(\"Required directories missing!\")\n",
    "        return\n",
    "    \n",
    "    all_perturbations = list(perturbation_dir.glob(\"*.png\"))\n",
    "    all_extractions = list(extraction_dir.glob(\"*.json\"))\n",
    "    \n",
    "    # Create detailed breakdown\n",
    "    progress_data = []\n",
    "    \n",
    "    for pert_file in all_perturbations:\n",
    "        filename_parts = pert_file.stem.split('_')\n",
    "        \n",
    "        if len(filename_parts) >= 3:\n",
    "            original_chart_id = '_'.join(filename_parts[:-2])\n",
    "            perturbation_type = filename_parts[-2]\n",
    "            intensity = filename_parts[-1]\n",
    "        else:\n",
    "            original_chart_id = \"unknown\"\n",
    "            perturbation_type = \"unknown\"\n",
    "            intensity = \"unknown\"\n",
    "        \n",
    "        # Check if extracted\n",
    "        extraction_file = extraction_dir / f\"{pert_file.stem}.json\"\n",
    "        is_extracted = extraction_file.exists()\n",
    "        \n",
    "        # Get extraction quality if available\n",
    "        confidence = \"not_extracted\"\n",
    "        data_points = 0\n",
    "        \n",
    "        if is_extracted:\n",
    "            try:\n",
    "                with open(extraction_file, 'r') as f:\n",
    "                    ext_data = json.load(f)\n",
    "                confidence = ext_data.get('extraction_confidence', 'unknown')\n",
    "                data_points = len(ext_data.get('data', []))\n",
    "            except:\n",
    "                confidence = \"invalid_json\"\n",
    "        \n",
    "        progress_data.append({\n",
    "            'perturbation_file': pert_file.name,\n",
    "            'original_chart_id': original_chart_id,\n",
    "            'perturbation_type': perturbation_type,\n",
    "            'intensity': intensity,\n",
    "            'is_extracted': is_extracted,\n",
    "            'confidence': confidence,\n",
    "            'data_points': data_points\n",
    "        })\n",
    "    \n",
    "    # Create DataFrame and save\n",
    "    df_progress = pd.DataFrame(progress_data)\n",
    "    \n",
    "    # Save progress report\n",
    "    report_path = \"data/logs/extraction_progress_report.csv\"\n",
    "    df_progress.to_csv(report_path, index=False)\n",
    "    print(f\"  Progress report saved: {report_path}\")\n",
    "    \n",
    "    # Display summary statistics\n",
    "    print(f\"\\n  PROGRESS SUMMARY:\")\n",
    "    total_perturbations = len(df_progress)\n",
    "    extracted_perturbations = df_progress['is_extracted'].sum()\n",
    "    completion_rate = (extracted_perturbations / total_perturbations) * 100\n",
    "    \n",
    "    print(f\"    Total perturbations: {total_perturbations}\")\n",
    "    print(f\"    Extracted: {extracted_perturbations}\")\n",
    "    print(f\"    Remaining: {total_perturbations - extracted_perturbations}\")\n",
    "    print(f\"    Completion rate: {completion_rate:.1f}%\")\n",
    "    \n",
    "    # Breakdown by type\n",
    "    type_summary = df_progress.groupby('perturbation_type')['is_extracted'].agg(['count', 'sum']).reset_index()\n",
    "    type_summary['completion_rate'] = (type_summary['sum'] / type_summary['count']) * 100\n",
    "    type_summary['remaining'] = type_summary['count'] - type_summary['sum']\n",
    "    \n",
    "    print(f\"\\n  BY PERTURBATION TYPE:\")\n",
    "    print(f\"    {'Type':<15} | {'Total':<5} | {'Done':<4} | {'Remaining':<9} | {'Rate':<6}\")\n",
    "    print(f\"    {'-'*15} | {'-'*5} | {'-'*4} | {'-'*9} | {'-'*6}\")\n",
    "    \n",
    "    for _, row in type_summary.iterrows():\n",
    "        print(f\"    {row['perturbation_type']:<15} | {row['count']:<5} | {row['sum']:<4} | {row['remaining']:<9} | {row['completion_rate']:<6.1f}%\")\n",
    "    \n",
    "    return df_progress\n",
    "\n",
    "def verify_target_extraction_count():\n",
    "    \"\"\"Verify if we're on track for target extraction count\"\"\"\n",
    "    \n",
    "    print(f\"\\n TARGET VERIFICATION:\")\n",
    "    \n",
    "    extraction_dir = Path(\"data/extractions\")\n",
    "    if not extraction_dir.exists():\n",
    "        print(\"  Extraction directory not found!\")\n",
    "        return\n",
    "    \n",
    "    all_extractions = list(extraction_dir.glob(\"*.json\"))\n",
    "    original_extractions = [f for f in all_extractions if '_original' in f.name]\n",
    "    perturbation_extractions = [f for f in all_extractions if '_original' not in f.name]\n",
    "    \n",
    "    print(f\"  Current extractions:\")\n",
    "    print(f\"    Original charts: {len(original_extractions)}\")\n",
    "    print(f\"    Perturbations: {len(perturbation_extractions)}\")\n",
    "    print(f\"    Total: {len(all_extractions)}\")\n",
    "    \n",
    "    print(f\"\\n  Target status:\")\n",
    "    print(f\"    Target perturbations: 1200\")\n",
    "    print(f\"    Current perturbations: {len(perturbation_extractions)}\")\n",
    "    print(f\"    Remaining needed: {max(0, 1200 - len(perturbation_extractions))}\")\n",
    "    print(f\"    Progress: {(len(perturbation_extractions) / 1200) * 100:.1f}%\")\n",
    "    \n",
    "    if len(perturbation_extractions) >= 1200:\n",
    "        print(f\"   TARGET ACHIEVED!\")\n",
    "    else:\n",
    "        remaining = 1200 - len(perturbation_extractions)\n",
    "        print(f\"   Need {remaining} more perturbation extractions\")\n",
    "\n",
    "def main():\n",
    "    \"\"\"Main analysis function\"\"\"\n",
    "    \n",
    "    print(\"Starting comprehensive extraction status analysis...\")\n",
    "    \n",
    "    # Create required directories if they don't exist\n",
    "    Path(\"data/logs\").mkdir(parents=True, exist_ok=True)\n",
    "    Path(\"data/extractions\").mkdir(parents=True, exist_ok=True)\n",
    "    Path(\"data/perturbations\").mkdir(parents=True, exist_ok=True)\n",
    "    \n",
    "    # Step 1: Analyze current status\n",
    "    missing_files = analyze_current_extraction_status()\n",
    "    \n",
    "    # Step 2: Validate extraction quality\n",
    "    validate_extraction_quality()\n",
    "    \n",
    "    # Step 3: Create progress report\n",
    "    df_progress = create_extraction_progress_report()\n",
    "    \n",
    "    # Step 4: Verify target count\n",
    "    verify_target_extraction_count()\n",
    "    \n",
    "    # Step 5: Provide recommendations\n",
    "    print(f\"\\n🚀 RECOMMENDATIONS:\")\n",
    "    \n",
    "    if missing_files and len(missing_files) > 0:\n",
    "        print(f\"   {len(missing_files)} perturbations need extraction\")\n",
    "        print(f\"   Estimated cost: ${len(missing_files) * 0.03:.2f}\")\n",
    "        print(f\"    Estimated time: {len(missing_files) * 1.2:.0f} minutes\")\n",
    "        print(f\"   Run the remaining extraction pipeline to complete\")\n",
    "    else:\n",
    "        print(f\"   All perturbations appear to be extracted!\")\n",
    "        print(f\"   Consider running quality validation on existing extractions\")\n",
    "    \n",
    "    print(f\"\\n GENERATED FILES:\")\n",
    "    print(f\"   data/logs/extraction_progress_report.csv\")\n",
    "    print(f\"   data/logs/extraction_failures.csv (if failures exist)\")\n",
    "    \n",
    "    return missing_files\n",
    "\n",
    "if __name__ == \"__main__\":\n",
    "    missing_files = main()"
   ]
  },
  {
   "cell_type": "code",
   "execution_count": 2,
   "id": "79df7ad6",
   "metadata": {},
   "outputs": [
    {
     "name": "stdout",
     "output_type": "stream",
     "text": [
      "================================================================================\n",
      " REMAINING PERTURBATION EXTRACTION PIPELINE\n",
      " Identifying and Processing Remaining 200 Extractions\n",
      "================================================================================\n",
      "  Found 0 previously failed files\n",
      "  Loaded existing failure log: data/logs/extraction_failures.csv\n",
      "\n",
      " IDENTIFYING REMAINING EXTRACTIONS\n",
      "------------------------------------------------------------\n",
      "  Total perturbation files available: 1200\n",
      "  Extraction files found: 1200\n",
      "  Completed perturbation extractions: 1002\n",
      "  Remaining perturbations to extract: 203\n",
      "\n",
      "  REMAINING BY PERTURBATION TYPE:\n",
      "    conversion: 200\n",
      "    corruption: 1\n",
      "    rotation: 2\n",
      "\n",
      "  REMAINING BY INTENSITY:\n",
      "    medium: 203\n",
      "\n",
      " EXTRACTION PLAN:\n",
      " Remaining perturbations: 203\n",
      " Target extractions: 200\n",
      " Estimated cost: $6.00\n",
      "\n",
      " STARTING REMAINING EXTRACTIONS\n",
      " Available perturbations: 203\n",
      " Selected first 200 perturbations for extraction\n",
      "\n",
      "Extracting 1/200: chart_001_complex_bar_grayscale_conversion_medium.png\n"
     ]
    },
    {
     "name": "stderr",
     "output_type": "stream",
     "text": [
      "INFO:httpx:HTTP Request: POST https://api.openai.com/v1/chat/completions \"HTTP/1.1 200 OK\"\n",
      "INFO:remaining_extraction:Successful extraction: chart_001_complex_bar_grayscale_conversion_medium.png (attempt 1)\n"
     ]
    },
    {
     "name": "stdout",
     "output_type": "stream",
     "text": [
      "     Success\n",
      "\n",
      "Extracting 2/200: chart_002_medium_bar_grayscale_conversion_medium.png\n"
     ]
    },
    {
     "name": "stderr",
     "output_type": "stream",
     "text": [
      "INFO:httpx:HTTP Request: POST https://api.openai.com/v1/chat/completions \"HTTP/1.1 200 OK\"\n",
      "INFO:remaining_extraction:Successful extraction: chart_002_medium_bar_grayscale_conversion_medium.png (attempt 1)\n"
     ]
    },
    {
     "name": "stdout",
     "output_type": "stream",
     "text": [
      "     Success\n",
      "\n",
      "Extracting 3/200: chart_003_medium_bar_grayscale_conversion_medium.png\n"
     ]
    },
    {
     "name": "stderr",
     "output_type": "stream",
     "text": [
      "INFO:httpx:HTTP Request: POST https://api.openai.com/v1/chat/completions \"HTTP/1.1 200 OK\"\n",
      "INFO:remaining_extraction:Successful extraction: chart_003_medium_bar_grayscale_conversion_medium.png (attempt 1)\n"
     ]
    },
    {
     "name": "stdout",
     "output_type": "stream",
     "text": [
      "     Success\n",
      "\n",
      "Extracting 4/200: chart_004_complex_pie_grayscale_conversion_medium.png\n"
     ]
    },
    {
     "name": "stderr",
     "output_type": "stream",
     "text": [
      "INFO:httpx:HTTP Request: POST https://api.openai.com/v1/chat/completions \"HTTP/1.1 200 OK\"\n",
      "INFO:remaining_extraction:Successful extraction: chart_004_complex_pie_grayscale_conversion_medium.png (attempt 1)\n"
     ]
    },
    {
     "name": "stdout",
     "output_type": "stream",
     "text": [
      "     Success\n",
      "\n",
      "Extracting 5/200: chart_005_complex_bar_grayscale_conversion_medium.png\n"
     ]
    },
    {
     "name": "stderr",
     "output_type": "stream",
     "text": [
      "INFO:httpx:HTTP Request: POST https://api.openai.com/v1/chat/completions \"HTTP/1.1 200 OK\"\n",
      "INFO:remaining_extraction:Successful extraction: chart_005_complex_bar_grayscale_conversion_medium.png (attempt 1)\n"
     ]
    },
    {
     "name": "stdout",
     "output_type": "stream",
     "text": [
      "     Success\n",
      "\n",
      "Extracting 6/200: chart_006_medium_bar_grayscale_conversion_medium.png\n"
     ]
    },
    {
     "name": "stderr",
     "output_type": "stream",
     "text": [
      "INFO:httpx:HTTP Request: POST https://api.openai.com/v1/chat/completions \"HTTP/1.1 200 OK\"\n",
      "INFO:remaining_extraction:Successful extraction: chart_006_medium_bar_grayscale_conversion_medium.png (attempt 1)\n"
     ]
    },
    {
     "name": "stdout",
     "output_type": "stream",
     "text": [
      "     Success\n",
      "\n",
      "Extracting 7/200: chart_007_medium_line_grayscale_conversion_medium.png\n"
     ]
    },
    {
     "name": "stderr",
     "output_type": "stream",
     "text": [
      "INFO:httpx:HTTP Request: POST https://api.openai.com/v1/chat/completions \"HTTP/1.1 200 OK\"\n",
      "INFO:remaining_extraction:Successful extraction: chart_007_medium_line_grayscale_conversion_medium.png (attempt 1)\n"
     ]
    },
    {
     "name": "stdout",
     "output_type": "stream",
     "text": [
      "     Success\n",
      "\n",
      "Extracting 8/200: chart_008_advanced_pie_grayscale_conversion_medium.png\n"
     ]
    },
    {
     "name": "stderr",
     "output_type": "stream",
     "text": [
      "INFO:httpx:HTTP Request: POST https://api.openai.com/v1/chat/completions \"HTTP/1.1 200 OK\"\n",
      "INFO:remaining_extraction:Successful extraction: chart_008_advanced_pie_grayscale_conversion_medium.png (attempt 1)\n"
     ]
    },
    {
     "name": "stdout",
     "output_type": "stream",
     "text": [
      "     Success\n",
      "\n",
      "Extracting 9/200: chart_009_medium_bar_grayscale_conversion_medium.png\n"
     ]
    },
    {
     "name": "stderr",
     "output_type": "stream",
     "text": [
      "INFO:httpx:HTTP Request: POST https://api.openai.com/v1/chat/completions \"HTTP/1.1 200 OK\"\n",
      "INFO:remaining_extraction:Successful extraction: chart_009_medium_bar_grayscale_conversion_medium.png (attempt 1)\n"
     ]
    },
    {
     "name": "stdout",
     "output_type": "stream",
     "text": [
      "     Success\n",
      "\n",
      "Extracting 10/200: chart_010_complex_bar_grayscale_conversion_medium.png\n"
     ]
    },
    {
     "name": "stderr",
     "output_type": "stream",
     "text": [
      "INFO:httpx:HTTP Request: POST https://api.openai.com/v1/chat/completions \"HTTP/1.1 200 OK\"\n",
      "INFO:remaining_extraction:Successful extraction: chart_010_complex_bar_grayscale_conversion_medium.png (attempt 1)\n"
     ]
    },
    {
     "name": "stdout",
     "output_type": "stream",
     "text": [
      "     Success\n",
      "\n",
      "Extracting 11/200: chart_011_advanced_scatter_grayscale_conversion_medium.png\n"
     ]
    },
    {
     "name": "stderr",
     "output_type": "stream",
     "text": [
      "INFO:httpx:HTTP Request: POST https://api.openai.com/v1/chat/completions \"HTTP/1.1 200 OK\"\n",
      "INFO:remaining_extraction:Successful extraction: chart_011_advanced_scatter_grayscale_conversion_medium.png (attempt 1)\n"
     ]
    },
    {
     "name": "stdout",
     "output_type": "stream",
     "text": [
      "     Success\n",
      "\n",
      "Extracting 12/200: chart_012_complex_line_grayscale_conversion_medium.png\n"
     ]
    },
    {
     "name": "stderr",
     "output_type": "stream",
     "text": [
      "INFO:httpx:HTTP Request: POST https://api.openai.com/v1/chat/completions \"HTTP/1.1 200 OK\"\n",
      "INFO:remaining_extraction:Successful extraction: chart_012_complex_line_grayscale_conversion_medium.png (attempt 1)\n"
     ]
    },
    {
     "name": "stdout",
     "output_type": "stream",
     "text": [
      "     Success\n",
      "\n",
      "Extracting 13/200: chart_013_complex_pie_grayscale_conversion_medium.png\n"
     ]
    },
    {
     "name": "stderr",
     "output_type": "stream",
     "text": [
      "INFO:httpx:HTTP Request: POST https://api.openai.com/v1/chat/completions \"HTTP/1.1 200 OK\"\n",
      "INFO:remaining_extraction:Successful extraction: chart_013_complex_pie_grayscale_conversion_medium.png (attempt 1)\n"
     ]
    },
    {
     "name": "stdout",
     "output_type": "stream",
     "text": [
      "     Success\n",
      "\n",
      "Extracting 14/200: chart_014_complex_bar_grayscale_conversion_medium.png\n"
     ]
    },
    {
     "name": "stderr",
     "output_type": "stream",
     "text": [
      "INFO:httpx:HTTP Request: POST https://api.openai.com/v1/chat/completions \"HTTP/1.1 200 OK\"\n",
      "INFO:remaining_extraction:Successful extraction: chart_014_complex_bar_grayscale_conversion_medium.png (attempt 1)\n"
     ]
    },
    {
     "name": "stdout",
     "output_type": "stream",
     "text": [
      "     Success\n",
      "\n",
      "Extracting 15/200: chart_015_advanced_pie_grayscale_conversion_medium.png\n"
     ]
    },
    {
     "name": "stderr",
     "output_type": "stream",
     "text": [
      "INFO:httpx:HTTP Request: POST https://api.openai.com/v1/chat/completions \"HTTP/1.1 200 OK\"\n",
      "INFO:remaining_extraction:Successful extraction: chart_015_advanced_pie_grayscale_conversion_medium.png (attempt 1)\n"
     ]
    },
    {
     "name": "stdout",
     "output_type": "stream",
     "text": [
      "     Success\n",
      "\n",
      "Extracting 16/200: chart_016_medium_scatter_grayscale_conversion_medium.png\n"
     ]
    },
    {
     "name": "stderr",
     "output_type": "stream",
     "text": [
      "INFO:httpx:HTTP Request: POST https://api.openai.com/v1/chat/completions \"HTTP/1.1 200 OK\"\n",
      "INFO:remaining_extraction:Successful extraction: chart_016_medium_scatter_grayscale_conversion_medium.png (attempt 1)\n"
     ]
    },
    {
     "name": "stdout",
     "output_type": "stream",
     "text": [
      "     Success\n",
      "\n",
      "Extracting 17/200: chart_017_advanced_line_grayscale_conversion_medium.png\n"
     ]
    },
    {
     "name": "stderr",
     "output_type": "stream",
     "text": [
      "INFO:httpx:HTTP Request: POST https://api.openai.com/v1/chat/completions \"HTTP/1.1 200 OK\"\n",
      "INFO:remaining_extraction:Successful extraction: chart_017_advanced_line_grayscale_conversion_medium.png (attempt 1)\n"
     ]
    },
    {
     "name": "stdout",
     "output_type": "stream",
     "text": [
      "     Success\n",
      "\n",
      "Extracting 18/200: chart_018_advanced_bar_grayscale_conversion_medium.png\n"
     ]
    },
    {
     "name": "stderr",
     "output_type": "stream",
     "text": [
      "INFO:httpx:HTTP Request: POST https://api.openai.com/v1/chat/completions \"HTTP/1.1 200 OK\"\n",
      "INFO:remaining_extraction:Successful extraction: chart_018_advanced_bar_grayscale_conversion_medium.png (attempt 1)\n"
     ]
    },
    {
     "name": "stdout",
     "output_type": "stream",
     "text": [
      "     Success\n",
      "\n",
      "Extracting 19/200: chart_019_complex_bar_grayscale_conversion_medium.png\n"
     ]
    },
    {
     "name": "stderr",
     "output_type": "stream",
     "text": [
      "INFO:httpx:HTTP Request: POST https://api.openai.com/v1/chat/completions \"HTTP/1.1 200 OK\"\n",
      "INFO:remaining_extraction:Successful extraction: chart_019_complex_bar_grayscale_conversion_medium.png (attempt 1)\n"
     ]
    },
    {
     "name": "stdout",
     "output_type": "stream",
     "text": [
      "     Success\n",
      "\n",
      "Extracting 20/200: chart_020_complex_line_grayscale_conversion_medium.png\n"
     ]
    },
    {
     "name": "stderr",
     "output_type": "stream",
     "text": [
      "INFO:httpx:HTTP Request: POST https://api.openai.com/v1/chat/completions \"HTTP/1.1 200 OK\"\n",
      "INFO:remaining_extraction:Successful extraction: chart_020_complex_line_grayscale_conversion_medium.png (attempt 1)\n"
     ]
    },
    {
     "name": "stdout",
     "output_type": "stream",
     "text": [
      "     Success\n",
      "\n",
      "Extracting 21/200: chart_021_medium_area_grayscale_conversion_medium.png\n"
     ]
    },
    {
     "name": "stderr",
     "output_type": "stream",
     "text": [
      "INFO:httpx:HTTP Request: POST https://api.openai.com/v1/chat/completions \"HTTP/1.1 200 OK\"\n",
      "INFO:remaining_extraction:Successful extraction: chart_021_medium_area_grayscale_conversion_medium.png (attempt 1)\n"
     ]
    },
    {
     "name": "stdout",
     "output_type": "stream",
     "text": [
      "     Success\n",
      "\n",
      "Extracting 22/200: chart_022_complex_scatter_grayscale_conversion_medium.png\n"
     ]
    },
    {
     "name": "stderr",
     "output_type": "stream",
     "text": [
      "INFO:httpx:HTTP Request: POST https://api.openai.com/v1/chat/completions \"HTTP/1.1 200 OK\"\n",
      "INFO:remaining_extraction:Successful extraction: chart_022_complex_scatter_grayscale_conversion_medium.png (attempt 1)\n"
     ]
    },
    {
     "name": "stdout",
     "output_type": "stream",
     "text": [
      "     Success\n",
      "\n",
      "Extracting 23/200: chart_023_complex_line_grayscale_conversion_medium.png\n"
     ]
    },
    {
     "name": "stderr",
     "output_type": "stream",
     "text": [
      "INFO:httpx:HTTP Request: POST https://api.openai.com/v1/chat/completions \"HTTP/1.1 200 OK\"\n",
      "INFO:remaining_extraction:Successful extraction: chart_023_complex_line_grayscale_conversion_medium.png (attempt 1)\n"
     ]
    },
    {
     "name": "stdout",
     "output_type": "stream",
     "text": [
      "     Success\n",
      "\n",
      "Extracting 24/200: chart_024_advanced_scatter_grayscale_conversion_medium.png\n"
     ]
    },
    {
     "name": "stderr",
     "output_type": "stream",
     "text": [
      "INFO:httpx:HTTP Request: POST https://api.openai.com/v1/chat/completions \"HTTP/1.1 200 OK\"\n",
      "INFO:remaining_extraction:Successful extraction: chart_024_advanced_scatter_grayscale_conversion_medium.png (attempt 1)\n"
     ]
    },
    {
     "name": "stdout",
     "output_type": "stream",
     "text": [
      "     Success\n",
      "\n",
      "Extracting 25/200: chart_025_medium_scatter_grayscale_conversion_medium.png\n"
     ]
    },
    {
     "name": "stderr",
     "output_type": "stream",
     "text": [
      "INFO:httpx:HTTP Request: POST https://api.openai.com/v1/chat/completions \"HTTP/1.1 200 OK\"\n",
      "INFO:remaining_extraction:Successful extraction: chart_025_medium_scatter_grayscale_conversion_medium.png (attempt 1)\n"
     ]
    },
    {
     "name": "stdout",
     "output_type": "stream",
     "text": [
      "     Success\n",
      "     Progress: 25 successful\n",
      "\n",
      "Extracting 26/200: chart_026_medium_bar_grayscale_conversion_medium.png\n"
     ]
    },
    {
     "name": "stderr",
     "output_type": "stream",
     "text": [
      "INFO:httpx:HTTP Request: POST https://api.openai.com/v1/chat/completions \"HTTP/1.1 200 OK\"\n",
      "INFO:remaining_extraction:Successful extraction: chart_026_medium_bar_grayscale_conversion_medium.png (attempt 1)\n"
     ]
    },
    {
     "name": "stdout",
     "output_type": "stream",
     "text": [
      "     Success\n",
      "\n",
      "Extracting 27/200: chart_027_complex_bar_grayscale_conversion_medium.png\n"
     ]
    },
    {
     "name": "stderr",
     "output_type": "stream",
     "text": [
      "INFO:httpx:HTTP Request: POST https://api.openai.com/v1/chat/completions \"HTTP/1.1 200 OK\"\n",
      "INFO:remaining_extraction:Successful extraction: chart_027_complex_bar_grayscale_conversion_medium.png (attempt 1)\n"
     ]
    },
    {
     "name": "stdout",
     "output_type": "stream",
     "text": [
      "     Success\n",
      "\n",
      "Extracting 28/200: chart_028_medium_scatter_grayscale_conversion_medium.png\n"
     ]
    },
    {
     "name": "stderr",
     "output_type": "stream",
     "text": [
      "INFO:httpx:HTTP Request: POST https://api.openai.com/v1/chat/completions \"HTTP/1.1 200 OK\"\n",
      "INFO:remaining_extraction:Successful extraction: chart_028_medium_scatter_grayscale_conversion_medium.png (attempt 1)\n"
     ]
    },
    {
     "name": "stdout",
     "output_type": "stream",
     "text": [
      "     Success\n",
      "\n",
      "Extracting 29/200: chart_029_complex_line_grayscale_conversion_medium.png\n"
     ]
    },
    {
     "name": "stderr",
     "output_type": "stream",
     "text": [
      "INFO:httpx:HTTP Request: POST https://api.openai.com/v1/chat/completions \"HTTP/1.1 200 OK\"\n",
      "INFO:remaining_extraction:Successful extraction: chart_029_complex_line_grayscale_conversion_medium.png (attempt 1)\n"
     ]
    },
    {
     "name": "stdout",
     "output_type": "stream",
     "text": [
      "     Success\n",
      "\n",
      "Extracting 30/200: chart_030_medium_bar_grayscale_conversion_medium.png\n"
     ]
    },
    {
     "name": "stderr",
     "output_type": "stream",
     "text": [
      "INFO:httpx:HTTP Request: POST https://api.openai.com/v1/chat/completions \"HTTP/1.1 200 OK\"\n",
      "INFO:remaining_extraction:Successful extraction: chart_030_medium_bar_grayscale_conversion_medium.png (attempt 1)\n"
     ]
    },
    {
     "name": "stdout",
     "output_type": "stream",
     "text": [
      "     Success\n",
      "\n",
      "Extracting 31/200: chart_031_complex_scatter_grayscale_conversion_medium.png\n"
     ]
    },
    {
     "name": "stderr",
     "output_type": "stream",
     "text": [
      "INFO:httpx:HTTP Request: POST https://api.openai.com/v1/chat/completions \"HTTP/1.1 200 OK\"\n",
      "INFO:remaining_extraction:Successful extraction: chart_031_complex_scatter_grayscale_conversion_medium.png (attempt 1)\n"
     ]
    },
    {
     "name": "stdout",
     "output_type": "stream",
     "text": [
      "     Success\n",
      "\n",
      "Extracting 32/200: chart_032_complex_area_grayscale_conversion_medium.png\n"
     ]
    },
    {
     "name": "stderr",
     "output_type": "stream",
     "text": [
      "INFO:httpx:HTTP Request: POST https://api.openai.com/v1/chat/completions \"HTTP/1.1 200 OK\"\n",
      "INFO:remaining_extraction:Successful extraction: chart_032_complex_area_grayscale_conversion_medium.png (attempt 1)\n"
     ]
    },
    {
     "name": "stdout",
     "output_type": "stream",
     "text": [
      "     Success\n",
      "\n",
      "Extracting 33/200: chart_033_advanced_area_grayscale_conversion_medium.png\n"
     ]
    },
    {
     "name": "stderr",
     "output_type": "stream",
     "text": [
      "INFO:httpx:HTTP Request: POST https://api.openai.com/v1/chat/completions \"HTTP/1.1 200 OK\"\n",
      "INFO:remaining_extraction:Successful extraction: chart_033_advanced_area_grayscale_conversion_medium.png (attempt 1)\n"
     ]
    },
    {
     "name": "stdout",
     "output_type": "stream",
     "text": [
      "     Success\n",
      "\n",
      "Extracting 34/200: chart_034_medium_pie_grayscale_conversion_medium.png\n"
     ]
    },
    {
     "name": "stderr",
     "output_type": "stream",
     "text": [
      "INFO:httpx:HTTP Request: POST https://api.openai.com/v1/chat/completions \"HTTP/1.1 200 OK\"\n",
      "INFO:remaining_extraction:Successful extraction: chart_034_medium_pie_grayscale_conversion_medium.png (attempt 1)\n"
     ]
    },
    {
     "name": "stdout",
     "output_type": "stream",
     "text": [
      "     Success\n",
      "\n",
      "Extracting 35/200: chart_035_medium_bar_grayscale_conversion_medium.png\n"
     ]
    },
    {
     "name": "stderr",
     "output_type": "stream",
     "text": [
      "INFO:httpx:HTTP Request: POST https://api.openai.com/v1/chat/completions \"HTTP/1.1 200 OK\"\n",
      "INFO:remaining_extraction:Successful extraction: chart_035_medium_bar_grayscale_conversion_medium.png (attempt 1)\n"
     ]
    },
    {
     "name": "stdout",
     "output_type": "stream",
     "text": [
      "     Success\n",
      "\n",
      "Extracting 36/200: chart_036_complex_bar_grayscale_conversion_medium.png\n"
     ]
    },
    {
     "name": "stderr",
     "output_type": "stream",
     "text": [
      "INFO:httpx:HTTP Request: POST https://api.openai.com/v1/chat/completions \"HTTP/1.1 200 OK\"\n",
      "INFO:remaining_extraction:Successful extraction: chart_036_complex_bar_grayscale_conversion_medium.png (attempt 1)\n"
     ]
    },
    {
     "name": "stdout",
     "output_type": "stream",
     "text": [
      "     Success\n",
      "\n",
      "Extracting 37/200: chart_037_advanced_scatter_grayscale_conversion_medium.png\n"
     ]
    },
    {
     "name": "stderr",
     "output_type": "stream",
     "text": [
      "INFO:httpx:HTTP Request: POST https://api.openai.com/v1/chat/completions \"HTTP/1.1 200 OK\"\n",
      "INFO:remaining_extraction:Successful extraction: chart_037_advanced_scatter_grayscale_conversion_medium.png (attempt 1)\n"
     ]
    },
    {
     "name": "stdout",
     "output_type": "stream",
     "text": [
      "     Success\n",
      "\n",
      "Extracting 38/200: chart_038_medium_line_grayscale_conversion_medium.png\n"
     ]
    },
    {
     "name": "stderr",
     "output_type": "stream",
     "text": [
      "INFO:httpx:HTTP Request: POST https://api.openai.com/v1/chat/completions \"HTTP/1.1 200 OK\"\n",
      "INFO:remaining_extraction:Successful extraction: chart_038_medium_line_grayscale_conversion_medium.png (attempt 1)\n"
     ]
    },
    {
     "name": "stdout",
     "output_type": "stream",
     "text": [
      "     Success\n",
      "\n",
      "Extracting 39/200: chart_039_medium_line_grayscale_conversion_medium.png\n"
     ]
    },
    {
     "name": "stderr",
     "output_type": "stream",
     "text": [
      "INFO:httpx:HTTP Request: POST https://api.openai.com/v1/chat/completions \"HTTP/1.1 200 OK\"\n",
      "INFO:remaining_extraction:Successful extraction: chart_039_medium_line_grayscale_conversion_medium.png (attempt 1)\n"
     ]
    },
    {
     "name": "stdout",
     "output_type": "stream",
     "text": [
      "     Success\n",
      "\n",
      "Extracting 40/200: chart_040_medium_line_grayscale_conversion_medium.png\n"
     ]
    },
    {
     "name": "stderr",
     "output_type": "stream",
     "text": [
      "INFO:httpx:HTTP Request: POST https://api.openai.com/v1/chat/completions \"HTTP/1.1 200 OK\"\n",
      "INFO:remaining_extraction:Successful extraction: chart_040_medium_line_grayscale_conversion_medium.png (attempt 1)\n"
     ]
    },
    {
     "name": "stdout",
     "output_type": "stream",
     "text": [
      "     Success\n",
      "\n",
      "Extracting 41/200: chart_041_advanced_bar_grayscale_conversion_medium.png\n"
     ]
    },
    {
     "name": "stderr",
     "output_type": "stream",
     "text": [
      "INFO:httpx:HTTP Request: POST https://api.openai.com/v1/chat/completions \"HTTP/1.1 200 OK\"\n",
      "INFO:remaining_extraction:Successful extraction: chart_041_advanced_bar_grayscale_conversion_medium.png (attempt 1)\n"
     ]
    },
    {
     "name": "stdout",
     "output_type": "stream",
     "text": [
      "     Success\n",
      "\n",
      "Extracting 42/200: chart_042_complex_scatter_grayscale_conversion_medium.png\n"
     ]
    },
    {
     "name": "stderr",
     "output_type": "stream",
     "text": [
      "INFO:httpx:HTTP Request: POST https://api.openai.com/v1/chat/completions \"HTTP/1.1 200 OK\"\n",
      "INFO:remaining_extraction:Successful extraction: chart_042_complex_scatter_grayscale_conversion_medium.png (attempt 1)\n"
     ]
    },
    {
     "name": "stdout",
     "output_type": "stream",
     "text": [
      "     Success\n",
      "\n",
      "Extracting 43/200: chart_043_medium_line_grayscale_conversion_medium.png\n"
     ]
    },
    {
     "name": "stderr",
     "output_type": "stream",
     "text": [
      "INFO:httpx:HTTP Request: POST https://api.openai.com/v1/chat/completions \"HTTP/1.1 200 OK\"\n",
      "INFO:remaining_extraction:Successful extraction: chart_043_medium_line_grayscale_conversion_medium.png (attempt 1)\n"
     ]
    },
    {
     "name": "stdout",
     "output_type": "stream",
     "text": [
      "     Success\n",
      "\n",
      "Extracting 44/200: chart_044_complex_scatter_grayscale_conversion_medium.png\n"
     ]
    },
    {
     "name": "stderr",
     "output_type": "stream",
     "text": [
      "INFO:httpx:HTTP Request: POST https://api.openai.com/v1/chat/completions \"HTTP/1.1 200 OK\"\n",
      "INFO:remaining_extraction:Successful extraction: chart_044_complex_scatter_grayscale_conversion_medium.png (attempt 1)\n"
     ]
    },
    {
     "name": "stdout",
     "output_type": "stream",
     "text": [
      "     Success\n",
      "\n",
      "Extracting 45/200: chart_045_medium_area_grayscale_conversion_medium.png\n"
     ]
    },
    {
     "name": "stderr",
     "output_type": "stream",
     "text": [
      "INFO:httpx:HTTP Request: POST https://api.openai.com/v1/chat/completions \"HTTP/1.1 200 OK\"\n",
      "INFO:remaining_extraction:Successful extraction: chart_045_medium_area_grayscale_conversion_medium.png (attempt 1)\n"
     ]
    },
    {
     "name": "stdout",
     "output_type": "stream",
     "text": [
      "     Success\n",
      "\n",
      "Extracting 46/200: chart_046_medium_line_grayscale_conversion_medium.png\n"
     ]
    },
    {
     "name": "stderr",
     "output_type": "stream",
     "text": [
      "INFO:httpx:HTTP Request: POST https://api.openai.com/v1/chat/completions \"HTTP/1.1 200 OK\"\n",
      "INFO:remaining_extraction:Successful extraction: chart_046_medium_line_grayscale_conversion_medium.png (attempt 1)\n"
     ]
    },
    {
     "name": "stdout",
     "output_type": "stream",
     "text": [
      "     Success\n",
      "\n",
      "Extracting 47/200: chart_047_medium_bar_grayscale_conversion_medium.png\n"
     ]
    },
    {
     "name": "stderr",
     "output_type": "stream",
     "text": [
      "INFO:httpx:HTTP Request: POST https://api.openai.com/v1/chat/completions \"HTTP/1.1 200 OK\"\n",
      "INFO:remaining_extraction:Successful extraction: chart_047_medium_bar_grayscale_conversion_medium.png (attempt 1)\n"
     ]
    },
    {
     "name": "stdout",
     "output_type": "stream",
     "text": [
      "     Success\n",
      "\n",
      "Extracting 48/200: chart_048_medium_pie_grayscale_conversion_medium.png\n"
     ]
    },
    {
     "name": "stderr",
     "output_type": "stream",
     "text": [
      "INFO:httpx:HTTP Request: POST https://api.openai.com/v1/chat/completions \"HTTP/1.1 200 OK\"\n",
      "INFO:remaining_extraction:Successful extraction: chart_048_medium_pie_grayscale_conversion_medium.png (attempt 1)\n"
     ]
    },
    {
     "name": "stdout",
     "output_type": "stream",
     "text": [
      "     Success\n",
      "\n",
      "Extracting 49/200: chart_049_medium_bar_grayscale_conversion_medium.png\n"
     ]
    },
    {
     "name": "stderr",
     "output_type": "stream",
     "text": [
      "INFO:httpx:HTTP Request: POST https://api.openai.com/v1/chat/completions \"HTTP/1.1 200 OK\"\n",
      "INFO:remaining_extraction:Successful extraction: chart_049_medium_bar_grayscale_conversion_medium.png (attempt 1)\n"
     ]
    },
    {
     "name": "stdout",
     "output_type": "stream",
     "text": [
      "     Success\n",
      "\n",
      "Extracting 50/200: chart_050_complex_bar_grayscale_conversion_medium.png\n"
     ]
    },
    {
     "name": "stderr",
     "output_type": "stream",
     "text": [
      "INFO:openai._base_client:Retrying request to /chat/completions in 0.393030 seconds\n",
      "INFO:httpx:HTTP Request: POST https://api.openai.com/v1/chat/completions \"HTTP/1.1 200 OK\"\n",
      "INFO:remaining_extraction:Successful extraction: chart_050_complex_bar_grayscale_conversion_medium.png (attempt 1)\n"
     ]
    },
    {
     "name": "stdout",
     "output_type": "stream",
     "text": [
      "     Success\n",
      "     Progress: 50 successful\n",
      "\n",
      "Extracting 51/200: chart_051_medium_line_grayscale_conversion_medium.png\n"
     ]
    },
    {
     "name": "stderr",
     "output_type": "stream",
     "text": [
      "INFO:httpx:HTTP Request: POST https://api.openai.com/v1/chat/completions \"HTTP/1.1 200 OK\"\n",
      "INFO:remaining_extraction:Successful extraction: chart_051_medium_line_grayscale_conversion_medium.png (attempt 1)\n"
     ]
    },
    {
     "name": "stdout",
     "output_type": "stream",
     "text": [
      "     Success\n",
      "\n",
      "Extracting 52/200: chart_052_complex_bar_grayscale_conversion_medium.png\n"
     ]
    },
    {
     "name": "stderr",
     "output_type": "stream",
     "text": [
      "INFO:httpx:HTTP Request: POST https://api.openai.com/v1/chat/completions \"HTTP/1.1 200 OK\"\n",
      "INFO:remaining_extraction:Successful extraction: chart_052_complex_bar_grayscale_conversion_medium.png (attempt 1)\n"
     ]
    },
    {
     "name": "stdout",
     "output_type": "stream",
     "text": [
      "     Success\n",
      "\n",
      "Extracting 53/200: chart_053_complex_bar_grayscale_conversion_medium.png\n"
     ]
    },
    {
     "name": "stderr",
     "output_type": "stream",
     "text": [
      "INFO:httpx:HTTP Request: POST https://api.openai.com/v1/chat/completions \"HTTP/1.1 200 OK\"\n",
      "INFO:remaining_extraction:Successful extraction: chart_053_complex_bar_grayscale_conversion_medium.png (attempt 1)\n"
     ]
    },
    {
     "name": "stdout",
     "output_type": "stream",
     "text": [
      "     Success\n",
      "\n",
      "Extracting 54/200: chart_054_advanced_bar_grayscale_conversion_medium.png\n"
     ]
    },
    {
     "name": "stderr",
     "output_type": "stream",
     "text": [
      "INFO:httpx:HTTP Request: POST https://api.openai.com/v1/chat/completions \"HTTP/1.1 200 OK\"\n",
      "INFO:remaining_extraction:Successful extraction: chart_054_advanced_bar_grayscale_conversion_medium.png (attempt 1)\n"
     ]
    },
    {
     "name": "stdout",
     "output_type": "stream",
     "text": [
      "     Success\n",
      "\n",
      "Extracting 55/200: chart_054_advanced_bar_legend_corruption_medium.png\n"
     ]
    },
    {
     "name": "stderr",
     "output_type": "stream",
     "text": [
      "INFO:openai._base_client:Retrying request to /chat/completions in 0.436616 seconds\n",
      "INFO:openai._base_client:Retrying request to /chat/completions in 0.840197 seconds\n",
      "WARNING:remaining_extraction:API attempt 1 failed for chart_054_advanced_bar_legend_corruption_medium.png: Request timed out.\n",
      "INFO:openai._base_client:Retrying request to /chat/completions in 0.461409 seconds\n",
      "INFO:openai._base_client:Retrying request to /chat/completions in 0.967520 seconds\n",
      "WARNING:remaining_extraction:API attempt 2 failed for chart_054_advanced_bar_legend_corruption_medium.png: Request timed out.\n",
      "INFO:openai._base_client:Retrying request to /chat/completions in 0.401286 seconds\n",
      "INFO:openai._base_client:Retrying request to /chat/completions in 0.891022 seconds\n",
      "WARNING:remaining_extraction:API attempt 3 failed for chart_054_advanced_bar_legend_corruption_medium.png: Request timed out.\n",
      "ERROR:remaining_extraction:Extraction failed for chart_054_advanced_bar_legend_corruption_medium.png: Request timed out.\n"
     ]
    },
    {
     "name": "stdout",
     "output_type": "stream",
     "text": [
      "     Failed\n",
      "\n",
      "Extracting 56/200: chart_055_medium_pie_grayscale_conversion_medium.png\n"
     ]
    },
    {
     "name": "stderr",
     "output_type": "stream",
     "text": [
      "INFO:httpx:HTTP Request: POST https://api.openai.com/v1/chat/completions \"HTTP/1.1 200 OK\"\n",
      "INFO:remaining_extraction:Successful extraction: chart_055_medium_pie_grayscale_conversion_medium.png (attempt 1)\n"
     ]
    },
    {
     "name": "stdout",
     "output_type": "stream",
     "text": [
      "     Success\n",
      "\n",
      "Extracting 57/200: chart_056_advanced_area_grayscale_conversion_medium.png\n"
     ]
    },
    {
     "name": "stderr",
     "output_type": "stream",
     "text": [
      "INFO:httpx:HTTP Request: POST https://api.openai.com/v1/chat/completions \"HTTP/1.1 200 OK\"\n",
      "INFO:remaining_extraction:Successful extraction: chart_056_advanced_area_grayscale_conversion_medium.png (attempt 1)\n"
     ]
    },
    {
     "name": "stdout",
     "output_type": "stream",
     "text": [
      "     Success\n",
      "\n",
      "Extracting 58/200: chart_057_advanced_area_grayscale_conversion_medium.png\n"
     ]
    },
    {
     "name": "stderr",
     "output_type": "stream",
     "text": [
      "INFO:httpx:HTTP Request: POST https://api.openai.com/v1/chat/completions \"HTTP/1.1 200 OK\"\n",
      "INFO:remaining_extraction:Successful extraction: chart_057_advanced_area_grayscale_conversion_medium.png (attempt 1)\n"
     ]
    },
    {
     "name": "stdout",
     "output_type": "stream",
     "text": [
      "     Success\n",
      "\n",
      "Extracting 59/200: chart_058_complex_bar_grayscale_conversion_medium.png\n"
     ]
    },
    {
     "name": "stderr",
     "output_type": "stream",
     "text": [
      "INFO:httpx:HTTP Request: POST https://api.openai.com/v1/chat/completions \"HTTP/1.1 200 OK\"\n",
      "INFO:remaining_extraction:Successful extraction: chart_058_complex_bar_grayscale_conversion_medium.png (attempt 1)\n"
     ]
    },
    {
     "name": "stdout",
     "output_type": "stream",
     "text": [
      "     Success\n",
      "\n",
      "Extracting 60/200: chart_059_medium_bar_grayscale_conversion_medium.png\n"
     ]
    },
    {
     "name": "stderr",
     "output_type": "stream",
     "text": [
      "INFO:httpx:HTTP Request: POST https://api.openai.com/v1/chat/completions \"HTTP/1.1 200 OK\"\n",
      "INFO:remaining_extraction:Successful extraction: chart_059_medium_bar_grayscale_conversion_medium.png (attempt 1)\n"
     ]
    },
    {
     "name": "stdout",
     "output_type": "stream",
     "text": [
      "     Success\n",
      "\n",
      "Extracting 61/200: chart_060_complex_line_grayscale_conversion_medium.png\n"
     ]
    },
    {
     "name": "stderr",
     "output_type": "stream",
     "text": [
      "INFO:httpx:HTTP Request: POST https://api.openai.com/v1/chat/completions \"HTTP/1.1 200 OK\"\n",
      "INFO:remaining_extraction:Successful extraction: chart_060_complex_line_grayscale_conversion_medium.png (attempt 1)\n"
     ]
    },
    {
     "name": "stdout",
     "output_type": "stream",
     "text": [
      "     Success\n",
      "\n",
      "Extracting 62/200: chart_061_medium_bar_grayscale_conversion_medium.png\n"
     ]
    },
    {
     "name": "stderr",
     "output_type": "stream",
     "text": [
      "INFO:httpx:HTTP Request: POST https://api.openai.com/v1/chat/completions \"HTTP/1.1 200 OK\"\n",
      "INFO:remaining_extraction:Successful extraction: chart_061_medium_bar_grayscale_conversion_medium.png (attempt 1)\n"
     ]
    },
    {
     "name": "stdout",
     "output_type": "stream",
     "text": [
      "     Success\n",
      "\n",
      "Extracting 63/200: chart_062_medium_bar_grayscale_conversion_medium.png\n"
     ]
    },
    {
     "name": "stderr",
     "output_type": "stream",
     "text": [
      "INFO:httpx:HTTP Request: POST https://api.openai.com/v1/chat/completions \"HTTP/1.1 200 OK\"\n",
      "INFO:remaining_extraction:Successful extraction: chart_062_medium_bar_grayscale_conversion_medium.png (attempt 1)\n"
     ]
    },
    {
     "name": "stdout",
     "output_type": "stream",
     "text": [
      "     Success\n",
      "\n",
      "Extracting 64/200: chart_063_complex_bar_grayscale_conversion_medium.png\n"
     ]
    },
    {
     "name": "stderr",
     "output_type": "stream",
     "text": [
      "INFO:httpx:HTTP Request: POST https://api.openai.com/v1/chat/completions \"HTTP/1.1 200 OK\"\n",
      "INFO:remaining_extraction:Successful extraction: chart_063_complex_bar_grayscale_conversion_medium.png (attempt 1)\n"
     ]
    },
    {
     "name": "stdout",
     "output_type": "stream",
     "text": [
      "     Success\n",
      "\n",
      "Extracting 65/200: chart_064_advanced_bar_grayscale_conversion_medium.png\n"
     ]
    },
    {
     "name": "stderr",
     "output_type": "stream",
     "text": [
      "INFO:httpx:HTTP Request: POST https://api.openai.com/v1/chat/completions \"HTTP/1.1 200 OK\"\n",
      "INFO:remaining_extraction:Successful extraction: chart_064_advanced_bar_grayscale_conversion_medium.png (attempt 1)\n"
     ]
    },
    {
     "name": "stdout",
     "output_type": "stream",
     "text": [
      "     Success\n",
      "\n",
      "Extracting 66/200: chart_065_advanced_bar_grayscale_conversion_medium.png\n"
     ]
    },
    {
     "name": "stderr",
     "output_type": "stream",
     "text": [
      "INFO:httpx:HTTP Request: POST https://api.openai.com/v1/chat/completions \"HTTP/1.1 200 OK\"\n",
      "INFO:remaining_extraction:Successful extraction: chart_065_advanced_bar_grayscale_conversion_medium.png (attempt 1)\n"
     ]
    },
    {
     "name": "stdout",
     "output_type": "stream",
     "text": [
      "     Success\n",
      "\n",
      "Extracting 67/200: chart_066_complex_bar_grayscale_conversion_medium.png\n"
     ]
    },
    {
     "name": "stderr",
     "output_type": "stream",
     "text": [
      "INFO:httpx:HTTP Request: POST https://api.openai.com/v1/chat/completions \"HTTP/1.1 200 OK\"\n",
      "INFO:remaining_extraction:Successful extraction: chart_066_complex_bar_grayscale_conversion_medium.png (attempt 1)\n"
     ]
    },
    {
     "name": "stdout",
     "output_type": "stream",
     "text": [
      "     Success\n",
      "\n",
      "Extracting 68/200: chart_067_advanced_line_grayscale_conversion_medium.png\n"
     ]
    },
    {
     "name": "stderr",
     "output_type": "stream",
     "text": [
      "INFO:httpx:HTTP Request: POST https://api.openai.com/v1/chat/completions \"HTTP/1.1 200 OK\"\n",
      "INFO:remaining_extraction:Successful extraction: chart_067_advanced_line_grayscale_conversion_medium.png (attempt 1)\n"
     ]
    },
    {
     "name": "stdout",
     "output_type": "stream",
     "text": [
      "     Success\n",
      "\n",
      "Extracting 69/200: chart_068_medium_line_grayscale_conversion_medium.png\n"
     ]
    },
    {
     "name": "stderr",
     "output_type": "stream",
     "text": [
      "INFO:httpx:HTTP Request: POST https://api.openai.com/v1/chat/completions \"HTTP/1.1 200 OK\"\n",
      "INFO:remaining_extraction:Successful extraction: chart_068_medium_line_grayscale_conversion_medium.png (attempt 1)\n"
     ]
    },
    {
     "name": "stdout",
     "output_type": "stream",
     "text": [
      "     Success\n",
      "\n",
      "Extracting 70/200: chart_069_complex_pie_grayscale_conversion_medium.png\n"
     ]
    },
    {
     "name": "stderr",
     "output_type": "stream",
     "text": [
      "INFO:httpx:HTTP Request: POST https://api.openai.com/v1/chat/completions \"HTTP/1.1 200 OK\"\n",
      "INFO:remaining_extraction:Successful extraction: chart_069_complex_pie_grayscale_conversion_medium.png (attempt 1)\n"
     ]
    },
    {
     "name": "stdout",
     "output_type": "stream",
     "text": [
      "     Success\n",
      "\n",
      "Extracting 71/200: chart_070_advanced_pie_grayscale_conversion_medium.png\n"
     ]
    },
    {
     "name": "stderr",
     "output_type": "stream",
     "text": [
      "INFO:httpx:HTTP Request: POST https://api.openai.com/v1/chat/completions \"HTTP/1.1 200 OK\"\n",
      "INFO:remaining_extraction:Successful extraction: chart_070_advanced_pie_grayscale_conversion_medium.png (attempt 1)\n"
     ]
    },
    {
     "name": "stdout",
     "output_type": "stream",
     "text": [
      "     Success\n",
      "\n",
      "Extracting 72/200: chart_071_advanced_bar_grayscale_conversion_medium.png\n"
     ]
    },
    {
     "name": "stderr",
     "output_type": "stream",
     "text": [
      "INFO:httpx:HTTP Request: POST https://api.openai.com/v1/chat/completions \"HTTP/1.1 200 OK\"\n",
      "INFO:remaining_extraction:Successful extraction: chart_071_advanced_bar_grayscale_conversion_medium.png (attempt 1)\n"
     ]
    },
    {
     "name": "stdout",
     "output_type": "stream",
     "text": [
      "     Success\n",
      "\n",
      "Extracting 73/200: chart_072_advanced_scatter_grayscale_conversion_medium.png\n"
     ]
    },
    {
     "name": "stderr",
     "output_type": "stream",
     "text": [
      "INFO:httpx:HTTP Request: POST https://api.openai.com/v1/chat/completions \"HTTP/1.1 200 OK\"\n",
      "INFO:remaining_extraction:Successful extraction: chart_072_advanced_scatter_grayscale_conversion_medium.png (attempt 1)\n"
     ]
    },
    {
     "name": "stdout",
     "output_type": "stream",
     "text": [
      "     Success\n",
      "\n",
      "Extracting 74/200: chart_073_medium_scatter_grayscale_conversion_medium.png\n"
     ]
    },
    {
     "name": "stderr",
     "output_type": "stream",
     "text": [
      "INFO:httpx:HTTP Request: POST https://api.openai.com/v1/chat/completions \"HTTP/1.1 200 OK\"\n",
      "INFO:remaining_extraction:Successful extraction: chart_073_medium_scatter_grayscale_conversion_medium.png (attempt 1)\n"
     ]
    },
    {
     "name": "stdout",
     "output_type": "stream",
     "text": [
      "     Success\n",
      "\n",
      "Extracting 75/200: chart_074_advanced_line_grayscale_conversion_medium.png\n"
     ]
    },
    {
     "name": "stderr",
     "output_type": "stream",
     "text": [
      "INFO:httpx:HTTP Request: POST https://api.openai.com/v1/chat/completions \"HTTP/1.1 200 OK\"\n",
      "INFO:remaining_extraction:Successful extraction: chart_074_advanced_line_grayscale_conversion_medium.png (attempt 1)\n"
     ]
    },
    {
     "name": "stdout",
     "output_type": "stream",
     "text": [
      "     Success\n",
      "     Progress: 74 successful\n",
      "\n",
      "Extracting 76/200: chart_075_medium_bar_grayscale_conversion_medium.png\n"
     ]
    },
    {
     "name": "stderr",
     "output_type": "stream",
     "text": [
      "INFO:httpx:HTTP Request: POST https://api.openai.com/v1/chat/completions \"HTTP/1.1 200 OK\"\n",
      "INFO:remaining_extraction:Successful extraction: chart_075_medium_bar_grayscale_conversion_medium.png (attempt 1)\n"
     ]
    },
    {
     "name": "stdout",
     "output_type": "stream",
     "text": [
      "     Success\n",
      "\n",
      "Extracting 77/200: chart_076_advanced_bar_grayscale_conversion_medium.png\n"
     ]
    },
    {
     "name": "stderr",
     "output_type": "stream",
     "text": [
      "INFO:httpx:HTTP Request: POST https://api.openai.com/v1/chat/completions \"HTTP/1.1 200 OK\"\n",
      "INFO:remaining_extraction:Successful extraction: chart_076_advanced_bar_grayscale_conversion_medium.png (attempt 1)\n"
     ]
    },
    {
     "name": "stdout",
     "output_type": "stream",
     "text": [
      "     Success\n",
      "\n",
      "Extracting 78/200: chart_077_advanced_line_grayscale_conversion_medium.png\n"
     ]
    },
    {
     "name": "stderr",
     "output_type": "stream",
     "text": [
      "INFO:httpx:HTTP Request: POST https://api.openai.com/v1/chat/completions \"HTTP/1.1 200 OK\"\n",
      "INFO:remaining_extraction:Successful extraction: chart_077_advanced_line_grayscale_conversion_medium.png (attempt 1)\n"
     ]
    },
    {
     "name": "stdout",
     "output_type": "stream",
     "text": [
      "     Success\n",
      "\n",
      "Extracting 79/200: chart_078_medium_area_grayscale_conversion_medium.png\n"
     ]
    },
    {
     "name": "stderr",
     "output_type": "stream",
     "text": [
      "INFO:httpx:HTTP Request: POST https://api.openai.com/v1/chat/completions \"HTTP/1.1 200 OK\"\n",
      "INFO:remaining_extraction:Successful extraction: chart_078_medium_area_grayscale_conversion_medium.png (attempt 1)\n"
     ]
    },
    {
     "name": "stdout",
     "output_type": "stream",
     "text": [
      "     Success\n",
      "\n",
      "Extracting 80/200: chart_079_complex_bar_grayscale_conversion_medium.png\n"
     ]
    },
    {
     "name": "stderr",
     "output_type": "stream",
     "text": [
      "INFO:httpx:HTTP Request: POST https://api.openai.com/v1/chat/completions \"HTTP/1.1 200 OK\"\n",
      "INFO:remaining_extraction:Successful extraction: chart_079_complex_bar_grayscale_conversion_medium.png (attempt 1)\n"
     ]
    },
    {
     "name": "stdout",
     "output_type": "stream",
     "text": [
      "     Success\n",
      "\n",
      "Extracting 81/200: chart_080_medium_line_grayscale_conversion_medium.png\n"
     ]
    },
    {
     "name": "stderr",
     "output_type": "stream",
     "text": [
      "INFO:httpx:HTTP Request: POST https://api.openai.com/v1/chat/completions \"HTTP/1.1 200 OK\"\n",
      "INFO:remaining_extraction:Successful extraction: chart_080_medium_line_grayscale_conversion_medium.png (attempt 1)\n"
     ]
    },
    {
     "name": "stdout",
     "output_type": "stream",
     "text": [
      "     Success\n",
      "\n",
      "Extracting 82/200: chart_081_medium_area_grayscale_conversion_medium.png\n"
     ]
    },
    {
     "name": "stderr",
     "output_type": "stream",
     "text": [
      "INFO:httpx:HTTP Request: POST https://api.openai.com/v1/chat/completions \"HTTP/1.1 200 OK\"\n",
      "INFO:remaining_extraction:Successful extraction: chart_081_medium_area_grayscale_conversion_medium.png (attempt 1)\n"
     ]
    },
    {
     "name": "stdout",
     "output_type": "stream",
     "text": [
      "     Success\n",
      "\n",
      "Extracting 83/200: chart_082_complex_area_grayscale_conversion_medium.png\n"
     ]
    },
    {
     "name": "stderr",
     "output_type": "stream",
     "text": [
      "INFO:httpx:HTTP Request: POST https://api.openai.com/v1/chat/completions \"HTTP/1.1 200 OK\"\n",
      "INFO:remaining_extraction:Successful extraction: chart_082_complex_area_grayscale_conversion_medium.png (attempt 1)\n"
     ]
    },
    {
     "name": "stdout",
     "output_type": "stream",
     "text": [
      "     Success\n",
      "\n",
      "Extracting 84/200: chart_083_complex_bar_grayscale_conversion_medium.png\n"
     ]
    },
    {
     "name": "stderr",
     "output_type": "stream",
     "text": [
      "INFO:openai._base_client:Retrying request to /chat/completions in 0.426774 seconds\n",
      "INFO:httpx:HTTP Request: POST https://api.openai.com/v1/chat/completions \"HTTP/1.1 200 OK\"\n",
      "INFO:remaining_extraction:Successful extraction: chart_083_complex_bar_grayscale_conversion_medium.png (attempt 1)\n"
     ]
    },
    {
     "name": "stdout",
     "output_type": "stream",
     "text": [
      "     Success\n",
      "\n",
      "Extracting 85/200: chart_084_complex_bar_grayscale_conversion_medium.png\n"
     ]
    },
    {
     "name": "stderr",
     "output_type": "stream",
     "text": [
      "INFO:httpx:HTTP Request: POST https://api.openai.com/v1/chat/completions \"HTTP/1.1 200 OK\"\n",
      "INFO:remaining_extraction:Successful extraction: chart_084_complex_bar_grayscale_conversion_medium.png (attempt 1)\n"
     ]
    },
    {
     "name": "stdout",
     "output_type": "stream",
     "text": [
      "     Success\n",
      "\n",
      "Extracting 86/200: chart_085_medium_pie_grayscale_conversion_medium.png\n"
     ]
    },
    {
     "name": "stderr",
     "output_type": "stream",
     "text": [
      "INFO:httpx:HTTP Request: POST https://api.openai.com/v1/chat/completions \"HTTP/1.1 200 OK\"\n",
      "INFO:remaining_extraction:Successful extraction: chart_085_medium_pie_grayscale_conversion_medium.png (attempt 1)\n"
     ]
    },
    {
     "name": "stdout",
     "output_type": "stream",
     "text": [
      "     Success\n",
      "\n",
      "Extracting 87/200: chart_086_complex_scatter_grayscale_conversion_medium.png\n"
     ]
    },
    {
     "name": "stderr",
     "output_type": "stream",
     "text": [
      "INFO:httpx:HTTP Request: POST https://api.openai.com/v1/chat/completions \"HTTP/1.1 200 OK\"\n",
      "INFO:remaining_extraction:Successful extraction: chart_086_complex_scatter_grayscale_conversion_medium.png (attempt 1)\n"
     ]
    },
    {
     "name": "stdout",
     "output_type": "stream",
     "text": [
      "     Success\n",
      "\n",
      "Extracting 88/200: chart_087_complex_line_grayscale_conversion_medium.png\n"
     ]
    },
    {
     "name": "stderr",
     "output_type": "stream",
     "text": [
      "INFO:httpx:HTTP Request: POST https://api.openai.com/v1/chat/completions \"HTTP/1.1 200 OK\"\n",
      "WARNING:remaining_extraction:Could not parse JSON from response: I'm unable to extract data from images directly. However, I can guide you on how to manually extract the data from the chart. Here's a template you can use to fill in the information:\n",
      "\n",
      "```json\n",
      "{\n",
      "  \"ch...\n",
      "INFO:httpx:HTTP Request: POST https://api.openai.com/v1/chat/completions \"HTTP/1.1 200 OK\"\n",
      "INFO:remaining_extraction:Successful extraction: chart_087_complex_line_grayscale_conversion_medium.png (attempt 2)\n"
     ]
    },
    {
     "name": "stdout",
     "output_type": "stream",
     "text": [
      "     Success\n",
      "\n",
      "Extracting 89/200: chart_088_complex_bar_grayscale_conversion_medium.png\n"
     ]
    },
    {
     "name": "stderr",
     "output_type": "stream",
     "text": [
      "INFO:httpx:HTTP Request: POST https://api.openai.com/v1/chat/completions \"HTTP/1.1 200 OK\"\n",
      "INFO:remaining_extraction:Successful extraction: chart_088_complex_bar_grayscale_conversion_medium.png (attempt 1)\n"
     ]
    },
    {
     "name": "stdout",
     "output_type": "stream",
     "text": [
      "     Success\n",
      "\n",
      "Extracting 90/200: chart_089_medium_pie_grayscale_conversion_medium.png\n"
     ]
    },
    {
     "name": "stderr",
     "output_type": "stream",
     "text": [
      "INFO:httpx:HTTP Request: POST https://api.openai.com/v1/chat/completions \"HTTP/1.1 200 OK\"\n",
      "INFO:remaining_extraction:Successful extraction: chart_089_medium_pie_grayscale_conversion_medium.png (attempt 1)\n"
     ]
    },
    {
     "name": "stdout",
     "output_type": "stream",
     "text": [
      "     Success\n",
      "\n",
      "Extracting 91/200: chart_090_advanced_scatter_grayscale_conversion_medium.png\n"
     ]
    },
    {
     "name": "stderr",
     "output_type": "stream",
     "text": [
      "INFO:httpx:HTTP Request: POST https://api.openai.com/v1/chat/completions \"HTTP/1.1 200 OK\"\n",
      "INFO:remaining_extraction:Successful extraction: chart_090_advanced_scatter_grayscale_conversion_medium.png (attempt 1)\n"
     ]
    },
    {
     "name": "stdout",
     "output_type": "stream",
     "text": [
      "     Success\n",
      "\n",
      "Extracting 92/200: chart_091_medium_bar_grayscale_conversion_medium.png\n"
     ]
    },
    {
     "name": "stderr",
     "output_type": "stream",
     "text": [
      "INFO:httpx:HTTP Request: POST https://api.openai.com/v1/chat/completions \"HTTP/1.1 200 OK\"\n",
      "INFO:remaining_extraction:Successful extraction: chart_091_medium_bar_grayscale_conversion_medium.png (attempt 1)\n"
     ]
    },
    {
     "name": "stdout",
     "output_type": "stream",
     "text": [
      "     Success\n",
      "\n",
      "Extracting 93/200: chart_092_complex_scatter_grayscale_conversion_medium.png\n"
     ]
    },
    {
     "name": "stderr",
     "output_type": "stream",
     "text": [
      "INFO:httpx:HTTP Request: POST https://api.openai.com/v1/chat/completions \"HTTP/1.1 200 OK\"\n",
      "INFO:remaining_extraction:Successful extraction: chart_092_complex_scatter_grayscale_conversion_medium.png (attempt 1)\n"
     ]
    },
    {
     "name": "stdout",
     "output_type": "stream",
     "text": [
      "     Success\n",
      "\n",
      "Extracting 94/200: chart_093_complex_bar_grayscale_conversion_medium.png\n"
     ]
    },
    {
     "name": "stderr",
     "output_type": "stream",
     "text": [
      "INFO:httpx:HTTP Request: POST https://api.openai.com/v1/chat/completions \"HTTP/1.1 200 OK\"\n",
      "INFO:remaining_extraction:Successful extraction: chart_093_complex_bar_grayscale_conversion_medium.png (attempt 1)\n"
     ]
    },
    {
     "name": "stdout",
     "output_type": "stream",
     "text": [
      "     Success\n",
      "\n",
      "Extracting 95/200: chart_094_medium_scatter_grayscale_conversion_medium.png\n"
     ]
    },
    {
     "name": "stderr",
     "output_type": "stream",
     "text": [
      "INFO:httpx:HTTP Request: POST https://api.openai.com/v1/chat/completions \"HTTP/1.1 200 OK\"\n",
      "INFO:remaining_extraction:Successful extraction: chart_094_medium_scatter_grayscale_conversion_medium.png (attempt 1)\n"
     ]
    },
    {
     "name": "stdout",
     "output_type": "stream",
     "text": [
      "     Success\n",
      "\n",
      "Extracting 96/200: chart_095_complex_area_grayscale_conversion_medium.png\n"
     ]
    },
    {
     "name": "stderr",
     "output_type": "stream",
     "text": [
      "INFO:httpx:HTTP Request: POST https://api.openai.com/v1/chat/completions \"HTTP/1.1 200 OK\"\n",
      "INFO:remaining_extraction:Successful extraction: chart_095_complex_area_grayscale_conversion_medium.png (attempt 1)\n"
     ]
    },
    {
     "name": "stdout",
     "output_type": "stream",
     "text": [
      "     Success\n",
      "\n",
      "Extracting 97/200: chart_096_advanced_pie_grayscale_conversion_medium.png\n"
     ]
    },
    {
     "name": "stderr",
     "output_type": "stream",
     "text": [
      "INFO:httpx:HTTP Request: POST https://api.openai.com/v1/chat/completions \"HTTP/1.1 200 OK\"\n",
      "INFO:remaining_extraction:Successful extraction: chart_096_advanced_pie_grayscale_conversion_medium.png (attempt 1)\n"
     ]
    },
    {
     "name": "stdout",
     "output_type": "stream",
     "text": [
      "     Success\n",
      "\n",
      "Extracting 98/200: chart_097_advanced_scatter_grayscale_conversion_medium.png\n"
     ]
    },
    {
     "name": "stderr",
     "output_type": "stream",
     "text": [
      "INFO:httpx:HTTP Request: POST https://api.openai.com/v1/chat/completions \"HTTP/1.1 200 OK\"\n",
      "INFO:remaining_extraction:Successful extraction: chart_097_advanced_scatter_grayscale_conversion_medium.png (attempt 1)\n"
     ]
    },
    {
     "name": "stdout",
     "output_type": "stream",
     "text": [
      "     Success\n",
      "\n",
      "Extracting 99/200: chart_098_complex_area_grayscale_conversion_medium.png\n"
     ]
    },
    {
     "name": "stderr",
     "output_type": "stream",
     "text": [
      "INFO:httpx:HTTP Request: POST https://api.openai.com/v1/chat/completions \"HTTP/1.1 200 OK\"\n",
      "INFO:remaining_extraction:Successful extraction: chart_098_complex_area_grayscale_conversion_medium.png (attempt 1)\n"
     ]
    },
    {
     "name": "stdout",
     "output_type": "stream",
     "text": [
      "     Success\n",
      "\n",
      "Extracting 100/200: chart_099_complex_scatter_grayscale_conversion_medium.png\n"
     ]
    },
    {
     "name": "stderr",
     "output_type": "stream",
     "text": [
      "INFO:httpx:HTTP Request: POST https://api.openai.com/v1/chat/completions \"HTTP/1.1 200 OK\"\n",
      "INFO:remaining_extraction:Successful extraction: chart_099_complex_scatter_grayscale_conversion_medium.png (attempt 1)\n"
     ]
    },
    {
     "name": "stdout",
     "output_type": "stream",
     "text": [
      "     Success\n",
      "     Progress: 99 successful\n",
      "\n",
      "Extracting 101/200: chart_100_complex_bar_grayscale_conversion_medium.png\n"
     ]
    },
    {
     "name": "stderr",
     "output_type": "stream",
     "text": [
      "INFO:httpx:HTTP Request: POST https://api.openai.com/v1/chat/completions \"HTTP/1.1 200 OK\"\n",
      "INFO:remaining_extraction:Successful extraction: chart_100_complex_bar_grayscale_conversion_medium.png (attempt 1)\n"
     ]
    },
    {
     "name": "stdout",
     "output_type": "stream",
     "text": [
      "     Success\n",
      "\n",
      "Extracting 102/200: chart_101_medium_bar_grayscale_conversion_medium.png\n"
     ]
    },
    {
     "name": "stderr",
     "output_type": "stream",
     "text": [
      "INFO:httpx:HTTP Request: POST https://api.openai.com/v1/chat/completions \"HTTP/1.1 200 OK\"\n",
      "INFO:remaining_extraction:Successful extraction: chart_101_medium_bar_grayscale_conversion_medium.png (attempt 1)\n"
     ]
    },
    {
     "name": "stdout",
     "output_type": "stream",
     "text": [
      "     Success\n",
      "\n",
      "Extracting 103/200: chart_102_medium_line_grayscale_conversion_medium.png\n"
     ]
    },
    {
     "name": "stderr",
     "output_type": "stream",
     "text": [
      "INFO:httpx:HTTP Request: POST https://api.openai.com/v1/chat/completions \"HTTP/1.1 200 OK\"\n",
      "INFO:remaining_extraction:Successful extraction: chart_102_medium_line_grayscale_conversion_medium.png (attempt 1)\n"
     ]
    },
    {
     "name": "stdout",
     "output_type": "stream",
     "text": [
      "     Success\n",
      "\n",
      "Extracting 104/200: chart_103_complex_bar_grayscale_conversion_medium.png\n"
     ]
    },
    {
     "name": "stderr",
     "output_type": "stream",
     "text": [
      "INFO:httpx:HTTP Request: POST https://api.openai.com/v1/chat/completions \"HTTP/1.1 200 OK\"\n",
      "INFO:remaining_extraction:Successful extraction: chart_103_complex_bar_grayscale_conversion_medium.png (attempt 1)\n"
     ]
    },
    {
     "name": "stdout",
     "output_type": "stream",
     "text": [
      "     Success\n",
      "\n",
      "Extracting 105/200: chart_104_medium_line_grayscale_conversion_medium.png\n"
     ]
    },
    {
     "name": "stderr",
     "output_type": "stream",
     "text": [
      "INFO:httpx:HTTP Request: POST https://api.openai.com/v1/chat/completions \"HTTP/1.1 200 OK\"\n",
      "INFO:remaining_extraction:Successful extraction: chart_104_medium_line_grayscale_conversion_medium.png (attempt 1)\n"
     ]
    },
    {
     "name": "stdout",
     "output_type": "stream",
     "text": [
      "     Success\n",
      "\n",
      "Extracting 106/200: chart_105_complex_area_grayscale_conversion_medium.png\n"
     ]
    },
    {
     "name": "stderr",
     "output_type": "stream",
     "text": [
      "INFO:httpx:HTTP Request: POST https://api.openai.com/v1/chat/completions \"HTTP/1.1 200 OK\"\n",
      "WARNING:remaining_extraction:Could not parse JSON from response: I'm unable to extract data from images directly. However, I can guide you on how to manually extract the data:\n",
      "\n",
      "1. **Chart Title**: \"Sector Comparison - (Financial Analysis)\"\n",
      "2. **Chart Type**: Line c...\n",
      "INFO:httpx:HTTP Request: POST https://api.openai.com/v1/chat/completions \"HTTP/1.1 200 OK\"\n",
      "INFO:remaining_extraction:Successful extraction: chart_105_complex_area_grayscale_conversion_medium.png (attempt 2)\n"
     ]
    },
    {
     "name": "stdout",
     "output_type": "stream",
     "text": [
      "     Success\n",
      "\n",
      "Extracting 107/200: chart_106_complex_pie_grayscale_conversion_medium.png\n"
     ]
    },
    {
     "name": "stderr",
     "output_type": "stream",
     "text": [
      "INFO:httpx:HTTP Request: POST https://api.openai.com/v1/chat/completions \"HTTP/1.1 200 OK\"\n",
      "INFO:remaining_extraction:Successful extraction: chart_106_complex_pie_grayscale_conversion_medium.png (attempt 1)\n"
     ]
    },
    {
     "name": "stdout",
     "output_type": "stream",
     "text": [
      "     Success\n",
      "\n",
      "Extracting 108/200: chart_107_medium_line_grayscale_conversion_medium.png\n"
     ]
    },
    {
     "name": "stderr",
     "output_type": "stream",
     "text": [
      "INFO:httpx:HTTP Request: POST https://api.openai.com/v1/chat/completions \"HTTP/1.1 200 OK\"\n",
      "INFO:remaining_extraction:Successful extraction: chart_107_medium_line_grayscale_conversion_medium.png (attempt 1)\n"
     ]
    },
    {
     "name": "stdout",
     "output_type": "stream",
     "text": [
      "     Success\n",
      "\n",
      "Extracting 109/200: chart_108_complex_scatter_grayscale_conversion_medium.png\n"
     ]
    },
    {
     "name": "stderr",
     "output_type": "stream",
     "text": [
      "INFO:httpx:HTTP Request: POST https://api.openai.com/v1/chat/completions \"HTTP/1.1 200 OK\"\n",
      "INFO:remaining_extraction:Successful extraction: chart_108_complex_scatter_grayscale_conversion_medium.png (attempt 1)\n"
     ]
    },
    {
     "name": "stdout",
     "output_type": "stream",
     "text": [
      "     Success\n",
      "\n",
      "Extracting 110/200: chart_109_advanced_line_grayscale_conversion_medium.png\n"
     ]
    },
    {
     "name": "stderr",
     "output_type": "stream",
     "text": [
      "INFO:openai._base_client:Retrying request to /chat/completions in 0.383316 seconds\n",
      "INFO:openai._base_client:Retrying request to /chat/completions in 0.846484 seconds\n",
      "INFO:httpx:HTTP Request: POST https://api.openai.com/v1/chat/completions \"HTTP/1.1 200 OK\"\n",
      "INFO:remaining_extraction:Successful extraction: chart_109_advanced_line_grayscale_conversion_medium.png (attempt 1)\n"
     ]
    },
    {
     "name": "stdout",
     "output_type": "stream",
     "text": [
      "     Success\n",
      "\n",
      "Extracting 111/200: chart_110_complex_bar_grayscale_conversion_medium.png\n"
     ]
    },
    {
     "name": "stderr",
     "output_type": "stream",
     "text": [
      "INFO:httpx:HTTP Request: POST https://api.openai.com/v1/chat/completions \"HTTP/1.1 200 OK\"\n",
      "INFO:remaining_extraction:Successful extraction: chart_110_complex_bar_grayscale_conversion_medium.png (attempt 1)\n"
     ]
    },
    {
     "name": "stdout",
     "output_type": "stream",
     "text": [
      "     Success\n",
      "\n",
      "Extracting 112/200: chart_111_medium_bar_grayscale_conversion_medium.png\n"
     ]
    },
    {
     "name": "stderr",
     "output_type": "stream",
     "text": [
      "INFO:httpx:HTTP Request: POST https://api.openai.com/v1/chat/completions \"HTTP/1.1 200 OK\"\n",
      "INFO:remaining_extraction:Successful extraction: chart_111_medium_bar_grayscale_conversion_medium.png (attempt 1)\n"
     ]
    },
    {
     "name": "stdout",
     "output_type": "stream",
     "text": [
      "     Success\n",
      "\n",
      "Extracting 113/200: chart_112_medium_scatter_grayscale_conversion_medium.png\n"
     ]
    },
    {
     "name": "stderr",
     "output_type": "stream",
     "text": [
      "INFO:httpx:HTTP Request: POST https://api.openai.com/v1/chat/completions \"HTTP/1.1 200 OK\"\n",
      "INFO:remaining_extraction:Successful extraction: chart_112_medium_scatter_grayscale_conversion_medium.png (attempt 1)\n"
     ]
    },
    {
     "name": "stdout",
     "output_type": "stream",
     "text": [
      "     Success\n",
      "\n",
      "Extracting 114/200: chart_113_medium_bar_grayscale_conversion_medium.png\n"
     ]
    },
    {
     "name": "stderr",
     "output_type": "stream",
     "text": [
      "INFO:httpx:HTTP Request: POST https://api.openai.com/v1/chat/completions \"HTTP/1.1 200 OK\"\n",
      "INFO:remaining_extraction:Successful extraction: chart_113_medium_bar_grayscale_conversion_medium.png (attempt 1)\n"
     ]
    },
    {
     "name": "stdout",
     "output_type": "stream",
     "text": [
      "     Success\n",
      "\n",
      "Extracting 115/200: chart_114_advanced_bar_grayscale_conversion_medium.png\n"
     ]
    },
    {
     "name": "stderr",
     "output_type": "stream",
     "text": [
      "INFO:httpx:HTTP Request: POST https://api.openai.com/v1/chat/completions \"HTTP/1.1 200 OK\"\n",
      "INFO:remaining_extraction:Successful extraction: chart_114_advanced_bar_grayscale_conversion_medium.png (attempt 1)\n"
     ]
    },
    {
     "name": "stdout",
     "output_type": "stream",
     "text": [
      "     Success\n",
      "\n",
      "Extracting 116/200: chart_115_complex_area_grayscale_conversion_medium.png\n"
     ]
    },
    {
     "name": "stderr",
     "output_type": "stream",
     "text": [
      "INFO:httpx:HTTP Request: POST https://api.openai.com/v1/chat/completions \"HTTP/1.1 200 OK\"\n",
      "INFO:remaining_extraction:Successful extraction: chart_115_complex_area_grayscale_conversion_medium.png (attempt 1)\n"
     ]
    },
    {
     "name": "stdout",
     "output_type": "stream",
     "text": [
      "     Success\n",
      "\n",
      "Extracting 117/200: chart_116_medium_line_grayscale_conversion_medium.png\n"
     ]
    },
    {
     "name": "stderr",
     "output_type": "stream",
     "text": [
      "INFO:httpx:HTTP Request: POST https://api.openai.com/v1/chat/completions \"HTTP/1.1 200 OK\"\n",
      "INFO:remaining_extraction:Successful extraction: chart_116_medium_line_grayscale_conversion_medium.png (attempt 1)\n"
     ]
    },
    {
     "name": "stdout",
     "output_type": "stream",
     "text": [
      "     Success\n",
      "\n",
      "Extracting 118/200: chart_117_complex_bar_grayscale_conversion_medium.png\n"
     ]
    },
    {
     "name": "stderr",
     "output_type": "stream",
     "text": [
      "INFO:httpx:HTTP Request: POST https://api.openai.com/v1/chat/completions \"HTTP/1.1 200 OK\"\n",
      "INFO:remaining_extraction:Successful extraction: chart_117_complex_bar_grayscale_conversion_medium.png (attempt 1)\n"
     ]
    },
    {
     "name": "stdout",
     "output_type": "stream",
     "text": [
      "     Success\n",
      "\n",
      "Extracting 119/200: chart_118_complex_bar_grayscale_conversion_medium.png\n"
     ]
    },
    {
     "name": "stderr",
     "output_type": "stream",
     "text": [
      "INFO:httpx:HTTP Request: POST https://api.openai.com/v1/chat/completions \"HTTP/1.1 200 OK\"\n",
      "INFO:remaining_extraction:Successful extraction: chart_118_complex_bar_grayscale_conversion_medium.png (attempt 1)\n"
     ]
    },
    {
     "name": "stdout",
     "output_type": "stream",
     "text": [
      "     Success\n",
      "\n",
      "Extracting 120/200: chart_119_advanced_line_grayscale_conversion_medium.png\n"
     ]
    },
    {
     "name": "stderr",
     "output_type": "stream",
     "text": [
      "INFO:httpx:HTTP Request: POST https://api.openai.com/v1/chat/completions \"HTTP/1.1 200 OK\"\n",
      "INFO:remaining_extraction:Successful extraction: chart_119_advanced_line_grayscale_conversion_medium.png (attempt 1)\n"
     ]
    },
    {
     "name": "stdout",
     "output_type": "stream",
     "text": [
      "     Success\n",
      "\n",
      "Extracting 121/200: chart_120_medium_line_grayscale_conversion_medium.png\n"
     ]
    },
    {
     "name": "stderr",
     "output_type": "stream",
     "text": [
      "INFO:httpx:HTTP Request: POST https://api.openai.com/v1/chat/completions \"HTTP/1.1 200 OK\"\n",
      "INFO:remaining_extraction:Successful extraction: chart_120_medium_line_grayscale_conversion_medium.png (attempt 1)\n"
     ]
    },
    {
     "name": "stdout",
     "output_type": "stream",
     "text": [
      "     Success\n",
      "\n",
      "Extracting 122/200: chart_121_advanced_pie_grayscale_conversion_medium.png\n"
     ]
    },
    {
     "name": "stderr",
     "output_type": "stream",
     "text": [
      "INFO:httpx:HTTP Request: POST https://api.openai.com/v1/chat/completions \"HTTP/1.1 200 OK\"\n",
      "INFO:remaining_extraction:Successful extraction: chart_121_advanced_pie_grayscale_conversion_medium.png (attempt 1)\n"
     ]
    },
    {
     "name": "stdout",
     "output_type": "stream",
     "text": [
      "     Success\n",
      "\n",
      "Extracting 123/200: chart_122_medium_line_grayscale_conversion_medium.png\n"
     ]
    },
    {
     "name": "stderr",
     "output_type": "stream",
     "text": [
      "INFO:httpx:HTTP Request: POST https://api.openai.com/v1/chat/completions \"HTTP/1.1 200 OK\"\n",
      "INFO:remaining_extraction:Successful extraction: chart_122_medium_line_grayscale_conversion_medium.png (attempt 1)\n"
     ]
    },
    {
     "name": "stdout",
     "output_type": "stream",
     "text": [
      "     Success\n",
      "\n",
      "Extracting 124/200: chart_123_medium_line_grayscale_conversion_medium.png\n"
     ]
    },
    {
     "name": "stderr",
     "output_type": "stream",
     "text": [
      "INFO:httpx:HTTP Request: POST https://api.openai.com/v1/chat/completions \"HTTP/1.1 200 OK\"\n",
      "INFO:remaining_extraction:Successful extraction: chart_123_medium_line_grayscale_conversion_medium.png (attempt 1)\n"
     ]
    },
    {
     "name": "stdout",
     "output_type": "stream",
     "text": [
      "     Success\n",
      "\n",
      "Extracting 125/200: chart_124_advanced_pie_grayscale_conversion_medium.png\n"
     ]
    },
    {
     "name": "stderr",
     "output_type": "stream",
     "text": [
      "INFO:httpx:HTTP Request: POST https://api.openai.com/v1/chat/completions \"HTTP/1.1 200 OK\"\n",
      "INFO:remaining_extraction:Successful extraction: chart_124_advanced_pie_grayscale_conversion_medium.png (attempt 1)\n"
     ]
    },
    {
     "name": "stdout",
     "output_type": "stream",
     "text": [
      "     Success\n",
      "     Progress: 124 successful\n",
      "\n",
      "Extracting 126/200: chart_125_complex_pie_grayscale_conversion_medium.png\n"
     ]
    },
    {
     "name": "stderr",
     "output_type": "stream",
     "text": [
      "INFO:httpx:HTTP Request: POST https://api.openai.com/v1/chat/completions \"HTTP/1.1 200 OK\"\n",
      "INFO:remaining_extraction:Successful extraction: chart_125_complex_pie_grayscale_conversion_medium.png (attempt 1)\n"
     ]
    },
    {
     "name": "stdout",
     "output_type": "stream",
     "text": [
      "     Success\n",
      "\n",
      "Extracting 127/200: chart_126_complex_scatter_grayscale_conversion_medium.png\n"
     ]
    },
    {
     "name": "stderr",
     "output_type": "stream",
     "text": [
      "INFO:httpx:HTTP Request: POST https://api.openai.com/v1/chat/completions \"HTTP/1.1 200 OK\"\n",
      "INFO:remaining_extraction:Successful extraction: chart_126_complex_scatter_grayscale_conversion_medium.png (attempt 1)\n"
     ]
    },
    {
     "name": "stdout",
     "output_type": "stream",
     "text": [
      "     Success\n",
      "\n",
      "Extracting 128/200: chart_127_advanced_scatter_grayscale_conversion_medium.png\n"
     ]
    },
    {
     "name": "stderr",
     "output_type": "stream",
     "text": [
      "INFO:httpx:HTTP Request: POST https://api.openai.com/v1/chat/completions \"HTTP/1.1 200 OK\"\n",
      "INFO:remaining_extraction:Successful extraction: chart_127_advanced_scatter_grayscale_conversion_medium.png (attempt 1)\n"
     ]
    },
    {
     "name": "stdout",
     "output_type": "stream",
     "text": [
      "     Success\n",
      "\n",
      "Extracting 129/200: chart_128_medium_line_grayscale_conversion_medium.png\n"
     ]
    },
    {
     "name": "stderr",
     "output_type": "stream",
     "text": [
      "INFO:httpx:HTTP Request: POST https://api.openai.com/v1/chat/completions \"HTTP/1.1 200 OK\"\n",
      "INFO:remaining_extraction:Successful extraction: chart_128_medium_line_grayscale_conversion_medium.png (attempt 1)\n"
     ]
    },
    {
     "name": "stdout",
     "output_type": "stream",
     "text": [
      "     Success\n",
      "\n",
      "Extracting 130/200: chart_129_medium_scatter_grayscale_conversion_medium.png\n"
     ]
    },
    {
     "name": "stderr",
     "output_type": "stream",
     "text": [
      "INFO:httpx:HTTP Request: POST https://api.openai.com/v1/chat/completions \"HTTP/1.1 200 OK\"\n",
      "INFO:remaining_extraction:Successful extraction: chart_129_medium_scatter_grayscale_conversion_medium.png (attempt 1)\n"
     ]
    },
    {
     "name": "stdout",
     "output_type": "stream",
     "text": [
      "     Success\n",
      "\n",
      "Extracting 131/200: chart_130_medium_bar_grayscale_conversion_medium.png\n"
     ]
    },
    {
     "name": "stderr",
     "output_type": "stream",
     "text": [
      "INFO:httpx:HTTP Request: POST https://api.openai.com/v1/chat/completions \"HTTP/1.1 200 OK\"\n",
      "INFO:remaining_extraction:Successful extraction: chart_130_medium_bar_grayscale_conversion_medium.png (attempt 1)\n"
     ]
    },
    {
     "name": "stdout",
     "output_type": "stream",
     "text": [
      "     Success\n",
      "\n",
      "Extracting 132/200: chart_131_complex_line_grayscale_conversion_medium.png\n"
     ]
    },
    {
     "name": "stderr",
     "output_type": "stream",
     "text": [
      "INFO:httpx:HTTP Request: POST https://api.openai.com/v1/chat/completions \"HTTP/1.1 200 OK\"\n",
      "INFO:remaining_extraction:Successful extraction: chart_131_complex_line_grayscale_conversion_medium.png (attempt 1)\n"
     ]
    },
    {
     "name": "stdout",
     "output_type": "stream",
     "text": [
      "     Success\n",
      "\n",
      "Extracting 133/200: chart_132_complex_line_grayscale_conversion_medium.png\n"
     ]
    },
    {
     "name": "stderr",
     "output_type": "stream",
     "text": [
      "INFO:httpx:HTTP Request: POST https://api.openai.com/v1/chat/completions \"HTTP/1.1 200 OK\"\n",
      "INFO:remaining_extraction:Successful extraction: chart_132_complex_line_grayscale_conversion_medium.png (attempt 1)\n"
     ]
    },
    {
     "name": "stdout",
     "output_type": "stream",
     "text": [
      "     Success\n",
      "\n",
      "Extracting 134/200: chart_133_complex_bar_grayscale_conversion_medium.png\n"
     ]
    },
    {
     "name": "stderr",
     "output_type": "stream",
     "text": [
      "INFO:openai._base_client:Retrying request to /chat/completions in 0.404236 seconds\n",
      "INFO:httpx:HTTP Request: POST https://api.openai.com/v1/chat/completions \"HTTP/1.1 200 OK\"\n",
      "INFO:remaining_extraction:Successful extraction: chart_133_complex_bar_grayscale_conversion_medium.png (attempt 1)\n"
     ]
    },
    {
     "name": "stdout",
     "output_type": "stream",
     "text": [
      "     Success\n",
      "\n",
      "Extracting 135/200: chart_134_complex_bar_grayscale_conversion_medium.png\n"
     ]
    },
    {
     "name": "stderr",
     "output_type": "stream",
     "text": [
      "INFO:httpx:HTTP Request: POST https://api.openai.com/v1/chat/completions \"HTTP/1.1 200 OK\"\n",
      "INFO:remaining_extraction:Successful extraction: chart_134_complex_bar_grayscale_conversion_medium.png (attempt 1)\n"
     ]
    },
    {
     "name": "stdout",
     "output_type": "stream",
     "text": [
      "     Success\n",
      "\n",
      "Extracting 136/200: chart_135_complex_bar_grayscale_conversion_medium.png\n"
     ]
    },
    {
     "name": "stderr",
     "output_type": "stream",
     "text": [
      "INFO:httpx:HTTP Request: POST https://api.openai.com/v1/chat/completions \"HTTP/1.1 200 OK\"\n",
      "INFO:remaining_extraction:Successful extraction: chart_135_complex_bar_grayscale_conversion_medium.png (attempt 1)\n"
     ]
    },
    {
     "name": "stdout",
     "output_type": "stream",
     "text": [
      "     Success\n",
      "\n",
      "Extracting 137/200: chart_136_complex_bar_grayscale_conversion_medium.png\n"
     ]
    },
    {
     "name": "stderr",
     "output_type": "stream",
     "text": [
      "INFO:httpx:HTTP Request: POST https://api.openai.com/v1/chat/completions \"HTTP/1.1 200 OK\"\n",
      "INFO:remaining_extraction:Successful extraction: chart_136_complex_bar_grayscale_conversion_medium.png (attempt 1)\n"
     ]
    },
    {
     "name": "stdout",
     "output_type": "stream",
     "text": [
      "     Success\n",
      "\n",
      "Extracting 138/200: chart_137_complex_bar_grayscale_conversion_medium.png\n"
     ]
    },
    {
     "name": "stderr",
     "output_type": "stream",
     "text": [
      "INFO:httpx:HTTP Request: POST https://api.openai.com/v1/chat/completions \"HTTP/1.1 200 OK\"\n",
      "INFO:remaining_extraction:Successful extraction: chart_137_complex_bar_grayscale_conversion_medium.png (attempt 1)\n"
     ]
    },
    {
     "name": "stdout",
     "output_type": "stream",
     "text": [
      "     Success\n",
      "\n",
      "Extracting 139/200: chart_138_medium_line_grayscale_conversion_medium.png\n"
     ]
    },
    {
     "name": "stderr",
     "output_type": "stream",
     "text": [
      "INFO:httpx:HTTP Request: POST https://api.openai.com/v1/chat/completions \"HTTP/1.1 200 OK\"\n",
      "INFO:remaining_extraction:Successful extraction: chart_138_medium_line_grayscale_conversion_medium.png (attempt 1)\n"
     ]
    },
    {
     "name": "stdout",
     "output_type": "stream",
     "text": [
      "     Success\n",
      "\n",
      "Extracting 140/200: chart_139_advanced_scatter_grayscale_conversion_medium.png\n"
     ]
    },
    {
     "name": "stderr",
     "output_type": "stream",
     "text": [
      "INFO:httpx:HTTP Request: POST https://api.openai.com/v1/chat/completions \"HTTP/1.1 200 OK\"\n",
      "INFO:remaining_extraction:Successful extraction: chart_139_advanced_scatter_grayscale_conversion_medium.png (attempt 1)\n"
     ]
    },
    {
     "name": "stdout",
     "output_type": "stream",
     "text": [
      "     Success\n",
      "\n",
      "Extracting 141/200: chart_140_medium_bar_grayscale_conversion_medium.png\n"
     ]
    },
    {
     "name": "stderr",
     "output_type": "stream",
     "text": [
      "INFO:httpx:HTTP Request: POST https://api.openai.com/v1/chat/completions \"HTTP/1.1 200 OK\"\n",
      "INFO:remaining_extraction:Successful extraction: chart_140_medium_bar_grayscale_conversion_medium.png (attempt 1)\n"
     ]
    },
    {
     "name": "stdout",
     "output_type": "stream",
     "text": [
      "     Success\n",
      "\n",
      "Extracting 142/200: chart_141_medium_bar_grayscale_conversion_medium.png\n"
     ]
    },
    {
     "name": "stderr",
     "output_type": "stream",
     "text": [
      "INFO:httpx:HTTP Request: POST https://api.openai.com/v1/chat/completions \"HTTP/1.1 200 OK\"\n",
      "INFO:remaining_extraction:Successful extraction: chart_141_medium_bar_grayscale_conversion_medium.png (attempt 1)\n"
     ]
    },
    {
     "name": "stdout",
     "output_type": "stream",
     "text": [
      "     Success\n",
      "\n",
      "Extracting 143/200: chart_142_medium_bar_grayscale_conversion_medium.png\n"
     ]
    },
    {
     "name": "stderr",
     "output_type": "stream",
     "text": [
      "INFO:httpx:HTTP Request: POST https://api.openai.com/v1/chat/completions \"HTTP/1.1 200 OK\"\n",
      "INFO:remaining_extraction:Successful extraction: chart_142_medium_bar_grayscale_conversion_medium.png (attempt 1)\n"
     ]
    },
    {
     "name": "stdout",
     "output_type": "stream",
     "text": [
      "     Success\n",
      "\n",
      "Extracting 144/200: chart_143_complex_bar_grayscale_conversion_medium.png\n"
     ]
    },
    {
     "name": "stderr",
     "output_type": "stream",
     "text": [
      "INFO:openai._base_client:Retrying request to /chat/completions in 0.408167 seconds\n",
      "INFO:httpx:HTTP Request: POST https://api.openai.com/v1/chat/completions \"HTTP/1.1 200 OK\"\n",
      "INFO:remaining_extraction:Successful extraction: chart_143_complex_bar_grayscale_conversion_medium.png (attempt 1)\n"
     ]
    },
    {
     "name": "stdout",
     "output_type": "stream",
     "text": [
      "     Success\n",
      "\n",
      "Extracting 145/200: chart_144_medium_bar_grayscale_conversion_medium.png\n"
     ]
    },
    {
     "name": "stderr",
     "output_type": "stream",
     "text": [
      "INFO:httpx:HTTP Request: POST https://api.openai.com/v1/chat/completions \"HTTP/1.1 200 OK\"\n",
      "INFO:remaining_extraction:Successful extraction: chart_144_medium_bar_grayscale_conversion_medium.png (attempt 1)\n"
     ]
    },
    {
     "name": "stdout",
     "output_type": "stream",
     "text": [
      "     Success\n",
      "\n",
      "Extracting 146/200: chart_145_medium_scatter_grayscale_conversion_medium.png\n"
     ]
    },
    {
     "name": "stderr",
     "output_type": "stream",
     "text": [
      "INFO:httpx:HTTP Request: POST https://api.openai.com/v1/chat/completions \"HTTP/1.1 200 OK\"\n",
      "INFO:remaining_extraction:Successful extraction: chart_145_medium_scatter_grayscale_conversion_medium.png (attempt 1)\n"
     ]
    },
    {
     "name": "stdout",
     "output_type": "stream",
     "text": [
      "     Success\n",
      "\n",
      "Extracting 147/200: chart_146_medium_scatter_grayscale_conversion_medium.png\n"
     ]
    },
    {
     "name": "stderr",
     "output_type": "stream",
     "text": [
      "INFO:httpx:HTTP Request: POST https://api.openai.com/v1/chat/completions \"HTTP/1.1 200 OK\"\n",
      "INFO:remaining_extraction:Successful extraction: chart_146_medium_scatter_grayscale_conversion_medium.png (attempt 1)\n"
     ]
    },
    {
     "name": "stdout",
     "output_type": "stream",
     "text": [
      "     Success\n",
      "\n",
      "Extracting 148/200: chart_147_complex_line_grayscale_conversion_medium.png\n"
     ]
    },
    {
     "name": "stderr",
     "output_type": "stream",
     "text": [
      "INFO:httpx:HTTP Request: POST https://api.openai.com/v1/chat/completions \"HTTP/1.1 200 OK\"\n",
      "INFO:remaining_extraction:Successful extraction: chart_147_complex_line_grayscale_conversion_medium.png (attempt 1)\n"
     ]
    },
    {
     "name": "stdout",
     "output_type": "stream",
     "text": [
      "     Success\n",
      "\n",
      "Extracting 149/200: chart_147_complex_line_rotation_medium.png\n"
     ]
    },
    {
     "name": "stderr",
     "output_type": "stream",
     "text": [
      "INFO:httpx:HTTP Request: POST https://api.openai.com/v1/chat/completions \"HTTP/1.1 200 OK\"\n",
      "INFO:remaining_extraction:Successful extraction: chart_147_complex_line_rotation_medium.png (attempt 1)\n"
     ]
    },
    {
     "name": "stdout",
     "output_type": "stream",
     "text": [
      "     Success\n",
      "\n",
      "Extracting 150/200: chart_148_medium_pie_grayscale_conversion_medium.png\n"
     ]
    },
    {
     "name": "stderr",
     "output_type": "stream",
     "text": [
      "INFO:httpx:HTTP Request: POST https://api.openai.com/v1/chat/completions \"HTTP/1.1 200 OK\"\n",
      "INFO:remaining_extraction:Successful extraction: chart_148_medium_pie_grayscale_conversion_medium.png (attempt 1)\n"
     ]
    },
    {
     "name": "stdout",
     "output_type": "stream",
     "text": [
      "     Success\n",
      "     Progress: 149 successful\n",
      "\n",
      "Extracting 151/200: chart_149_complex_bar_grayscale_conversion_medium.png\n"
     ]
    },
    {
     "name": "stderr",
     "output_type": "stream",
     "text": [
      "INFO:openai._base_client:Retrying request to /chat/completions in 0.375913 seconds\n",
      "INFO:httpx:HTTP Request: POST https://api.openai.com/v1/chat/completions \"HTTP/1.1 200 OK\"\n",
      "INFO:remaining_extraction:Successful extraction: chart_149_complex_bar_grayscale_conversion_medium.png (attempt 1)\n"
     ]
    },
    {
     "name": "stdout",
     "output_type": "stream",
     "text": [
      "     Success\n",
      "\n",
      "Extracting 152/200: chart_150_medium_bar_grayscale_conversion_medium.png\n"
     ]
    },
    {
     "name": "stderr",
     "output_type": "stream",
     "text": [
      "INFO:httpx:HTTP Request: POST https://api.openai.com/v1/chat/completions \"HTTP/1.1 200 OK\"\n",
      "INFO:remaining_extraction:Successful extraction: chart_150_medium_bar_grayscale_conversion_medium.png (attempt 1)\n"
     ]
    },
    {
     "name": "stdout",
     "output_type": "stream",
     "text": [
      "     Success\n",
      "\n",
      "Extracting 153/200: chart_151_complex_line_grayscale_conversion_medium.png\n"
     ]
    },
    {
     "name": "stderr",
     "output_type": "stream",
     "text": [
      "INFO:httpx:HTTP Request: POST https://api.openai.com/v1/chat/completions \"HTTP/1.1 200 OK\"\n",
      "INFO:remaining_extraction:Successful extraction: chart_151_complex_line_grayscale_conversion_medium.png (attempt 1)\n"
     ]
    },
    {
     "name": "stdout",
     "output_type": "stream",
     "text": [
      "     Success\n",
      "\n",
      "Extracting 154/200: chart_152_complex_pie_grayscale_conversion_medium.png\n"
     ]
    },
    {
     "name": "stderr",
     "output_type": "stream",
     "text": [
      "INFO:httpx:HTTP Request: POST https://api.openai.com/v1/chat/completions \"HTTP/1.1 200 OK\"\n",
      "INFO:remaining_extraction:Successful extraction: chart_152_complex_pie_grayscale_conversion_medium.png (attempt 1)\n"
     ]
    },
    {
     "name": "stdout",
     "output_type": "stream",
     "text": [
      "     Success\n",
      "\n",
      "Extracting 155/200: chart_153_advanced_scatter_grayscale_conversion_medium.png\n"
     ]
    },
    {
     "name": "stderr",
     "output_type": "stream",
     "text": [
      "INFO:httpx:HTTP Request: POST https://api.openai.com/v1/chat/completions \"HTTP/1.1 200 OK\"\n",
      "INFO:remaining_extraction:Successful extraction: chart_153_advanced_scatter_grayscale_conversion_medium.png (attempt 1)\n"
     ]
    },
    {
     "name": "stdout",
     "output_type": "stream",
     "text": [
      "     Success\n",
      "\n",
      "Extracting 156/200: chart_154_complex_line_grayscale_conversion_medium.png\n"
     ]
    },
    {
     "name": "stderr",
     "output_type": "stream",
     "text": [
      "INFO:httpx:HTTP Request: POST https://api.openai.com/v1/chat/completions \"HTTP/1.1 200 OK\"\n",
      "INFO:remaining_extraction:Successful extraction: chart_154_complex_line_grayscale_conversion_medium.png (attempt 1)\n"
     ]
    },
    {
     "name": "stdout",
     "output_type": "stream",
     "text": [
      "     Success\n",
      "\n",
      "Extracting 157/200: chart_155_medium_bar_grayscale_conversion_medium.png\n"
     ]
    },
    {
     "name": "stderr",
     "output_type": "stream",
     "text": [
      "INFO:httpx:HTTP Request: POST https://api.openai.com/v1/chat/completions \"HTTP/1.1 200 OK\"\n",
      "INFO:remaining_extraction:Successful extraction: chart_155_medium_bar_grayscale_conversion_medium.png (attempt 1)\n"
     ]
    },
    {
     "name": "stdout",
     "output_type": "stream",
     "text": [
      "     Success\n",
      "\n",
      "Extracting 158/200: chart_156_complex_line_grayscale_conversion_medium.png\n"
     ]
    },
    {
     "name": "stderr",
     "output_type": "stream",
     "text": [
      "INFO:httpx:HTTP Request: POST https://api.openai.com/v1/chat/completions \"HTTP/1.1 200 OK\"\n",
      "INFO:remaining_extraction:Successful extraction: chart_156_complex_line_grayscale_conversion_medium.png (attempt 1)\n"
     ]
    },
    {
     "name": "stdout",
     "output_type": "stream",
     "text": [
      "     Success\n",
      "\n",
      "Extracting 159/200: chart_157_complex_line_grayscale_conversion_medium.png\n"
     ]
    },
    {
     "name": "stderr",
     "output_type": "stream",
     "text": [
      "INFO:httpx:HTTP Request: POST https://api.openai.com/v1/chat/completions \"HTTP/1.1 200 OK\"\n",
      "INFO:remaining_extraction:Successful extraction: chart_157_complex_line_grayscale_conversion_medium.png (attempt 1)\n"
     ]
    },
    {
     "name": "stdout",
     "output_type": "stream",
     "text": [
      "     Success\n",
      "\n",
      "Extracting 160/200: chart_158_advanced_pie_grayscale_conversion_medium.png\n"
     ]
    },
    {
     "name": "stderr",
     "output_type": "stream",
     "text": [
      "INFO:httpx:HTTP Request: POST https://api.openai.com/v1/chat/completions \"HTTP/1.1 200 OK\"\n",
      "INFO:remaining_extraction:Successful extraction: chart_158_advanced_pie_grayscale_conversion_medium.png (attempt 1)\n"
     ]
    },
    {
     "name": "stdout",
     "output_type": "stream",
     "text": [
      "     Success\n",
      "\n",
      "Extracting 161/200: chart_159_medium_area_grayscale_conversion_medium.png\n"
     ]
    },
    {
     "name": "stderr",
     "output_type": "stream",
     "text": [
      "INFO:httpx:HTTP Request: POST https://api.openai.com/v1/chat/completions \"HTTP/1.1 200 OK\"\n",
      "INFO:remaining_extraction:Successful extraction: chart_159_medium_area_grayscale_conversion_medium.png (attempt 1)\n"
     ]
    },
    {
     "name": "stdout",
     "output_type": "stream",
     "text": [
      "     Success\n",
      "\n",
      "Extracting 162/200: chart_160_advanced_pie_grayscale_conversion_medium.png\n"
     ]
    },
    {
     "name": "stderr",
     "output_type": "stream",
     "text": [
      "INFO:httpx:HTTP Request: POST https://api.openai.com/v1/chat/completions \"HTTP/1.1 200 OK\"\n",
      "INFO:remaining_extraction:Successful extraction: chart_160_advanced_pie_grayscale_conversion_medium.png (attempt 1)\n"
     ]
    },
    {
     "name": "stdout",
     "output_type": "stream",
     "text": [
      "     Success\n",
      "\n",
      "Extracting 163/200: chart_161_complex_bar_grayscale_conversion_medium.png\n"
     ]
    },
    {
     "name": "stderr",
     "output_type": "stream",
     "text": [
      "INFO:httpx:HTTP Request: POST https://api.openai.com/v1/chat/completions \"HTTP/1.1 200 OK\"\n",
      "INFO:remaining_extraction:Successful extraction: chart_161_complex_bar_grayscale_conversion_medium.png (attempt 1)\n"
     ]
    },
    {
     "name": "stdout",
     "output_type": "stream",
     "text": [
      "     Success\n",
      "\n",
      "Extracting 164/200: chart_162_medium_line_grayscale_conversion_medium.png\n"
     ]
    },
    {
     "name": "stderr",
     "output_type": "stream",
     "text": [
      "INFO:httpx:HTTP Request: POST https://api.openai.com/v1/chat/completions \"HTTP/1.1 200 OK\"\n",
      "INFO:remaining_extraction:Successful extraction: chart_162_medium_line_grayscale_conversion_medium.png (attempt 1)\n"
     ]
    },
    {
     "name": "stdout",
     "output_type": "stream",
     "text": [
      "     Success\n",
      "\n",
      "Extracting 165/200: chart_163_medium_bar_grayscale_conversion_medium.png\n"
     ]
    },
    {
     "name": "stderr",
     "output_type": "stream",
     "text": [
      "INFO:httpx:HTTP Request: POST https://api.openai.com/v1/chat/completions \"HTTP/1.1 200 OK\"\n",
      "INFO:remaining_extraction:Successful extraction: chart_163_medium_bar_grayscale_conversion_medium.png (attempt 1)\n"
     ]
    },
    {
     "name": "stdout",
     "output_type": "stream",
     "text": [
      "     Success\n",
      "\n",
      "Extracting 166/200: chart_164_complex_line_grayscale_conversion_medium.png\n"
     ]
    },
    {
     "name": "stderr",
     "output_type": "stream",
     "text": [
      "INFO:httpx:HTTP Request: POST https://api.openai.com/v1/chat/completions \"HTTP/1.1 200 OK\"\n",
      "INFO:remaining_extraction:Successful extraction: chart_164_complex_line_grayscale_conversion_medium.png (attempt 1)\n"
     ]
    },
    {
     "name": "stdout",
     "output_type": "stream",
     "text": [
      "     Success\n",
      "\n",
      "Extracting 167/200: chart_165_complex_bar_grayscale_conversion_medium.png\n"
     ]
    },
    {
     "name": "stderr",
     "output_type": "stream",
     "text": [
      "INFO:httpx:HTTP Request: POST https://api.openai.com/v1/chat/completions \"HTTP/1.1 200 OK\"\n",
      "INFO:remaining_extraction:Successful extraction: chart_165_complex_bar_grayscale_conversion_medium.png (attempt 1)\n"
     ]
    },
    {
     "name": "stdout",
     "output_type": "stream",
     "text": [
      "     Success\n",
      "\n",
      "Extracting 168/200: chart_166_advanced_scatter_grayscale_conversion_medium.png\n"
     ]
    },
    {
     "name": "stderr",
     "output_type": "stream",
     "text": [
      "INFO:httpx:HTTP Request: POST https://api.openai.com/v1/chat/completions \"HTTP/1.1 200 OK\"\n",
      "INFO:remaining_extraction:Successful extraction: chart_166_advanced_scatter_grayscale_conversion_medium.png (attempt 1)\n"
     ]
    },
    {
     "name": "stdout",
     "output_type": "stream",
     "text": [
      "     Success\n",
      "\n",
      "Extracting 169/200: chart_167_complex_bar_grayscale_conversion_medium.png\n"
     ]
    },
    {
     "name": "stderr",
     "output_type": "stream",
     "text": [
      "INFO:httpx:HTTP Request: POST https://api.openai.com/v1/chat/completions \"HTTP/1.1 200 OK\"\n",
      "INFO:remaining_extraction:Successful extraction: chart_167_complex_bar_grayscale_conversion_medium.png (attempt 1)\n"
     ]
    },
    {
     "name": "stdout",
     "output_type": "stream",
     "text": [
      "     Success\n",
      "\n",
      "Extracting 170/200: chart_168_complex_scatter_grayscale_conversion_medium.png\n"
     ]
    },
    {
     "name": "stderr",
     "output_type": "stream",
     "text": [
      "INFO:httpx:HTTP Request: POST https://api.openai.com/v1/chat/completions \"HTTP/1.1 200 OK\"\n",
      "INFO:remaining_extraction:Successful extraction: chart_168_complex_scatter_grayscale_conversion_medium.png (attempt 1)\n"
     ]
    },
    {
     "name": "stdout",
     "output_type": "stream",
     "text": [
      "     Success\n",
      "\n",
      "Extracting 171/200: chart_169_advanced_line_grayscale_conversion_medium.png\n"
     ]
    },
    {
     "name": "stderr",
     "output_type": "stream",
     "text": [
      "INFO:httpx:HTTP Request: POST https://api.openai.com/v1/chat/completions \"HTTP/1.1 200 OK\"\n",
      "INFO:remaining_extraction:Successful extraction: chart_169_advanced_line_grayscale_conversion_medium.png (attempt 1)\n"
     ]
    },
    {
     "name": "stdout",
     "output_type": "stream",
     "text": [
      "     Success\n",
      "\n",
      "Extracting 172/200: chart_170_advanced_pie_grayscale_conversion_medium.png\n"
     ]
    },
    {
     "name": "stderr",
     "output_type": "stream",
     "text": [
      "INFO:httpx:HTTP Request: POST https://api.openai.com/v1/chat/completions \"HTTP/1.1 200 OK\"\n",
      "INFO:remaining_extraction:Successful extraction: chart_170_advanced_pie_grayscale_conversion_medium.png (attempt 1)\n"
     ]
    },
    {
     "name": "stdout",
     "output_type": "stream",
     "text": [
      "     Success\n",
      "\n",
      "Extracting 173/200: chart_171_medium_bar_grayscale_conversion_medium.png\n"
     ]
    },
    {
     "name": "stderr",
     "output_type": "stream",
     "text": [
      "INFO:httpx:HTTP Request: POST https://api.openai.com/v1/chat/completions \"HTTP/1.1 200 OK\"\n",
      "INFO:remaining_extraction:Successful extraction: chart_171_medium_bar_grayscale_conversion_medium.png (attempt 1)\n"
     ]
    },
    {
     "name": "stdout",
     "output_type": "stream",
     "text": [
      "     Success\n",
      "\n",
      "Extracting 174/200: chart_172_advanced_area_grayscale_conversion_medium.png\n"
     ]
    },
    {
     "name": "stderr",
     "output_type": "stream",
     "text": [
      "INFO:httpx:HTTP Request: POST https://api.openai.com/v1/chat/completions \"HTTP/1.1 200 OK\"\n",
      "INFO:remaining_extraction:Successful extraction: chart_172_advanced_area_grayscale_conversion_medium.png (attempt 1)\n"
     ]
    },
    {
     "name": "stdout",
     "output_type": "stream",
     "text": [
      "     Success\n",
      "\n",
      "Extracting 175/200: chart_173_advanced_line_grayscale_conversion_medium.png\n"
     ]
    },
    {
     "name": "stderr",
     "output_type": "stream",
     "text": [
      "INFO:httpx:HTTP Request: POST https://api.openai.com/v1/chat/completions \"HTTP/1.1 200 OK\"\n",
      "INFO:remaining_extraction:Successful extraction: chart_173_advanced_line_grayscale_conversion_medium.png (attempt 1)\n"
     ]
    },
    {
     "name": "stdout",
     "output_type": "stream",
     "text": [
      "     Success\n",
      "     Progress: 174 successful\n",
      "\n",
      "Extracting 176/200: chart_174_medium_scatter_grayscale_conversion_medium.png\n"
     ]
    },
    {
     "name": "stderr",
     "output_type": "stream",
     "text": [
      "INFO:httpx:HTTP Request: POST https://api.openai.com/v1/chat/completions \"HTTP/1.1 200 OK\"\n",
      "INFO:remaining_extraction:Successful extraction: chart_174_medium_scatter_grayscale_conversion_medium.png (attempt 1)\n"
     ]
    },
    {
     "name": "stdout",
     "output_type": "stream",
     "text": [
      "     Success\n",
      "\n",
      "Extracting 177/200: chart_175_complex_line_grayscale_conversion_medium.png\n"
     ]
    },
    {
     "name": "stderr",
     "output_type": "stream",
     "text": [
      "INFO:httpx:HTTP Request: POST https://api.openai.com/v1/chat/completions \"HTTP/1.1 200 OK\"\n",
      "INFO:remaining_extraction:Successful extraction: chart_175_complex_line_grayscale_conversion_medium.png (attempt 1)\n"
     ]
    },
    {
     "name": "stdout",
     "output_type": "stream",
     "text": [
      "     Success\n",
      "\n",
      "Extracting 178/200: chart_176_advanced_bar_grayscale_conversion_medium.png\n"
     ]
    },
    {
     "name": "stderr",
     "output_type": "stream",
     "text": [
      "INFO:httpx:HTTP Request: POST https://api.openai.com/v1/chat/completions \"HTTP/1.1 200 OK\"\n",
      "INFO:remaining_extraction:Successful extraction: chart_176_advanced_bar_grayscale_conversion_medium.png (attempt 1)\n"
     ]
    },
    {
     "name": "stdout",
     "output_type": "stream",
     "text": [
      "     Success\n",
      "\n",
      "Extracting 179/200: chart_177_medium_bar_grayscale_conversion_medium.png\n"
     ]
    },
    {
     "name": "stderr",
     "output_type": "stream",
     "text": [
      "INFO:httpx:HTTP Request: POST https://api.openai.com/v1/chat/completions \"HTTP/1.1 200 OK\"\n",
      "INFO:remaining_extraction:Successful extraction: chart_177_medium_bar_grayscale_conversion_medium.png (attempt 1)\n"
     ]
    },
    {
     "name": "stdout",
     "output_type": "stream",
     "text": [
      "     Success\n",
      "\n",
      "Extracting 180/200: chart_178_advanced_line_grayscale_conversion_medium.png\n"
     ]
    },
    {
     "name": "stderr",
     "output_type": "stream",
     "text": [
      "INFO:httpx:HTTP Request: POST https://api.openai.com/v1/chat/completions \"HTTP/1.1 200 OK\"\n",
      "INFO:remaining_extraction:Successful extraction: chart_178_advanced_line_grayscale_conversion_medium.png (attempt 1)\n"
     ]
    },
    {
     "name": "stdout",
     "output_type": "stream",
     "text": [
      "     Success\n",
      "\n",
      "Extracting 181/200: chart_179_complex_line_grayscale_conversion_medium.png\n"
     ]
    },
    {
     "name": "stderr",
     "output_type": "stream",
     "text": [
      "INFO:httpx:HTTP Request: POST https://api.openai.com/v1/chat/completions \"HTTP/1.1 200 OK\"\n",
      "INFO:remaining_extraction:Successful extraction: chart_179_complex_line_grayscale_conversion_medium.png (attempt 1)\n"
     ]
    },
    {
     "name": "stdout",
     "output_type": "stream",
     "text": [
      "     Success\n",
      "\n",
      "Extracting 182/200: chart_180_advanced_bar_grayscale_conversion_medium.png\n"
     ]
    },
    {
     "name": "stderr",
     "output_type": "stream",
     "text": [
      "INFO:httpx:HTTP Request: POST https://api.openai.com/v1/chat/completions \"HTTP/1.1 200 OK\"\n",
      "INFO:remaining_extraction:Successful extraction: chart_180_advanced_bar_grayscale_conversion_medium.png (attempt 1)\n"
     ]
    },
    {
     "name": "stdout",
     "output_type": "stream",
     "text": [
      "     Success\n",
      "\n",
      "Extracting 183/200: chart_181_medium_pie_grayscale_conversion_medium.png\n"
     ]
    },
    {
     "name": "stderr",
     "output_type": "stream",
     "text": [
      "INFO:httpx:HTTP Request: POST https://api.openai.com/v1/chat/completions \"HTTP/1.1 200 OK\"\n",
      "INFO:remaining_extraction:Successful extraction: chart_181_medium_pie_grayscale_conversion_medium.png (attempt 1)\n"
     ]
    },
    {
     "name": "stdout",
     "output_type": "stream",
     "text": [
      "     Success\n",
      "\n",
      "Extracting 184/200: chart_182_complex_bar_grayscale_conversion_medium.png\n"
     ]
    },
    {
     "name": "stderr",
     "output_type": "stream",
     "text": [
      "INFO:httpx:HTTP Request: POST https://api.openai.com/v1/chat/completions \"HTTP/1.1 200 OK\"\n",
      "INFO:remaining_extraction:Successful extraction: chart_182_complex_bar_grayscale_conversion_medium.png (attempt 1)\n"
     ]
    },
    {
     "name": "stdout",
     "output_type": "stream",
     "text": [
      "     Success\n",
      "\n",
      "Extracting 185/200: chart_182_complex_bar_rotation_medium.png\n"
     ]
    },
    {
     "name": "stderr",
     "output_type": "stream",
     "text": [
      "INFO:httpx:HTTP Request: POST https://api.openai.com/v1/chat/completions \"HTTP/1.1 200 OK\"\n",
      "INFO:remaining_extraction:Successful extraction: chart_182_complex_bar_rotation_medium.png (attempt 1)\n"
     ]
    },
    {
     "name": "stdout",
     "output_type": "stream",
     "text": [
      "     Success\n",
      "\n",
      "Extracting 186/200: chart_183_advanced_scatter_grayscale_conversion_medium.png\n"
     ]
    },
    {
     "name": "stderr",
     "output_type": "stream",
     "text": [
      "INFO:httpx:HTTP Request: POST https://api.openai.com/v1/chat/completions \"HTTP/1.1 200 OK\"\n",
      "INFO:remaining_extraction:Successful extraction: chart_183_advanced_scatter_grayscale_conversion_medium.png (attempt 1)\n"
     ]
    },
    {
     "name": "stdout",
     "output_type": "stream",
     "text": [
      "     Success\n",
      "\n",
      "Extracting 187/200: chart_184_advanced_bar_grayscale_conversion_medium.png\n"
     ]
    },
    {
     "name": "stderr",
     "output_type": "stream",
     "text": [
      "INFO:openai._base_client:Retrying request to /chat/completions in 0.494392 seconds\n",
      "INFO:httpx:HTTP Request: POST https://api.openai.com/v1/chat/completions \"HTTP/1.1 200 OK\"\n",
      "INFO:remaining_extraction:Successful extraction: chart_184_advanced_bar_grayscale_conversion_medium.png (attempt 1)\n"
     ]
    },
    {
     "name": "stdout",
     "output_type": "stream",
     "text": [
      "     Success\n",
      "\n",
      "Extracting 188/200: chart_185_advanced_bar_grayscale_conversion_medium.png\n"
     ]
    },
    {
     "name": "stderr",
     "output_type": "stream",
     "text": [
      "INFO:httpx:HTTP Request: POST https://api.openai.com/v1/chat/completions \"HTTP/1.1 200 OK\"\n",
      "INFO:remaining_extraction:Successful extraction: chart_185_advanced_bar_grayscale_conversion_medium.png (attempt 1)\n"
     ]
    },
    {
     "name": "stdout",
     "output_type": "stream",
     "text": [
      "     Success\n",
      "\n",
      "Extracting 189/200: chart_186_complex_pie_grayscale_conversion_medium.png\n"
     ]
    },
    {
     "name": "stderr",
     "output_type": "stream",
     "text": [
      "INFO:httpx:HTTP Request: POST https://api.openai.com/v1/chat/completions \"HTTP/1.1 200 OK\"\n",
      "INFO:remaining_extraction:Successful extraction: chart_186_complex_pie_grayscale_conversion_medium.png (attempt 1)\n"
     ]
    },
    {
     "name": "stdout",
     "output_type": "stream",
     "text": [
      "     Success\n",
      "\n",
      "Extracting 190/200: chart_187_advanced_pie_grayscale_conversion_medium.png\n"
     ]
    },
    {
     "name": "stderr",
     "output_type": "stream",
     "text": [
      "INFO:httpx:HTTP Request: POST https://api.openai.com/v1/chat/completions \"HTTP/1.1 200 OK\"\n",
      "INFO:remaining_extraction:Successful extraction: chart_187_advanced_pie_grayscale_conversion_medium.png (attempt 1)\n"
     ]
    },
    {
     "name": "stdout",
     "output_type": "stream",
     "text": [
      "     Success\n",
      "\n",
      "Extracting 191/200: chart_188_complex_bar_grayscale_conversion_medium.png\n"
     ]
    },
    {
     "name": "stderr",
     "output_type": "stream",
     "text": [
      "INFO:httpx:HTTP Request: POST https://api.openai.com/v1/chat/completions \"HTTP/1.1 200 OK\"\n",
      "INFO:remaining_extraction:Successful extraction: chart_188_complex_bar_grayscale_conversion_medium.png (attempt 1)\n"
     ]
    },
    {
     "name": "stdout",
     "output_type": "stream",
     "text": [
      "     Success\n",
      "\n",
      "Extracting 192/200: chart_189_complex_bar_grayscale_conversion_medium.png\n"
     ]
    },
    {
     "name": "stderr",
     "output_type": "stream",
     "text": [
      "INFO:httpx:HTTP Request: POST https://api.openai.com/v1/chat/completions \"HTTP/1.1 200 OK\"\n",
      "INFO:remaining_extraction:Successful extraction: chart_189_complex_bar_grayscale_conversion_medium.png (attempt 1)\n"
     ]
    },
    {
     "name": "stdout",
     "output_type": "stream",
     "text": [
      "     Success\n",
      "\n",
      "Extracting 193/200: chart_190_complex_area_grayscale_conversion_medium.png\n"
     ]
    },
    {
     "name": "stderr",
     "output_type": "stream",
     "text": [
      "INFO:httpx:HTTP Request: POST https://api.openai.com/v1/chat/completions \"HTTP/1.1 200 OK\"\n",
      "INFO:remaining_extraction:Successful extraction: chart_190_complex_area_grayscale_conversion_medium.png (attempt 1)\n"
     ]
    },
    {
     "name": "stdout",
     "output_type": "stream",
     "text": [
      "     Success\n",
      "\n",
      "Extracting 194/200: chart_191_medium_line_grayscale_conversion_medium.png\n"
     ]
    },
    {
     "name": "stderr",
     "output_type": "stream",
     "text": [
      "INFO:httpx:HTTP Request: POST https://api.openai.com/v1/chat/completions \"HTTP/1.1 200 OK\"\n",
      "INFO:remaining_extraction:Successful extraction: chart_191_medium_line_grayscale_conversion_medium.png (attempt 1)\n"
     ]
    },
    {
     "name": "stdout",
     "output_type": "stream",
     "text": [
      "     Success\n",
      "\n",
      "Extracting 195/200: chart_192_complex_scatter_grayscale_conversion_medium.png\n"
     ]
    },
    {
     "name": "stderr",
     "output_type": "stream",
     "text": [
      "INFO:httpx:HTTP Request: POST https://api.openai.com/v1/chat/completions \"HTTP/1.1 200 OK\"\n",
      "INFO:remaining_extraction:Successful extraction: chart_192_complex_scatter_grayscale_conversion_medium.png (attempt 1)\n"
     ]
    },
    {
     "name": "stdout",
     "output_type": "stream",
     "text": [
      "     Success\n",
      "\n",
      "Extracting 196/200: chart_193_complex_line_grayscale_conversion_medium.png\n"
     ]
    },
    {
     "name": "stderr",
     "output_type": "stream",
     "text": [
      "INFO:httpx:HTTP Request: POST https://api.openai.com/v1/chat/completions \"HTTP/1.1 200 OK\"\n",
      "INFO:remaining_extraction:Successful extraction: chart_193_complex_line_grayscale_conversion_medium.png (attempt 1)\n"
     ]
    },
    {
     "name": "stdout",
     "output_type": "stream",
     "text": [
      "     Success\n",
      "\n",
      "Extracting 197/200: chart_194_medium_pie_grayscale_conversion_medium.png\n"
     ]
    },
    {
     "name": "stderr",
     "output_type": "stream",
     "text": [
      "INFO:httpx:HTTP Request: POST https://api.openai.com/v1/chat/completions \"HTTP/1.1 200 OK\"\n",
      "INFO:remaining_extraction:Successful extraction: chart_194_medium_pie_grayscale_conversion_medium.png (attempt 1)\n"
     ]
    },
    {
     "name": "stdout",
     "output_type": "stream",
     "text": [
      "     Success\n",
      "\n",
      "Extracting 198/200: chart_195_advanced_line_grayscale_conversion_medium.png\n"
     ]
    },
    {
     "name": "stderr",
     "output_type": "stream",
     "text": [
      "INFO:httpx:HTTP Request: POST https://api.openai.com/v1/chat/completions \"HTTP/1.1 200 OK\"\n",
      "INFO:remaining_extraction:Successful extraction: chart_195_advanced_line_grayscale_conversion_medium.png (attempt 1)\n"
     ]
    },
    {
     "name": "stdout",
     "output_type": "stream",
     "text": [
      "     Success\n",
      "\n",
      "Extracting 199/200: chart_196_medium_line_grayscale_conversion_medium.png\n"
     ]
    },
    {
     "name": "stderr",
     "output_type": "stream",
     "text": [
      "INFO:httpx:HTTP Request: POST https://api.openai.com/v1/chat/completions \"HTTP/1.1 200 OK\"\n",
      "INFO:remaining_extraction:Successful extraction: chart_196_medium_line_grayscale_conversion_medium.png (attempt 1)\n"
     ]
    },
    {
     "name": "stdout",
     "output_type": "stream",
     "text": [
      "     Success\n",
      "\n",
      "Extracting 200/200: chart_197_complex_line_grayscale_conversion_medium.png\n"
     ]
    },
    {
     "name": "stderr",
     "output_type": "stream",
     "text": [
      "INFO:httpx:HTTP Request: POST https://api.openai.com/v1/chat/completions \"HTTP/1.1 200 OK\"\n",
      "INFO:remaining_extraction:Successful extraction: chart_197_complex_line_grayscale_conversion_medium.png (attempt 1)\n"
     ]
    },
    {
     "name": "stdout",
     "output_type": "stream",
     "text": [
      "     Success\n",
      "     Progress: 199 successful\n",
      "\n",
      " REMAINING EXTRACTIONS COMPLETE!\n",
      "============================================================\n",
      "New extractions completed: 199\n",
      "Failed extractions: 1\n",
      "Success rate: 97.5%\n"
     ]
    },
    {
     "ename": "KeyError",
     "evalue": "'total_cost'",
     "output_type": "error",
     "traceback": [
      "\u001b[31m---------------------------------------------------------------------------\u001b[39m",
      "\u001b[31mKeyError\u001b[39m                                  Traceback (most recent call last)",
      "\u001b[36mCell\u001b[39m\u001b[36m \u001b[39m\u001b[32mIn[2]\u001b[39m\u001b[32m, line 543\u001b[39m\n\u001b[32m    540\u001b[39m         \u001b[38;5;28mprint\u001b[39m(\u001b[33m\"\u001b[39m\u001b[38;5;130;01m\\n\u001b[39;00m\u001b[33mAll extractions appear to be complete!\u001b[39m\u001b[33m\"\u001b[39m)\n\u001b[32m    542\u001b[39m \u001b[38;5;28;01mif\u001b[39;00m \u001b[34m__name__\u001b[39m == \u001b[33m\"\u001b[39m\u001b[33m__main__\u001b[39m\u001b[33m\"\u001b[39m:\n\u001b[32m--> \u001b[39m\u001b[32m543\u001b[39m     \u001b[43mmain\u001b[49m\u001b[43m(\u001b[49m\u001b[43m)\u001b[49m\n",
      "\u001b[36mCell\u001b[39m\u001b[36m \u001b[39m\u001b[32mIn[2]\u001b[39m\u001b[32m, line 521\u001b[39m, in \u001b[36mmain\u001b[39m\u001b[34m()\u001b[39m\n\u001b[32m    519\u001b[39m \u001b[38;5;28mprint\u001b[39m(\u001b[33mf\u001b[39m\u001b[33m\"\u001b[39m\u001b[33mFailed extractions: \u001b[39m\u001b[38;5;132;01m{\u001b[39;00mfinal_stats[\u001b[33m'\u001b[39m\u001b[33mfailed_extractions\u001b[39m\u001b[33m'\u001b[39m]\u001b[38;5;132;01m}\u001b[39;00m\u001b[33m\"\u001b[39m)\n\u001b[32m    520\u001b[39m \u001b[38;5;28mprint\u001b[39m(\u001b[33mf\u001b[39m\u001b[33m\"\u001b[39m\u001b[33mSuccess rate: \u001b[39m\u001b[38;5;132;01m{\u001b[39;00mfinal_stats[\u001b[33m'\u001b[39m\u001b[33msuccess_rate\u001b[39m\u001b[33m'\u001b[39m]\u001b[38;5;132;01m:\u001b[39;00m\u001b[33m.1f\u001b[39m\u001b[38;5;132;01m}\u001b[39;00m\u001b[33m%\u001b[39m\u001b[33m\"\u001b[39m)\n\u001b[32m--> \u001b[39m\u001b[32m521\u001b[39m \u001b[38;5;28mprint\u001b[39m(\u001b[33mf\u001b[39m\u001b[33m\"\u001b[39m\u001b[33mTotal cost: $\u001b[39m\u001b[38;5;132;01m{\u001b[39;00m\u001b[43mfinal_stats\u001b[49m\u001b[43m[\u001b[49m\u001b[33;43m'\u001b[39;49m\u001b[33;43mtotal_cost\u001b[39;49m\u001b[33;43m'\u001b[39;49m\u001b[43m]\u001b[49m\u001b[38;5;132;01m:\u001b[39;00m\u001b[33m.2f\u001b[39m\u001b[38;5;132;01m}\u001b[39;00m\u001b[33m\"\u001b[39m)\n\u001b[32m    522\u001b[39m \u001b[38;5;28mprint\u001b[39m(\u001b[33mf\u001b[39m\u001b[33m\"\u001b[39m\u001b[33mAverage response time: \u001b[39m\u001b[38;5;132;01m{\u001b[39;00mfinal_stats[\u001b[33m'\u001b[39m\u001b[33mavg_response_time\u001b[39m\u001b[33m'\u001b[39m]\u001b[38;5;132;01m:\u001b[39;00m\u001b[33m.2f\u001b[39m\u001b[38;5;132;01m}\u001b[39;00m\u001b[33ms\u001b[39m\u001b[33m\"\u001b[39m)\n\u001b[32m    523\u001b[39m \u001b[38;5;28mprint\u001b[39m(\u001b[33mf\u001b[39m\u001b[33m\"\u001b[39m\u001b[33mErrors logged to CSV: \u001b[39m\u001b[38;5;132;01m{\u001b[39;00mfinal_stats[\u001b[33m'\u001b[39m\u001b[33mtotal_errors_logged\u001b[39m\u001b[33m'\u001b[39m]\u001b[38;5;132;01m}\u001b[39;00m\u001b[33m\"\u001b[39m)\n",
      "\u001b[31mKeyError\u001b[39m: 'total_cost'"
     ]
    }
   ],
   "source": [
    "#remaining_extraction_pipeline.py for 200 perturbations\n",
    "import os\n",
    "import json\n",
    "import base64\n",
    "import pandas as pd\n",
    "import numpy as np\n",
    "from datetime import datetime\n",
    "import time\n",
    "import logging\n",
    "from pathlib import Path\n",
    "import openai\n",
    "from dotenv import load_dotenv\n",
    "import random\n",
    "from PIL import Image\n",
    "import traceback\n",
    "import csv\n",
    "\n",
    "# Setup logging\n",
    "logging.basicConfig(level=logging.INFO)\n",
    "logger = logging.getLogger('remaining_extraction')\n",
    "\n",
    "print(\"=\" * 80)\n",
    "print(\" REMAINING PERTURBATION EXTRACTION PIPELINE\")\n",
    "print(\" Identifying and Processing Remaining 200 Extractions\")\n",
    "print(\"=\" * 80)\n",
    "\n",
    "# Load environment\n",
    "load_dotenv()\n",
    "OPENAI_API_KEY = os.getenv('OPENAI_API_KEY')\n",
    "\n",
    "if not OPENAI_API_KEY or OPENAI_API_KEY == \"your-openai-api-key-here\":\n",
    "    print(\"  OpenAI API key not configured!\")\n",
    "    print(\" Please add your API key to .env file\")\n",
    "    exit(1)\n",
    "\n",
    "# Initialize OpenAI client\n",
    "client = openai.OpenAI(api_key=OPENAI_API_KEY)\n",
    "\n",
    "class RemainingExtractionPipeline:\n",
    "    \"\"\"Enhanced pipeline for remaining extractions with comprehensive failure logging\"\"\"\n",
    "    \n",
    "    def __init__(self, client):\n",
    "        self.client = client\n",
    "        self.extraction_stats = {\n",
    "            'total_attempts': 0,\n",
    "            'successful_extractions': 0,\n",
    "            'failed_extractions': 0,\n",
    "            'total_cost': 0.0,\n",
    "            'response_times': []\n",
    "        }\n",
    "        \n",
    "        # Enhanced error tracking\n",
    "        self.error_log = []\n",
    "        self.failed_files_record = set()\n",
    "        \n",
    "        # Create directories\n",
    "        Path(\"data/extractions\").mkdir(parents=True, exist_ok=True)\n",
    "        Path(\"data/logs\").mkdir(parents=True, exist_ok=True)\n",
    "        \n",
    "        # Initialize failure CSV log\n",
    "        self.failure_log_path = \"data/logs/extraction_failures.csv\"\n",
    "        self._initialize_failure_log()\n",
    "        \n",
    "        # Professional extraction prompt\n",
    "        self.extraction_prompt = \"\"\"\n",
    "You are a professional data analyst. Your task is to extract numerical values and associated labels from this chart image with maximum precision and accuracy.\n",
    "\n",
    "CRITICAL REQUIREMENTS:\n",
    "1. Extract ALL visible data points with exact numerical values accurately\n",
    "2. Use the EXACT category/label names shown in the chart\n",
    "3. Identify the chart type accurately\n",
    "4. Report your confidence level honestly\n",
    "5. Note any extraction difficulties\n",
    "\n",
    "Return ONLY a valid JSON object in this EXACT format:\n",
    "{\n",
    "  \"chart_title\": \"Exact title from the chart\",\n",
    "  \"chart_type\": \"bar/pie/line/scatter/area/stacked_bar/grouped_bar\",\n",
    "  \"data\": [\n",
    "    {\"category\": \"Category_1\", \"value\": numeric_value},\n",
    "    {\"category\": \"Category_2\", \"value\": numeric_value}\n",
    "  ],\n",
    "  \"extraction_confidence\": \"high/medium/low\",\n",
    "  \"extraction_notes\": \"Any issues, ambiguities, or observations about the chart\",\n",
    "  \"data_completeness\": \"complete/partial/incomplete\"\n",
    "}\n",
    "\n",
    "IMPORTANT: \n",
    "- For pie charts, ensure percentages sum to approximately 100%\n",
    "- For numeric values, use appropriate precision (1-2 decimal places)\n",
    "- If text is unclear, report \"low\" confidence and note the issue\n",
    "- Extract ALL visible data series if multiple exist\n",
    "\"\"\"\n",
    "\n",
    "    def _initialize_failure_log(self):\n",
    "        \"\"\"Initialize CSV logging for failures\"\"\"\n",
    "        if not Path(self.failure_log_path).exists():\n",
    "            # Create header for new CSV\n",
    "            with open(self.failure_log_path, 'w', newline='', encoding='utf-8') as csvfile:\n",
    "                fieldnames = [\n",
    "                    'extraction_id', 'image_path', 'error_timestamp', \n",
    "                    'error_type', 'error_message', 'response_time',\n",
    "                    'original_chart_id', 'perturbation_type', 'intensity',\n",
    "                    'retry_attempt', 'extraction_phase'\n",
    "                ]\n",
    "                writer = csv.DictWriter(csvfile, fieldnames=fieldnames)\n",
    "                writer.writeheader()\n",
    "            print(f\"  Created failure log: {self.failure_log_path}\")\n",
    "        else:\n",
    "            # Load existing failures\n",
    "            self._load_existing_failures()\n",
    "            print(f\"  Loaded existing failure log: {self.failure_log_path}\")\n",
    "    \n",
    "    def _load_existing_failures(self):\n",
    "        \"\"\"Load previously failed files to avoid re-attempting immediately\"\"\"\n",
    "        try:\n",
    "            df_failures = pd.read_csv(self.failure_log_path)\n",
    "            # Get unique failed file paths\n",
    "            self.failed_files_record = set(df_failures['image_path'].unique())\n",
    "            print(f\"  Found {len(self.failed_files_record)} previously failed files\")\n",
    "        except Exception as e:\n",
    "            print(f\"   Could not load existing failures: {e}\")\n",
    "            self.failed_files_record = set()\n",
    "\n",
    "    def identify_remaining_extractions(self):\n",
    "        \"\"\"Identify which perturbations still need to be extracted\"\"\"\n",
    "        \n",
    "        print(\"\\n IDENTIFYING REMAINING EXTRACTIONS\")\n",
    "        print(\"-\" * 60)\n",
    "        \n",
    "        # Get all available perturbation files\n",
    "        perturbation_dir = Path(\"data/perturbations\")\n",
    "        if not perturbation_dir.exists():\n",
    "            print(f\"  Perturbation directory not found: {perturbation_dir}\")\n",
    "            return []\n",
    "        \n",
    "        all_perturbations = list(perturbation_dir.glob(\"*.png\"))\n",
    "        print(f\"  Total perturbation files available: {len(all_perturbations)}\")\n",
    "        \n",
    "        # Get all completed extractions\n",
    "        extraction_dir = Path(\"data/extractions\")\n",
    "        if not extraction_dir.exists():\n",
    "            print(f\"  Extraction directory not found: {extraction_dir}\")\n",
    "            return []\n",
    "        \n",
    "        completed_extractions = set()\n",
    "        extraction_files = list(extraction_dir.glob(\"*.json\"))\n",
    "        \n",
    "        print(f\"  Extraction files found: {len(extraction_files)}\")\n",
    "        \n",
    "        # Parse completed extraction IDs\n",
    "        for ext_file in extraction_files:\n",
    "            # Extract the base name without extension and without \"_original\" suffix\n",
    "            base_name = ext_file.stem\n",
    "            if base_name.endswith('_original'):\n",
    "                # Skip original extractions, we only care about perturbations\n",
    "                continue\n",
    "            \n",
    "            completed_extractions.add(base_name)\n",
    "        \n",
    "        print(f\"  Completed perturbation extractions: {len(completed_extractions)}\")\n",
    "        \n",
    "        # Identify remaining perturbations\n",
    "        remaining_perturbations = []\n",
    "        \n",
    "        for pert_file in all_perturbations:\n",
    "            # Create expected extraction ID from perturbation filename\n",
    "            expected_extraction_id = pert_file.stem  # Remove .png extension\n",
    "            \n",
    "            # Check if this perturbation has been extracted\n",
    "            if expected_extraction_id not in completed_extractions:\n",
    "                # Check if this file previously failed (skip if it did)\n",
    "                if str(pert_file) not in self.failed_files_record:\n",
    "                    remaining_perturbations.append(pert_file)\n",
    "                else:\n",
    "                    print(f\" ⏭️  Skipping previously failed: {pert_file.name}\")\n",
    "        \n",
    "        print(f\"  Remaining perturbations to extract: {len(remaining_perturbations)}\")\n",
    "        \n",
    "        # Show breakdown by perturbation type\n",
    "        self._analyze_remaining_breakdown(remaining_perturbations)\n",
    "        \n",
    "        return remaining_perturbations\n",
    "    \n",
    "    def _analyze_remaining_breakdown(self, remaining_perturbations):\n",
    "        \"\"\"Analyze breakdown of remaining perturbations\"\"\"\n",
    "        \n",
    "        breakdown = {}\n",
    "        intensity_breakdown = {}\n",
    "        \n",
    "        for pert_file in remaining_perturbations:\n",
    "            filename_parts = pert_file.stem.split('_')\n",
    "            \n",
    "            if len(filename_parts) >= 3:\n",
    "                perturbation_type = filename_parts[-2]\n",
    "                intensity = filename_parts[-1]\n",
    "                \n",
    "                breakdown[perturbation_type] = breakdown.get(perturbation_type, 0) + 1\n",
    "                intensity_breakdown[intensity] = intensity_breakdown.get(intensity, 0) + 1\n",
    "        \n",
    "        if breakdown:\n",
    "            print(f\"\\n  REMAINING BY PERTURBATION TYPE:\")\n",
    "            for pert_type, count in sorted(breakdown.items()):\n",
    "                print(f\"    {pert_type}: {count}\")\n",
    "            \n",
    "            print(f\"\\n  REMAINING BY INTENSITY:\")\n",
    "            for intensity, count in sorted(intensity_breakdown.items()):\n",
    "                print(f\"    {intensity}: {count}\")\n",
    "\n",
    "    def extract_data(self, image_path, metadata=None):\n",
    "        \"\"\"Extract data from a single chart with enhanced error handling\"\"\"\n",
    "        \n",
    "        extraction_id = f\"ext_{int(time.time())}_{random.randint(1000, 9999)}\"\n",
    "        start_time = time.time()\n",
    "        \n",
    "        # Parse metadata from filename\n",
    "        filename_parts = Path(image_path).stem.split('_')\n",
    "        original_chart_id = \"unknown\"\n",
    "        perturbation_type = \"unknown\"\n",
    "        intensity = \"unknown\"\n",
    "        \n",
    "        if len(filename_parts) >= 3:\n",
    "            # Reconstruct original chart ID (everything except last 2 parts)\n",
    "            original_chart_id = '_'.join(filename_parts[:-2])\n",
    "            perturbation_type = filename_parts[-2]\n",
    "            intensity = filename_parts[-1]\n",
    "        \n",
    "        try:\n",
    "            # Validate image\n",
    "            if not Path(image_path).exists():\n",
    "                raise FileNotFoundError(f\"Image not found: {image_path}\")\n",
    "            \n",
    "            # Encode image\n",
    "            base64_image = self._encode_image(image_path)\n",
    "            \n",
    "            # Prepare API request\n",
    "            messages = [\n",
    "                {\n",
    "                    \"role\": \"user\",\n",
    "                    \"content\": [\n",
    "                        {\"type\": \"text\", \"text\": self.extraction_prompt},\n",
    "                        {\n",
    "                            \"type\": \"image_url\",\n",
    "                            \"image_url\": {\n",
    "                                \"url\": f\"data:image/png;base64,{base64_image}\",\n",
    "                                \"detail\": \"high\"\n",
    "                            }\n",
    "                        }\n",
    "                    ]\n",
    "                }\n",
    "            ]\n",
    "            \n",
    "            # Execute extraction with retries\n",
    "            max_retries = 3\n",
    "            for attempt in range(max_retries):\n",
    "                try:\n",
    "                    self.extraction_stats['total_attempts'] += 1\n",
    "                    \n",
    "                    response = self.client.chat.completions.create(\n",
    "                        model=\"gpt-4o\",\n",
    "                        messages=messages,\n",
    "                        max_tokens=2000,\n",
    "                        temperature=0.1,\n",
    "                        timeout=30\n",
    "                    )\n",
    "                    \n",
    "                    # Parse response\n",
    "                    content = response.choices[0].message.content\n",
    "                    extracted_data = self._parse_json_response(content)\n",
    "                    \n",
    "                    if extracted_data:\n",
    "                        # Add metadata\n",
    "                        extracted_data['_extraction_metadata'] = {\n",
    "                            'extraction_id': extraction_id,\n",
    "                            'image_path': str(image_path),\n",
    "                            'extraction_timestamp': datetime.now().isoformat(),\n",
    "                            'model': \"gpt-4o\",\n",
    "                            'attempt_number': attempt + 1,\n",
    "                            'response_time': time.time() - start_time,\n",
    "                            'original_chart_id': original_chart_id,\n",
    "                            'perturbation_type': perturbation_type,\n",
    "                            'intensity': intensity\n",
    "                        }\n",
    "                        \n",
    "        # Update stats\n",
    "                        response_time = time.time() - start_time\n",
    "                        self.extraction_stats['successful_extractions'] += 1\n",
    "                        self.extraction_stats['response_times'].append(response_time)\n",
    "                        \n",
    "                        logger.info(f\"Successful extraction: {Path(image_path).name} (attempt {attempt + 1})\")\n",
    "                        return extracted_data\n",
    "                    \n",
    "                except Exception as api_error:\n",
    "                    logger.warning(f\"API attempt {attempt + 1} failed for {Path(image_path).name}: {api_error}\")\n",
    "                    \n",
    "                    # Log this failure attempt\n",
    "                    self._log_failure(\n",
    "                        extraction_id=extraction_id,\n",
    "                        image_path=str(image_path),\n",
    "                        error_type=type(api_error).__name__,\n",
    "                        error_message=str(api_error),\n",
    "                        response_time=time.time() - start_time,\n",
    "                        original_chart_id=original_chart_id,\n",
    "                        perturbation_type=perturbation_type,\n",
    "                        intensity=intensity,\n",
    "                        retry_attempt=attempt + 1,\n",
    "                        extraction_phase=\"remaining_extractions\"\n",
    "                    )\n",
    "                    \n",
    "                    if attempt < max_retries - 1:\n",
    "                        time.sleep(2 * (attempt + 1))  # Exponential backoff\n",
    "                    else:\n",
    "                        raise api_error\n",
    "            \n",
    "            # If we get here, all retries failed\n",
    "            raise Exception(\"All retry attempts exhausted\")\n",
    "            \n",
    "        except Exception as e:\n",
    "            # Log final failure\n",
    "            self.extraction_stats['failed_extractions'] += 1\n",
    "            \n",
    "            final_error = {\n",
    "                'extraction_id': extraction_id,\n",
    "                'image_path': str(image_path),\n",
    "                'error_timestamp': datetime.now().isoformat(),\n",
    "                'error_type': type(e).__name__,\n",
    "                'error_message': str(e),\n",
    "                'response_time': time.time() - start_time,\n",
    "                'original_chart_id': original_chart_id,\n",
    "                'perturbation_type': perturbation_type,\n",
    "                'intensity': intensity,\n",
    "                'retry_attempt': max_retries,\n",
    "                'extraction_phase': \"remaining_extractions\"\n",
    "            }\n",
    "            \n",
    "            self.error_log.append(final_error)\n",
    "            self.failed_files_record.add(str(image_path))\n",
    "            \n",
    "            # Log to CSV\n",
    "            self._log_failure(**final_error)\n",
    "            \n",
    "            logger.error(f\"Extraction failed for {Path(image_path).name}: {e}\")\n",
    "            return None\n",
    "\n",
    "    def _log_failure(self, **failure_data):\n",
    "        \"\"\"Log failure to CSV file\"\"\"\n",
    "        try:\n",
    "            with open(self.failure_log_path, 'a', newline='', encoding='utf-8') as csvfile:\n",
    "                fieldnames = [\n",
    "                    'extraction_id', 'image_path', 'error_timestamp', \n",
    "                    'error_type', 'error_message', 'response_time',\n",
    "                    'original_chart_id', 'perturbation_type', 'intensity',\n",
    "                    'retry_attempt', 'extraction_phase'\n",
    "                ]\n",
    "                writer = csv.DictWriter(csvfile, fieldnames=fieldnames)\n",
    "                writer.writerow(failure_data)\n",
    "        except Exception as e:\n",
    "            logger.error(f\"Could not log failure to CSV: {e}\")\n",
    "\n",
    "    def _encode_image(self, image_path):\n",
    "        \"\"\"Encode image to base64 with validation\"\"\"\n",
    "        try:\n",
    "            # Validate image first\n",
    "            with Image.open(image_path) as img:\n",
    "                # Ensure RGB mode\n",
    "                if img.mode != 'RGB':\n",
    "                    img = img.convert('RGB')\n",
    "                \n",
    "                # Check reasonable size\n",
    "                if img.size[0] * img.size[1] > 10000000:  # 10MP limit\n",
    "                    # Resize if too large\n",
    "                    img.thumbnail((3000, 3000), Image.Resampling.LANCZOS)\n",
    "            \n",
    "            # Encode to base64\n",
    "            with open(image_path, \"rb\") as image_file:\n",
    "                return base64.b64encode(image_file.read()).decode('utf-8')\n",
    "                \n",
    "        except Exception as e:\n",
    "            raise Exception(f\"Image encoding failed: {e}\")\n",
    "\n",
    "    def _parse_json_response(self, content):\n",
    "        \"\"\"Parse JSON from GPT-4o response with multiple strategies\"\"\"\n",
    "        \n",
    "        if not content:\n",
    "            return None\n",
    "        \n",
    "        # Strategy 1: Direct JSON parsing\n",
    "        try:\n",
    "            return json.loads(content.strip())\n",
    "        except json.JSONDecodeError:\n",
    "            pass\n",
    "        \n",
    "        # Strategy 2: Extract JSON block\n",
    "        try:\n",
    "            json_start = content.find('{')\n",
    "            json_end = content.rfind('}') + 1\n",
    "            if json_start != -1 and json_end > json_start:\n",
    "                json_str = content[json_start:json_end]\n",
    "                return json.loads(json_str)\n",
    "        except json.JSONDecodeError:\n",
    "            pass\n",
    "        \n",
    "        # Strategy 3: Look for ```json blocks\n",
    "        try:\n",
    "            if '```json' in content:\n",
    "                start = content.find('```json') + 7\n",
    "                end = content.find('```', start)\n",
    "                if end != -1:\n",
    "                    json_str = content[start:end].strip()\n",
    "                    return json.loads(json_str)\n",
    "        except json.JSONDecodeError:\n",
    "            pass\n",
    "        \n",
    "        logger.warning(f\"Could not parse JSON from response: {content[:200]}...\")\n",
    "        return None\n",
    "\n",
    "    def execute_remaining_extractions(self, remaining_perturbations, max_extractions=200):\n",
    "        \"\"\"Execute extractions for remaining perturbations\"\"\"\n",
    "        \n",
    "        print(f\"\\n STARTING REMAINING EXTRACTIONS\")\n",
    "        print(f\" Available perturbations: {len(remaining_perturbations)}\")\n",
    "        \n",
    "        # Take exactly 200 or all available if less than 200\n",
    "        if len(remaining_perturbations) > max_extractions:\n",
    "            selected_perturbations = remaining_perturbations[:max_extractions]\n",
    "            print(f\" Selected first {max_extractions} perturbations for extraction\")\n",
    "        else:\n",
    "            selected_perturbations = remaining_perturbations\n",
    "            print(f\" Processing all {len(selected_perturbations)} remaining perturbations\")\n",
    "        \n",
    "        extraction_results = {}\n",
    "        \n",
    "        for i, pert_path in enumerate(selected_perturbations):\n",
    "            print(f\"\\nExtracting {i+1}/{len(selected_perturbations)}: {pert_path.name}\")\n",
    "            \n",
    "            # Extract data\n",
    "            extracted_data = self.extract_data(pert_path)\n",
    "            \n",
    "            if extracted_data:\n",
    "                # Save extraction result\n",
    "                result_key = pert_path.stem\n",
    "                result_path = f\"data/extractions/{result_key}.json\"\n",
    "                \n",
    "                with open(result_path, 'w') as f:\n",
    "                    json.dump(extracted_data, f, indent=2)\n",
    "                \n",
    "                extraction_results[result_key] = {\n",
    "                    'type': 'perturbation',\n",
    "                    'extracted_data': extracted_data,\n",
    "                    'file_path': result_path\n",
    "                }\n",
    "                \n",
    "                print(f\"     Success\")\n",
    "            else:\n",
    "                print(f\"     Failed\")\n",
    "            \n",
    "            # Progress update\n",
    "            if (i + 1) % 25 == 0:\n",
    "                print(f\"     Progress: {self.extraction_stats['successful_extractions']} successful\")\n",
    "            \n",
    "            # Rate limiting\n",
    "            time.sleep(1)\n",
    "        \n",
    "        return extraction_results\n",
    "\n",
    "    def get_extraction_statistics(self):\n",
    "        \"\"\"Get comprehensive extraction statistics\"\"\"\n",
    "        \n",
    "        total_attempts = self.extraction_stats['total_attempts']\n",
    "        successful = self.extraction_stats['successful_extractions']\n",
    "        failed = self.extraction_stats['failed_extractions']\n",
    "        \n",
    "        stats = {\n",
    "            'total_attempts': total_attempts,\n",
    "            'successful_extractions': successful,\n",
    "            'failed_extractions': failed,\n",
    "            'success_rate': (successful / max(1, total_attempts)) * 100,\n",
    "            'avg_response_time': np.mean(self.extraction_stats['response_times']) if self.extraction_stats['response_times'] else 0,\n",
    "            'total_errors_logged': len(self.error_log)\n",
    "        }\n",
    "        \n",
    "        return stats\n",
    "\n",
    "def main():\n",
    "    \"\"\"Main execution function\"\"\"\n",
    "    \n",
    "    # Initialize pipeline\n",
    "    pipeline = RemainingExtractionPipeline(client)\n",
    "    \n",
    "    # Step 1: Identify remaining extractions\n",
    "    remaining_perturbations = pipeline.identify_remaining_extractions()\n",
    "    \n",
    "    if not remaining_perturbations:\n",
    "        print(\"\\n No remaining perturbations found! All extractions appear complete.\")\n",
    "        return\n",
    "    \n",
    "    # Step 2: Execute extractions for remaining perturbations\n",
    "    if len(remaining_perturbations) > 0:\n",
    "        print(f\"\\n EXTRACTION PLAN:\")\n",
    "        print(f\" Remaining perturbations: {len(remaining_perturbations)}\")\n",
    "        print(f\" Target extractions: {min(200, len(remaining_perturbations))}\")\n",
    "        print(f\" Estimated cost: ${min(200, len(remaining_perturbations)) * 0.03:.2f}\")\n",
    "        \n",
    "        # Confirm before proceeding\n",
    "        response = input(f\"\\n  Proceed with remaining extractions? (y/N): \")\n",
    "        if response.lower() != 'y':\n",
    "            print(\" Extraction cancelled by user\")\n",
    "            return\n",
    "        \n",
    "        # Execute extractions\n",
    "        results = pipeline.execute_remaining_extractions(remaining_perturbations, max_extractions=200)\n",
    "        \n",
    "        # Final statistics\n",
    "        final_stats = pipeline.get_extraction_statistics()\n",
    "        \n",
    "        print(f\"\\n REMAINING EXTRACTIONS COMPLETE!\")\n",
    "        print(\"=\" * 60)\n",
    "        print(f\"New extractions completed: {final_stats['successful_extractions']}\")\n",
    "        print(f\"Failed extractions: {final_stats['failed_extractions']}\")\n",
    "        print(f\"Success rate: {final_stats['success_rate']:.1f}%\")\n",
    "        print(f\"Total cost: ${final_stats['total_cost']:.2f}\")\n",
    "        print(f\"Average response time: {final_stats['avg_response_time']:.2f}s\")\n",
    "        print(f\"Errors logged to CSV: {final_stats['total_errors_logged']}\")\n",
    "        \n",
    "        # Save final summary\n",
    "        summary = {\n",
    "            'remaining_extraction_complete': True,\n",
    "            'new_extractions': final_stats['successful_extractions'],\n",
    "            'final_statistics': final_stats,\n",
    "            'completion_timestamp': datetime.now().isoformat()\n",
    "        }\n",
    "        \n",
    "        with open('data/logs/remaining_extraction_summary.json', 'w') as f:\n",
    "            json.dump(summary, f, indent=2)\n",
    "        \n",
    "        print(f\"\\n Summary saved to: data/logs/remaining_extraction_summary.json\")\n",
    "        print(f\" Failure log available at: {pipeline.failure_log_path}\")\n",
    "        \n",
    "    else:\n",
    "        print(\"\\nAll extractions appear to be complete!\")\n",
    "\n",
    "if __name__ == \"__main__\":\n",
    "    main()"
   ]
  }
 ],
 "metadata": {
  "kernelspec": {
   "display_name": "dissertation_env",
   "language": "python",
   "name": "python3"
  },
  "language_info": {
   "codemirror_mode": {
    "name": "ipython",
    "version": 3
   },
   "file_extension": ".py",
   "mimetype": "text/x-python",
   "name": "python",
   "nbconvert_exporter": "python",
   "pygments_lexer": "ipython3",
   "version": "3.12.7"
  }
 },
 "nbformat": 4,
 "nbformat_minor": 5
}
